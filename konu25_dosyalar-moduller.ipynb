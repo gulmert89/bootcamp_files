{
 "cells": [
  {
   "cell_type": "markdown",
   "metadata": {},
   "source": [
    "## dosya okuma\n",
    "#### (bkz: sorular  için çift \"##\")"
   ]
  },
  {
   "cell_type": "code",
   "execution_count": 14,
   "metadata": {
    "scrolled": false
   },
   "outputs": [
    {
     "name": "stdout",
     "output_type": "stream",
     "text": [
      "DÃ¶rtnala gelip Uzak Asya'dan\n",
      " \n",
      "Akdeniz'e bir kÄ±srak baÅŸÄ± gibi uz\n",
      "DÃ¶rtnala gelip Uzak Asya'dan\n",
      "29\n"
     ]
    }
   ],
   "source": [
    "with open(\"davet.txt\", \"r\") as f:    ## encoding belirtmeyince bazı TR karakterleri bozuk gösteriyor. peki default encodin ne peki?\n",
    "    text1 = f.read(29)    # ilk 29 karakter\n",
    "    text2 = f.read(38)    # sonraki 38 karakter\n",
    "    f.seek(0)    # cursor'u 0 noktasına getiriyoruz\n",
    "    text3 = f.read(29)    # cursor başa geldiğinden ilk 29 karakteri okuyoruz\n",
    "    cursor_position = f.tell()\n",
    "print(text1, text2, text3, cursor_position, sep=\"\\n\")"
   ]
  },
  {
   "cell_type": "code",
   "execution_count": 2,
   "metadata": {},
   "outputs": [
    {
     "name": "stdout",
     "output_type": "stream",
     "text": [
      "Dörtnala gelip Uzak Asya'dan \n",
      "Akdeniz'e bir kısrak başı gibi uzanan\n",
      "        bu memleket, bizim.\n",
      "Bilekler kan içinde, dişler kenetli, ayaklar çıplak\n",
      "ve ipek bir halıya benziyen toprak,\n",
      "        bu cehennem, bu cennet bizim.\n",
      "Kapansın el kapıları, bir daha açılmasın,\n",
      "yok edin insanın insana kulluğunu,\n",
      "        bu dâvet bizim....\n",
      "Yaşamak bir agaç gibi tek ve hür\n",
      "ve bir orman gibi kardeşçesine,\n",
      "        bu hasret bizim...\n"
     ]
    }
   ],
   "source": [
    "with open(\"davet.txt\", \"r\", encoding=\"utf8\") as f:    ## dosya ANSI iken bu encoding= olmadı.\n",
    "    text_full = f.read()\n",
    "print(text_full)"
   ]
  },
  {
   "cell_type": "code",
   "execution_count": 3,
   "metadata": {
    "scrolled": false
   },
   "outputs": [
    {
     "name": "stdout",
     "output_type": "stream",
     "text": [
      "Dörtnala gelip Uzak Asya'dan \n",
      "\n",
      "Akdeniz'e bir kısrak başı gibi uzanan\n",
      "\n",
      "['        bu memleket, bizim.\\n', 'Bilekler kan içinde, dişler kenetli, ayaklar çıplak\\n', 've ipek bir halıya benziyen toprak,\\n', '        bu cehennem, bu cennet bizim.\\n', 'Kapansın el kapıları, bir daha açılmasın,\\n', 'yok edin insanın insana kulluğunu,\\n', '        bu dâvet bizim....\\n', 'Yaşamak bir agaç gibi tek ve hür\\n', 've bir orman gibi kardeşçesine,\\n', '        bu hasret bizim...']\n"
     ]
    }
   ],
   "source": [
    "with open(\"davet.txt\", \"r\", encoding=\"utf8\") as f:    ## \"r+\", \"w+\" gibi ifadeler ne işe yarıyor?\n",
    "    f_line1 = f.readline()    # ilk satırı okuyacak\n",
    "    f_line2 = f.readline()    # ikinci satırı okuyacak\n",
    "    f_remaining_lines = f.readlines()    # KALAN satırları okuyacak\n",
    "print(f_line1, f_line2, f_remaining_lines, sep=\"\\n\")"
   ]
  },
  {
   "cell_type": "code",
   "execution_count": 4,
   "metadata": {
    "scrolled": true
   },
   "outputs": [
    {
     "name": "stdout",
     "output_type": "stream",
     "text": [
      "[\"Dörtnala gelip Uzak Asya'dan \\n\", \"Akdeniz'e bir kısrak başı gibi uzanan\\n\", '        bu memleket, bizim.\\n', 'Bilekler kan içinde, dişler kenetli, ayaklar çıplak\\n', 've ipek bir halıya benziyen toprak,\\n', '        bu cehennem, bu cennet bizim.\\n', 'Kapansın el kapıları, bir daha açılmasın,\\n', 'yok edin insanın insana kulluğunu,\\n', '        bu dâvet bizim....\\n', 'Yaşamak bir agaç gibi tek ve hür\\n', 've bir orman gibi kardeşçesine,\\n', '        bu hasret bizim...']\n",
      "\n",
      "12\n"
     ]
    }
   ],
   "source": [
    "with open(\"davet.txt\", \"r\", encoding=\"utf8\") as f:\n",
    "    f_lines = f.readlines()    # hepsini okuyor tek seferde\n",
    "print(f_lines)    ## print(*f_lines, sep=\"\") ile unpack edince braketsiz, temiz gösteriyor\n",
    "print(\"\\n\",len(f_lines), sep=\"\")    ## kaç dize olduğunu yazdırdım"
   ]
  },
  {
   "cell_type": "markdown",
   "metadata": {},
   "source": [
    "## dosya yazma"
   ]
  },
  {
   "cell_type": "code",
   "execution_count": 5,
   "metadata": {},
   "outputs": [
    {
     "name": "stdout",
     "output_type": "stream",
     "text": [
      "Satır 1\n",
      "Satır 2\n",
      "\n"
     ]
    }
   ],
   "source": [
    "with open(\"örnek.txt\", \"w\", encoding=\"utf8\") as f:    ## encoding= koymayınca, aşağıda TR karakter olduğu için hata verdi!\n",
    "    f.write(\"Satır 1\\n\")\n",
    "    f.write(\"Satır 2\\n\")\n",
    "    \n",
    "with open(\"örnek.txt\", \"r\", encoding=\"utf8\") as f:    ## encoding= koymayınca TR karakterleri kötü okudu\n",
    "    ornek = f.read()\n",
    "print(ornek)"
   ]
  },
  {
   "cell_type": "code",
   "execution_count": 10,
   "metadata": {},
   "outputs": [
    {
     "name": "stdout",
     "output_type": "stream",
     "text": [
      "Satır 1\n",
      "Satır 2\n",
      "Sonradan eklenen satır 3\n",
      "Sonradan eklenen satır 3\n",
      "\n"
     ]
    }
   ],
   "source": [
    "with open(\"örnek.txt\", \"a\", encoding=\"utf8\") as f:    ## yanlışlıkla iki kere ekledim. son satır nasıl siliniyor?\n",
    "    f.write(\"Sonradan eklenen satır 3\\n\")\n",
    "with open(\"örnek.txt\", \"r\", encoding=\"utf8\") as f:\n",
    "    ornek = f.read()\n",
    "print(ornek)"
   ]
  },
  {
   "cell_type": "code",
   "execution_count": 7,
   "metadata": {},
   "outputs": [
    {
     "name": "stdout",
     "output_type": "stream",
     "text": [
      "Dörtnala gelip Uzak Asya'dan \n",
      "Akdeniz'e bir kısrak başı gibi uzanan\n",
      "        bu memleket, bizim.\n",
      "\n",
      "Bilekler kan içinde, dişler kenetli, ayaklar çıplak\n",
      "ve ipek bir halıya benziyen toprak,\n",
      "        bu cehennem, bu cennet bizim.\n",
      "\n",
      "Kapansın el kapıları, bir daha açılmasın,\n",
      "yok edin insanın insana kulluğunu,\n",
      "        bu dâvet bizim....\n",
      "\n",
      "Yaşamak bir agaç gibi tek ve hür\n",
      "ve bir orman gibi kardeşçesine,\n",
      "        bu hasret bizim...\n",
      "\n"
     ]
    }
   ],
   "source": [
    "# her bir satır arasına boşluk koyalım\n",
    "with open(\"davet.txt\", \"r\", encoding=\"utf8\") as f:\n",
    "    dizeler = f.readlines()\n",
    "    \n",
    "f = open(\"davet_bosluklu.txt\", \"w\", encoding=\"utf8\")    ## yeni dosya açtık\n",
    "for i in range(0, len(dizeler), 3):    ## her 3 satırı alt alta yazdık, ardından \\n koyduk ve diğer 3 satıra geçtik.\n",
    "    for j in range(3):\n",
    "        f.write(dizeler[i+j])\n",
    "    f.write(\"\\n\")\n",
    "f.close()    ## 3 satırda bir boşluk bırakarak dosyayı yazdık ve kapattık.\n",
    "\n",
    "with open(\"davet_bosluklu.txt\", \"r\", encoding=\"utf8\") as f:    ## şimdi de yazdığımız dosyayı okuyoruz.\n",
    "    oku = f. read()\n",
    "print(oku)"
   ]
  },
  {
   "cell_type": "markdown",
   "metadata": {},
   "source": [
    "## fonksiyonlar"
   ]
  },
  {
   "cell_type": "code",
   "execution_count": 8,
   "metadata": {},
   "outputs": [
    {
     "name": "stdout",
     "output_type": "stream",
     "text": [
      "Fonksiyonlu liste: [2, 4, 6, 8]\n",
      "Lambda'lı liste: [2, 4, 6, 8]\n"
     ]
    }
   ],
   "source": [
    "def cift_mi(x):    \n",
    "    if x%2==0:        \n",
    "        return True\n",
    "    else:\n",
    "        return False\n",
    "print( \"Fonksiyonlu liste:\", list(filter(cift_mi, range(1,10))) )\n",
    "# Yukarıda cift_mi fonksiyonunu çağırırken () kullanmadığımız dikkatinizi çekmiştir. Aynı işlemi lambda ile yapalım:\n",
    "print( \"Lambda'lı liste:\", list(filter(lambda x: x%2==0,range(1,10))) )"
   ]
  },
  {
   "cell_type": "markdown",
   "metadata": {},
   "source": [
    "## Exception Handling"
   ]
  },
  {
   "cell_type": "code",
   "execution_count": null,
   "metadata": {},
   "outputs": [],
   "source": [
    "# örnek istisnalar:\n",
    "    except IOError:\n",
    "        print('DOsyadan okuma esnasında problem oldu.')\n",
    "\n",
    "    except ValueError:\n",
    "        print('Dosyada numerik olmayan veri var')\n",
    "\n",
    "    except ImportError:\n",
    "        print \"Belirtilen modül bulunamadı.\"\n",
    "\n",
    "    except EOFError:\n",
    "        print('Dosya sonu hatası !')\n",
    "\n",
    "    except KeyboardInterrupt:\n",
    "        print('İşlemi iptal ettiniz..')\n",
    "\n",
    "    except:\n",
    "        print('Bir hata oluştu.')"
   ]
  },
  {
   "cell_type": "code",
   "execution_count": null,
   "metadata": {},
   "outputs": [],
   "source": [
    "# İstersek hatayı ayıklayıp yazdırabiliriz.\n",
    "\n",
    "try:\n",
    "    x=1/0\n",
    "except Exception as e:\n",
    "    print (\"'{}' hatası oluştu ! \".format(e))"
   ]
  },
  {
   "cell_type": "code",
   "execution_count": null,
   "metadata": {},
   "outputs": [],
   "source": [
    "#bunu biraz araştır %%\n",
    "\n",
    "%%writefile example.py \n",
    "def make_list_in_range(x,y):\n",
    "    \n",
    "    new_list=[]\n",
    "    for a in range(x+1,y):\n",
    "        new_list.append(a)\n",
    "    \n",
    "    return new_list\n",
    "\n",
    "def make_list_of_even(x,y):\n",
    "    \n",
    "    new_list=[]\n",
    "    for a in range(x+1,y):\n",
    "        if a%2==0:\n",
    "            new_list.append(a)\n",
    "    \n",
    "    return new_list"
   ]
  },
  {
   "cell_type": "code",
   "execution_count": null,
   "metadata": {},
   "outputs": [],
   "source": [
    "# Bir modülün içerindeki methodları görmek için dir komutunu kullanabiliriz:\n",
    "import math\n",
    "print(dir(math))\n",
    "\n",
    "# import example    veya   from example import FONKSİYON\n",
    "# print(dir(example))     example, yukarıda yaratılmış example.py dosyasından import edilmiş\n",
    "# çıktı:\n",
    "# ['__builtins__', '__cached__', '__doc__', '__file__', '__loader__',\n",
    "#  '__name__', '__package__', '__spec__', 'make_list_in_range', 'make_list_of_even']"
   ]
  }
 ],
 "metadata": {
  "kernelspec": {
   "display_name": "Python 3",
   "language": "python",
   "name": "python3"
  },
  "language_info": {
   "codemirror_mode": {
    "name": "ipython",
    "version": 3
   },
   "file_extension": ".py",
   "mimetype": "text/x-python",
   "name": "python",
   "nbconvert_exporter": "python",
   "pygments_lexer": "ipython3",
   "version": "3.8.1"
  }
 },
 "nbformat": 4,
 "nbformat_minor": 4
}
