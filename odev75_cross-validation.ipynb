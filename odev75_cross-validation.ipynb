{
  "nbformat": 4,
  "nbformat_minor": 0,
  "metadata": {
    "kernelspec": {
      "display_name": "Python 3",
      "language": "python",
      "name": "python3"
    },
    "language_info": {
      "codemirror_mode": {
        "name": "ipython",
        "version": 3
      },
      "file_extension": ".py",
      "mimetype": "text/x-python",
      "name": "python",
      "nbconvert_exporter": "python",
      "pygments_lexer": "ipython3",
      "version": "3.8.2"
    },
    "colab": {
      "name": "odev75_cross-validation.ipynb",
      "provenance": [],
      "collapsed_sections": [
        "ewsS43jXZ4XV",
        "QmQOWUBGZ4ZA"
      ]
    }
  },
  "cells": [
    {
      "cell_type": "markdown",
      "metadata": {
        "id": "ewsS43jXZ4XV",
        "colab_type": "text"
      },
      "source": [
        "# 7.5 - Sınıflandırma Problemler: Çapraz Doğrulama\n",
        "## Bir Önceki Ödev (Konu 7.2):\n",
        "1) Bu ödevde, modelinizi kullanarak Titanic faciasında hayatta kalma durumunu tahmin edeceksiniz. Bu ödevi tamamlamak için, aşağıdaki görevlerin çözümlerini içeren bir Jupyter not defterini link olarak gönderin. Kafanıza takılan konuları mentörünüzle konuşabilir ya da ofis saatinde Slack üzerinden sorabilirsiniz.\n",
        "* [Titanic](https://www.kaggle.com/c/titanic/data) verilerini Kaggle'dan indirin. Buradaki train.csv dosyasındaki veriler ihtiyacınızı görecektir.\n",
        "* Verilerinizi eğitim ve test kümelerine ayırın.\n",
        "* Modelinizi oluşturarak ayırdığınız test kümesindeki verilere göre hayatta kalma durumlarını tahmin edin\n",
        "* Modelinizin performansı tatmin edici mi? Açıklayın.\n",
        "* Bazı değişkenleri ekleyerek veya çıkararak modelinizi tahmin performansı açısından geliştirmeye çalışın.\n",
        "\n",
        "2) Lojistik Regresyon'un avantaj ve dezavantajlarını araştırın ve mentörünüzle tartışın.\n",
        "## Güncel Ödev (Konu 7.5):\n",
        "* Modelinizin performansı çapraz doğrulama yaparak ve farklı metrikler kullanarak değerlendirin.\n",
        "* Hiperparemetre ayarlaması yaparak en uygun parametrelere sahip modeli belirleyin.\n",
        "***\n",
        "\n",
        "# Part 1/2: Bir Önceki Ödev"
      ]
    },
    {
      "cell_type": "code",
      "metadata": {
        "id": "S019hP76Z6aL",
        "colab_type": "code",
        "colab": {
          "base_uri": "https://localhost:8080/",
          "height": 0
        },
        "outputId": "9ae78480-82bd-4375-f430-77e995252c36"
      },
      "source": [
        "from google.colab import drive\n",
        "drive.mount('/content/drive/')"
      ],
      "execution_count": 1,
      "outputs": [
        {
          "output_type": "stream",
          "text": [
            "Drive already mounted at /content/drive/; to attempt to forcibly remount, call drive.mount(\"/content/drive/\", force_remount=True).\n"
          ],
          "name": "stdout"
        }
      ]
    },
    {
      "cell_type": "code",
      "metadata": {
        "id": "VExON7HpZ4XX",
        "colab_type": "code",
        "colab": {
          "base_uri": "https://localhost:8080/",
          "height": 0
        },
        "outputId": "8cfe5c3c-d1ac-460f-9ddf-9258fd94b13c"
      },
      "source": [
        "import numpy as np\n",
        "import pandas as pd\n",
        "import matplotlib.pyplot as plt\n",
        "import seaborn as sns\n",
        "#import warnings; warnings.filterwarnings(\"ignore\")\n",
        "from sklearn.linear_model import LogisticRegression\n",
        "from sklearn.model_selection import train_test_split\n",
        "from sklearn.preprocessing import scale, PolynomialFeatures\n",
        "\n",
        "%matplotlib inline\n",
        "sns.set(style=\"whitegrid\")\n",
        "plt.rcParams[\"figure.figsize\"] = (10, 6)\n",
        "\n",
        "title_font = {\"family\":\"arial\", \"color\":\"black\", \"weight\":\"bold\", \"size\":16}\n",
        "axis_font = {\"family\":\"serif\", \"color\":\"gray\", \"weight\":\"normal\", \"size\":14}\n",
        "\n",
        "#train_data = pd.read_csv(\"titanic_train.csv\")\n",
        "#test_data = pd.read_csv(\"titanic_test.csv\")\n",
        "\n",
        "train_data = pd.read_csv(\"/content/drive/My Drive/MertColab/new_folder/titanic_train.csv\")\n",
        "test_data = pd.read_csv(\"/content/drive/My Drive/MertColab/new_folder/titanic_test.csv\")"
      ],
      "execution_count": 2,
      "outputs": [
        {
          "output_type": "stream",
          "text": [
            "/usr/local/lib/python3.6/dist-packages/statsmodels/tools/_testing.py:19: FutureWarning: pandas.util.testing is deprecated. Use the functions in the public API at pandas.testing instead.\n",
            "  import pandas.util.testing as tm\n"
          ],
          "name": "stderr"
        }
      ]
    },
    {
      "cell_type": "code",
      "metadata": {
        "scrolled": true,
        "id": "BVlwXPK7Z4Xd",
        "colab_type": "code",
        "colab": {
          "base_uri": "https://localhost:8080/",
          "height": 0
        },
        "outputId": "427c6054-cf63-4e52-f8fb-b843506d9f4e"
      },
      "source": [
        "# train data\n",
        "train_data.head(6)"
      ],
      "execution_count": 3,
      "outputs": [
        {
          "output_type": "execute_result",
          "data": {
            "text/html": [
              "<div>\n",
              "<style scoped>\n",
              "    .dataframe tbody tr th:only-of-type {\n",
              "        vertical-align: middle;\n",
              "    }\n",
              "\n",
              "    .dataframe tbody tr th {\n",
              "        vertical-align: top;\n",
              "    }\n",
              "\n",
              "    .dataframe thead th {\n",
              "        text-align: right;\n",
              "    }\n",
              "</style>\n",
              "<table border=\"1\" class=\"dataframe\">\n",
              "  <thead>\n",
              "    <tr style=\"text-align: right;\">\n",
              "      <th></th>\n",
              "      <th>PassengerId</th>\n",
              "      <th>Survived</th>\n",
              "      <th>Pclass</th>\n",
              "      <th>Name</th>\n",
              "      <th>Sex</th>\n",
              "      <th>Age</th>\n",
              "      <th>SibSp</th>\n",
              "      <th>Parch</th>\n",
              "      <th>Ticket</th>\n",
              "      <th>Fare</th>\n",
              "      <th>Cabin</th>\n",
              "      <th>Embarked</th>\n",
              "    </tr>\n",
              "  </thead>\n",
              "  <tbody>\n",
              "    <tr>\n",
              "      <th>0</th>\n",
              "      <td>1</td>\n",
              "      <td>0</td>\n",
              "      <td>3</td>\n",
              "      <td>Braund, Mr. Owen Harris</td>\n",
              "      <td>male</td>\n",
              "      <td>22.0</td>\n",
              "      <td>1</td>\n",
              "      <td>0</td>\n",
              "      <td>A/5 21171</td>\n",
              "      <td>7.2500</td>\n",
              "      <td>NaN</td>\n",
              "      <td>S</td>\n",
              "    </tr>\n",
              "    <tr>\n",
              "      <th>1</th>\n",
              "      <td>2</td>\n",
              "      <td>1</td>\n",
              "      <td>1</td>\n",
              "      <td>Cumings, Mrs. John Bradley (Florence Briggs Th...</td>\n",
              "      <td>female</td>\n",
              "      <td>38.0</td>\n",
              "      <td>1</td>\n",
              "      <td>0</td>\n",
              "      <td>PC 17599</td>\n",
              "      <td>71.2833</td>\n",
              "      <td>C85</td>\n",
              "      <td>C</td>\n",
              "    </tr>\n",
              "    <tr>\n",
              "      <th>2</th>\n",
              "      <td>3</td>\n",
              "      <td>1</td>\n",
              "      <td>3</td>\n",
              "      <td>Heikkinen, Miss. Laina</td>\n",
              "      <td>female</td>\n",
              "      <td>26.0</td>\n",
              "      <td>0</td>\n",
              "      <td>0</td>\n",
              "      <td>STON/O2. 3101282</td>\n",
              "      <td>7.9250</td>\n",
              "      <td>NaN</td>\n",
              "      <td>S</td>\n",
              "    </tr>\n",
              "    <tr>\n",
              "      <th>3</th>\n",
              "      <td>4</td>\n",
              "      <td>1</td>\n",
              "      <td>1</td>\n",
              "      <td>Futrelle, Mrs. Jacques Heath (Lily May Peel)</td>\n",
              "      <td>female</td>\n",
              "      <td>35.0</td>\n",
              "      <td>1</td>\n",
              "      <td>0</td>\n",
              "      <td>113803</td>\n",
              "      <td>53.1000</td>\n",
              "      <td>C123</td>\n",
              "      <td>S</td>\n",
              "    </tr>\n",
              "    <tr>\n",
              "      <th>4</th>\n",
              "      <td>5</td>\n",
              "      <td>0</td>\n",
              "      <td>3</td>\n",
              "      <td>Allen, Mr. William Henry</td>\n",
              "      <td>male</td>\n",
              "      <td>35.0</td>\n",
              "      <td>0</td>\n",
              "      <td>0</td>\n",
              "      <td>373450</td>\n",
              "      <td>8.0500</td>\n",
              "      <td>NaN</td>\n",
              "      <td>S</td>\n",
              "    </tr>\n",
              "    <tr>\n",
              "      <th>5</th>\n",
              "      <td>6</td>\n",
              "      <td>0</td>\n",
              "      <td>3</td>\n",
              "      <td>Moran, Mr. James</td>\n",
              "      <td>male</td>\n",
              "      <td>NaN</td>\n",
              "      <td>0</td>\n",
              "      <td>0</td>\n",
              "      <td>330877</td>\n",
              "      <td>8.4583</td>\n",
              "      <td>NaN</td>\n",
              "      <td>Q</td>\n",
              "    </tr>\n",
              "  </tbody>\n",
              "</table>\n",
              "</div>"
            ],
            "text/plain": [
              "   PassengerId  Survived  Pclass  ...     Fare Cabin  Embarked\n",
              "0            1         0       3  ...   7.2500   NaN         S\n",
              "1            2         1       1  ...  71.2833   C85         C\n",
              "2            3         1       3  ...   7.9250   NaN         S\n",
              "3            4         1       1  ...  53.1000  C123         S\n",
              "4            5         0       3  ...   8.0500   NaN         S\n",
              "5            6         0       3  ...   8.4583   NaN         Q\n",
              "\n",
              "[6 rows x 12 columns]"
            ]
          },
          "metadata": {
            "tags": []
          },
          "execution_count": 3
        }
      ]
    },
    {
      "cell_type": "code",
      "metadata": {
        "scrolled": false,
        "id": "sjpla9FgZ4Xj",
        "colab_type": "code",
        "colab": {
          "base_uri": "https://localhost:8080/",
          "height": 0
        },
        "outputId": "0f7b9658-6b79-4d58-a1de-6e24eb9d2532"
      },
      "source": [
        "# test data\n",
        "test_data.head()"
      ],
      "execution_count": 4,
      "outputs": [
        {
          "output_type": "execute_result",
          "data": {
            "text/html": [
              "<div>\n",
              "<style scoped>\n",
              "    .dataframe tbody tr th:only-of-type {\n",
              "        vertical-align: middle;\n",
              "    }\n",
              "\n",
              "    .dataframe tbody tr th {\n",
              "        vertical-align: top;\n",
              "    }\n",
              "\n",
              "    .dataframe thead th {\n",
              "        text-align: right;\n",
              "    }\n",
              "</style>\n",
              "<table border=\"1\" class=\"dataframe\">\n",
              "  <thead>\n",
              "    <tr style=\"text-align: right;\">\n",
              "      <th></th>\n",
              "      <th>PassengerId</th>\n",
              "      <th>Pclass</th>\n",
              "      <th>Name</th>\n",
              "      <th>Sex</th>\n",
              "      <th>Age</th>\n",
              "      <th>SibSp</th>\n",
              "      <th>Parch</th>\n",
              "      <th>Ticket</th>\n",
              "      <th>Fare</th>\n",
              "      <th>Cabin</th>\n",
              "      <th>Embarked</th>\n",
              "    </tr>\n",
              "  </thead>\n",
              "  <tbody>\n",
              "    <tr>\n",
              "      <th>0</th>\n",
              "      <td>892</td>\n",
              "      <td>3</td>\n",
              "      <td>Kelly, Mr. James</td>\n",
              "      <td>male</td>\n",
              "      <td>34.5</td>\n",
              "      <td>0</td>\n",
              "      <td>0</td>\n",
              "      <td>330911</td>\n",
              "      <td>7.8292</td>\n",
              "      <td>NaN</td>\n",
              "      <td>Q</td>\n",
              "    </tr>\n",
              "    <tr>\n",
              "      <th>1</th>\n",
              "      <td>893</td>\n",
              "      <td>3</td>\n",
              "      <td>Wilkes, Mrs. James (Ellen Needs)</td>\n",
              "      <td>female</td>\n",
              "      <td>47.0</td>\n",
              "      <td>1</td>\n",
              "      <td>0</td>\n",
              "      <td>363272</td>\n",
              "      <td>7.0000</td>\n",
              "      <td>NaN</td>\n",
              "      <td>S</td>\n",
              "    </tr>\n",
              "    <tr>\n",
              "      <th>2</th>\n",
              "      <td>894</td>\n",
              "      <td>2</td>\n",
              "      <td>Myles, Mr. Thomas Francis</td>\n",
              "      <td>male</td>\n",
              "      <td>62.0</td>\n",
              "      <td>0</td>\n",
              "      <td>0</td>\n",
              "      <td>240276</td>\n",
              "      <td>9.6875</td>\n",
              "      <td>NaN</td>\n",
              "      <td>Q</td>\n",
              "    </tr>\n",
              "    <tr>\n",
              "      <th>3</th>\n",
              "      <td>895</td>\n",
              "      <td>3</td>\n",
              "      <td>Wirz, Mr. Albert</td>\n",
              "      <td>male</td>\n",
              "      <td>27.0</td>\n",
              "      <td>0</td>\n",
              "      <td>0</td>\n",
              "      <td>315154</td>\n",
              "      <td>8.6625</td>\n",
              "      <td>NaN</td>\n",
              "      <td>S</td>\n",
              "    </tr>\n",
              "    <tr>\n",
              "      <th>4</th>\n",
              "      <td>896</td>\n",
              "      <td>3</td>\n",
              "      <td>Hirvonen, Mrs. Alexander (Helga E Lindqvist)</td>\n",
              "      <td>female</td>\n",
              "      <td>22.0</td>\n",
              "      <td>1</td>\n",
              "      <td>1</td>\n",
              "      <td>3101298</td>\n",
              "      <td>12.2875</td>\n",
              "      <td>NaN</td>\n",
              "      <td>S</td>\n",
              "    </tr>\n",
              "  </tbody>\n",
              "</table>\n",
              "</div>"
            ],
            "text/plain": [
              "   PassengerId  Pclass  ... Cabin Embarked\n",
              "0          892       3  ...   NaN        Q\n",
              "1          893       3  ...   NaN        S\n",
              "2          894       2  ...   NaN        Q\n",
              "3          895       3  ...   NaN        S\n",
              "4          896       3  ...   NaN        S\n",
              "\n",
              "[5 rows x 11 columns]"
            ]
          },
          "metadata": {
            "tags": []
          },
          "execution_count": 4
        }
      ]
    },
    {
      "cell_type": "code",
      "metadata": {
        "id": "1uQsgZ4rZ4Xo",
        "colab_type": "code",
        "colab": {
          "base_uri": "https://localhost:8080/",
          "height": 0
        },
        "outputId": "3a3e8dad-9331-4fdb-a641-c1d33b9cb705"
      },
      "source": [
        "train_data.info()"
      ],
      "execution_count": 5,
      "outputs": [
        {
          "output_type": "stream",
          "text": [
            "<class 'pandas.core.frame.DataFrame'>\n",
            "RangeIndex: 891 entries, 0 to 890\n",
            "Data columns (total 12 columns):\n",
            " #   Column       Non-Null Count  Dtype  \n",
            "---  ------       --------------  -----  \n",
            " 0   PassengerId  891 non-null    int64  \n",
            " 1   Survived     891 non-null    int64  \n",
            " 2   Pclass       891 non-null    int64  \n",
            " 3   Name         891 non-null    object \n",
            " 4   Sex          891 non-null    object \n",
            " 5   Age          714 non-null    float64\n",
            " 6   SibSp        891 non-null    int64  \n",
            " 7   Parch        891 non-null    int64  \n",
            " 8   Ticket       891 non-null    object \n",
            " 9   Fare         891 non-null    float64\n",
            " 10  Cabin        204 non-null    object \n",
            " 11  Embarked     889 non-null    object \n",
            "dtypes: float64(2), int64(5), object(5)\n",
            "memory usage: 83.7+ KB\n"
          ],
          "name": "stdout"
        }
      ]
    },
    {
      "cell_type": "code",
      "metadata": {
        "id": "1NS2SPxAZ4Xs",
        "colab_type": "code",
        "colab": {
          "base_uri": "https://localhost:8080/",
          "height": 0
        },
        "outputId": "35194a2b-60e2-4186-f56d-3c398edf9480"
      },
      "source": [
        "test_data.info()"
      ],
      "execution_count": 6,
      "outputs": [
        {
          "output_type": "stream",
          "text": [
            "<class 'pandas.core.frame.DataFrame'>\n",
            "RangeIndex: 418 entries, 0 to 417\n",
            "Data columns (total 11 columns):\n",
            " #   Column       Non-Null Count  Dtype  \n",
            "---  ------       --------------  -----  \n",
            " 0   PassengerId  418 non-null    int64  \n",
            " 1   Pclass       418 non-null    int64  \n",
            " 2   Name         418 non-null    object \n",
            " 3   Sex          418 non-null    object \n",
            " 4   Age          332 non-null    float64\n",
            " 5   SibSp        418 non-null    int64  \n",
            " 6   Parch        418 non-null    int64  \n",
            " 7   Ticket       418 non-null    object \n",
            " 8   Fare         417 non-null    float64\n",
            " 9   Cabin        91 non-null     object \n",
            " 10  Embarked     418 non-null    object \n",
            "dtypes: float64(2), int64(4), object(5)\n",
            "memory usage: 36.0+ KB\n"
          ],
          "name": "stdout"
        }
      ]
    },
    {
      "cell_type": "code",
      "metadata": {
        "scrolled": true,
        "id": "DL0SvIv3Z4Xx",
        "colab_type": "code",
        "colab": {
          "base_uri": "https://localhost:8080/",
          "height": 0
        },
        "outputId": "30c5cda7-6471-46b5-cefe-e5d585133453"
      },
      "source": [
        "test_data[test_data.Fare.isnull()]"
      ],
      "execution_count": 7,
      "outputs": [
        {
          "output_type": "execute_result",
          "data": {
            "text/html": [
              "<div>\n",
              "<style scoped>\n",
              "    .dataframe tbody tr th:only-of-type {\n",
              "        vertical-align: middle;\n",
              "    }\n",
              "\n",
              "    .dataframe tbody tr th {\n",
              "        vertical-align: top;\n",
              "    }\n",
              "\n",
              "    .dataframe thead th {\n",
              "        text-align: right;\n",
              "    }\n",
              "</style>\n",
              "<table border=\"1\" class=\"dataframe\">\n",
              "  <thead>\n",
              "    <tr style=\"text-align: right;\">\n",
              "      <th></th>\n",
              "      <th>PassengerId</th>\n",
              "      <th>Pclass</th>\n",
              "      <th>Name</th>\n",
              "      <th>Sex</th>\n",
              "      <th>Age</th>\n",
              "      <th>SibSp</th>\n",
              "      <th>Parch</th>\n",
              "      <th>Ticket</th>\n",
              "      <th>Fare</th>\n",
              "      <th>Cabin</th>\n",
              "      <th>Embarked</th>\n",
              "    </tr>\n",
              "  </thead>\n",
              "  <tbody>\n",
              "    <tr>\n",
              "      <th>152</th>\n",
              "      <td>1044</td>\n",
              "      <td>3</td>\n",
              "      <td>Storey, Mr. Thomas</td>\n",
              "      <td>male</td>\n",
              "      <td>60.5</td>\n",
              "      <td>0</td>\n",
              "      <td>0</td>\n",
              "      <td>3701</td>\n",
              "      <td>NaN</td>\n",
              "      <td>NaN</td>\n",
              "      <td>S</td>\n",
              "    </tr>\n",
              "  </tbody>\n",
              "</table>\n",
              "</div>"
            ],
            "text/plain": [
              "     PassengerId  Pclass                Name   Sex  ...  Ticket  Fare  Cabin Embarked\n",
              "152         1044       3  Storey, Mr. Thomas  male  ...    3701   NaN    NaN        S\n",
              "\n",
              "[1 rows x 11 columns]"
            ]
          },
          "metadata": {
            "tags": []
          },
          "execution_count": 7
        }
      ]
    },
    {
      "cell_type": "code",
      "metadata": {
        "id": "i77hhQIRZ4X2",
        "colab_type": "code",
        "colab": {}
      },
      "source": [
        "# Bu tek boş değeri, değişkenin ortalaması ile dolduralım.\n",
        "test_data.loc[152, \"Fare\"] = test_data.Fare.mean()"
      ],
      "execution_count": 8,
      "outputs": []
    },
    {
      "cell_type": "code",
      "metadata": {
        "scrolled": false,
        "id": "G9LhJbJOZ4X8",
        "colab_type": "code",
        "colab": {}
      },
      "source": [
        "# Kategorik değişkenleri numerik yapalım ve boş değerlerle ilgilenelim.\n",
        "for data in (train_data, test_data):\n",
        "    # Cinsiyet değişkenini ikili değere dönüştürdük.\n",
        "    is_male_series = pd.get_dummies(data[\"Sex\"], drop_first=True)\n",
        "    data.insert(loc=4, column=\"is_male\", value=is_male_series)\n",
        "    data.drop(labels=\"Sex\", axis=1, inplace=True)\n",
        "    \n",
        "    # 3 farklı biniş limanını sayısal değere dönüştürdük\n",
        "    data.Embarked = data.Embarked.replace(\"S\", 3)    # S = Southampton\n",
        "    data.Embarked = data.Embarked.replace(\"Q\", 2)    # Q = Queenstown\n",
        "    data.Embarked = data.Embarked.replace(\"C\", 1)    # C = Cherbourg\n",
        "    data.Embarked = data.Embarked.replace(np.nan, 0)\n",
        "    \n",
        "    # Sayısal değere dönüşen sütunun veri tipini güncelledik.\n",
        "    data.Embarked = data.Embarked.astype(\"uint8\")\n",
        "del data"
      ],
      "execution_count": 9,
      "outputs": []
    },
    {
      "cell_type": "code",
      "metadata": {
        "scrolled": true,
        "id": "UEuMJUTQZ4YA",
        "colab_type": "code",
        "colab": {}
      },
      "source": [
        "# \"Age\" değişkenindeki boş değerleri, cinsiyet ortalamalarıyla değiştirdik.\n",
        "for data in (train_data, test_data):\n",
        "    temp_index = 0\n",
        "    for age in (data.Age):\n",
        "        if np.isnan(age):\n",
        "            mean_age_by_sex = data.Age.groupby(by=data.is_male).mean()\n",
        "            data.loc[temp_index, \"Age\"] = mean_age_by_sex[data.is_male[temp_index]]\n",
        "        temp_index +=1\n",
        "del data"
      ],
      "execution_count": 10,
      "outputs": []
    },
    {
      "cell_type": "code",
      "metadata": {
        "scrolled": true,
        "id": "yIxgF3tzZ4YE",
        "colab_type": "code",
        "colab": {}
      },
      "source": [
        "# Modelimizin bağımsız ve bağımlı değişkenlerini tanımlayalım.\n",
        "# Ayrıca, bağımsız değişkenleri standartlaştırarak olası katsayı ağırlık farklarını düşürelim.\n",
        "X_train = scale(train_data[[\"Pclass\", \"is_male\", \"Fare\", \"Age\", \"SibSp\", \"Parch\", \"Embarked\"]])\n",
        "Y_train = train_data[\"Survived\"]"
      ],
      "execution_count": 11,
      "outputs": []
    },
    {
      "cell_type": "markdown",
      "metadata": {
        "id": "GSbth1XVZ4YJ",
        "colab_type": "text"
      },
      "source": [
        "# Lojistik Regresyon Modeli Parametreleri:"
      ]
    },
    {
      "cell_type": "code",
      "metadata": {
        "id": "9JNz4vMvZ4YL",
        "colab_type": "code",
        "colab": {}
      },
      "source": [
        "# Kuracağımız modelde, farklı C değerleri deneyeceğiz.\n",
        "# C: Inverse of regularization strength \n",
        "C_values = np.logspace(-10, 10, 500)"
      ],
      "execution_count": 12,
      "outputs": []
    },
    {
      "cell_type": "code",
      "metadata": {
        "id": "ENZKRgnHZ4YQ",
        "colab_type": "code",
        "colab": {
          "base_uri": "https://localhost:8080/",
          "height": 51
        },
        "outputId": "f2da27a4-8c7c-4140-9d11-6150b752758f"
      },
      "source": [
        "%%time\n",
        "accuracy_values = pd.DataFrame(columns=[\"C Values\", \"Train Accuracy\"])\n",
        "for c in C_values:\n",
        "    logistic_reg = LogisticRegression(penalty=\"l1\", \n",
        "                                      solver=\"saga\", \n",
        "                                      multi_class=\"multinomial\", \n",
        "                                      C=c, \n",
        "                                      max_iter=2000)\n",
        "    logistic_reg.fit(X_train, Y_train)\n",
        "    score = logistic_reg.score(X_train, Y_train)\n",
        "    \n",
        "    accuracy_values = accuracy_values.append({\"C Values\":c, \"Train Accuracy\":score}, \n",
        "                                             ignore_index=True)"
      ],
      "execution_count": 13,
      "outputs": [
        {
          "output_type": "stream",
          "text": [
            "CPU times: user 3.59 s, sys: 5.33 ms, total: 3.59 s\n",
            "Wall time: 3.6 s\n"
          ],
          "name": "stdout"
        }
      ]
    },
    {
      "cell_type": "code",
      "metadata": {
        "scrolled": false,
        "id": "UI6l6fW2Z4YU",
        "colab_type": "code",
        "colab": {
          "base_uri": "https://localhost:8080/",
          "height": 221
        },
        "outputId": "f5a4fcae-4401-46c8-ffae-390716e20082"
      },
      "source": [
        "print(\"Bazı C değerlerinin doğruluk oranları:\")\n",
        "accuracy_values.iloc[0:500:100]"
      ],
      "execution_count": 14,
      "outputs": [
        {
          "output_type": "stream",
          "text": [
            "Bazı C değerlerinin doğruluk oranları:\n"
          ],
          "name": "stdout"
        },
        {
          "output_type": "execute_result",
          "data": {
            "text/html": [
              "<div>\n",
              "<style scoped>\n",
              "    .dataframe tbody tr th:only-of-type {\n",
              "        vertical-align: middle;\n",
              "    }\n",
              "\n",
              "    .dataframe tbody tr th {\n",
              "        vertical-align: top;\n",
              "    }\n",
              "\n",
              "    .dataframe thead th {\n",
              "        text-align: right;\n",
              "    }\n",
              "</style>\n",
              "<table border=\"1\" class=\"dataframe\">\n",
              "  <thead>\n",
              "    <tr style=\"text-align: right;\">\n",
              "      <th></th>\n",
              "      <th>C Values</th>\n",
              "      <th>Train Accuracy</th>\n",
              "    </tr>\n",
              "  </thead>\n",
              "  <tbody>\n",
              "    <tr>\n",
              "      <th>0</th>\n",
              "      <td>1.000000e-10</td>\n",
              "      <td>0.616162</td>\n",
              "    </tr>\n",
              "    <tr>\n",
              "      <th>100</th>\n",
              "      <td>1.018629e-06</td>\n",
              "      <td>0.616162</td>\n",
              "    </tr>\n",
              "    <tr>\n",
              "      <th>200</th>\n",
              "      <td>1.037605e-02</td>\n",
              "      <td>0.786756</td>\n",
              "    </tr>\n",
              "    <tr>\n",
              "      <th>300</th>\n",
              "      <td>1.056935e+02</td>\n",
              "      <td>0.801347</td>\n",
              "    </tr>\n",
              "    <tr>\n",
              "      <th>400</th>\n",
              "      <td>1.076624e+06</td>\n",
              "      <td>0.801347</td>\n",
              "    </tr>\n",
              "  </tbody>\n",
              "</table>\n",
              "</div>"
            ],
            "text/plain": [
              "         C Values  Train Accuracy\n",
              "0    1.000000e-10        0.616162\n",
              "100  1.018629e-06        0.616162\n",
              "200  1.037605e-02        0.786756\n",
              "300  1.056935e+02        0.801347\n",
              "400  1.076624e+06        0.801347"
            ]
          },
          "metadata": {
            "tags": []
          },
          "execution_count": 14
        }
      ]
    },
    {
      "cell_type": "code",
      "metadata": {
        "scrolled": true,
        "id": "kmznGY0XZ4YY",
        "colab_type": "code",
        "colab": {
          "base_uri": "https://localhost:8080/",
          "height": 34
        },
        "outputId": "4e0c5c95-a1d0-4bfe-9b24-ed326ec90ea5"
      },
      "source": [
        "index_of_max = accuracy_values.index[accuracy_values[\"Train Accuracy\"] \n",
        "                      == accuracy_values[\"Train Accuracy\"].max()][0]\n",
        "\n",
        "accuracy_of_max = accuracy_values[\"Train Accuracy\"][index_of_max]\n",
        "c_of_max = accuracy_values[\"C Values\"][index_of_max]\n",
        "\n",
        "print(f\"En yüksek skorun ({accuracy_of_max:.3f}) C değeri: {c_of_max:.4g}\")"
      ],
      "execution_count": 15,
      "outputs": [
        {
          "output_type": "stream",
          "text": [
            "En yüksek skorun (0.801) C değeri: 0.05464\n"
          ],
          "name": "stdout"
        }
      ]
    },
    {
      "cell_type": "code",
      "metadata": {
        "scrolled": false,
        "id": "k4aZA4yfZ4Yc",
        "colab_type": "code",
        "colab": {
          "base_uri": "https://localhost:8080/",
          "height": 34
        },
        "outputId": "de476a6b-0697-4efc-db00-f06c9c11d2e6"
      },
      "source": [
        "log_reg = LogisticRegression(solver=\"lbfgs\", \n",
        "                             multi_class=\"multinomial\", \n",
        "                             C=c_of_max, \n",
        "                             max_iter=2000)\n",
        "\n",
        "log_reg.fit(X_train, Y_train)\n",
        "print(\"İlk modelimizin performansı: {:.4f}\".format(log_reg.score(X_train, Y_train)))"
      ],
      "execution_count": 16,
      "outputs": [
        {
          "output_type": "stream",
          "text": [
            "İlk modelimizin performansı: 0.8002\n"
          ],
          "name": "stdout"
        }
      ]
    },
    {
      "cell_type": "code",
      "metadata": {
        "id": "YBRb-oqPZ4Yh",
        "colab_type": "code",
        "colab": {}
      },
      "source": [
        "# \"polynomial features\" ile değişkenlerimizin etkileşimini gözlemleyeceğiz\n",
        "poly_model = PolynomialFeatures(degree=5, interaction_only=False, order=\"C\")\n",
        "X_train_poly = poly_model.fit_transform(X_train)"
      ],
      "execution_count": 17,
      "outputs": []
    },
    {
      "cell_type": "code",
      "metadata": {
        "scrolled": false,
        "id": "hCzaQxALZ4Yl",
        "colab_type": "code",
        "colab": {
          "base_uri": "https://localhost:8080/",
          "height": 68
        },
        "outputId": "afb63688-521e-4fb6-d327-6b0a1488286f"
      },
      "source": [
        "%%time\n",
        "# Uygulanan model: \n",
        "# log_reg = LogisticRegression(solver=\"lbfgs\", multi_class=\"multinomial\", C=c_of_max, max_iter=2000)\n",
        "log_reg.fit(X_train_poly, Y_train)\n",
        "print(\"5. derece polinom etkileşimi ile denen ilk modelin performansı: {:.4f}\".format(log_reg.score(X_train_poly, Y_train)))"
      ],
      "execution_count": 18,
      "outputs": [
        {
          "output_type": "stream",
          "text": [
            "5. derece polinom etkileşimi ile denen ilk modelin performansı: 0.8777\n",
            "CPU times: user 10.1 s, sys: 1.97 s, total: 12 s\n",
            "Wall time: 6.13 s\n"
          ],
          "name": "stdout"
        }
      ]
    },
    {
      "cell_type": "code",
      "metadata": {
        "id": "QuF56bP6Z4Yq",
        "colab_type": "code",
        "colab": {}
      },
      "source": [
        "# Kabin sütununu da numerik değerler ile güncelleyerek performanstaki değişime bakalım.\n",
        "\n",
        "for df in (train_data, test_data):\n",
        "    for index in range(df.Cabin.shape[0]):\n",
        "        # Kabin değişkeni, NaN veya string değerlerden oluşuyor.\n",
        "            if \"A\" in str(df.Cabin[index]):\n",
        "                    df.loc[index, \"Cabin\"] = 1\n",
        "            elif \"B\" in str(df.Cabin[index]):\n",
        "                    df.loc[index, \"Cabin\"] = 1\n",
        "            elif \"C\" in str(df.Cabin[index]):\n",
        "                    df.loc[index, \"Cabin\"] = 1\n",
        "            elif \"D\" in str(df.Cabin[index]):\n",
        "                    df.loc[index, \"Cabin\"] = 2\n",
        "            elif \"E\" in str(df.Cabin[index]):\n",
        "                    df.loc[index, \"Cabin\"] = 2\n",
        "            elif \"F\" in str(df.Cabin[index]):\n",
        "                    df.loc[index, \"Cabin\"] = 3\n",
        "            elif \"G\" in str(df.Cabin[index]):\n",
        "                    df.loc[index, \"Cabin\"] = 3\n",
        "            elif \"T\" in str(df.Cabin[index]):\n",
        "                    df.loc[index, \"Cabin\"] = 3                \n",
        "            else:\n",
        "                df.loc[index, \"Cabin\"] = 0\n",
        "\n",
        "        # Sayısal değere dönüşen sütunun veri tipini güncelledik.\n",
        "    df.Cabin = df.Cabin.astype(\"int8\")\n",
        "    df.drop(labels=[\"Name\", \"Ticket\"], axis=1, inplace=True)\n",
        "\n",
        "# str() yapmak zorunda kaldım çünkü şu hatayı alıyordum:\n",
        "# TypeError: argument of type 'float' is not iterable\n",
        "\n",
        "del df"
      ],
      "execution_count": 19,
      "outputs": []
    },
    {
      "cell_type": "code",
      "metadata": {
        "id": "AA3rZOjMZ4Yu",
        "colab_type": "code",
        "colab": {}
      },
      "source": [
        "X_train = scale(train_data.iloc[:, 2:])\n",
        "X_test = scale(test_data.iloc[:, 1:])\n",
        "Y_train = train_data[\"Survived\"]"
      ],
      "execution_count": 20,
      "outputs": []
    },
    {
      "cell_type": "code",
      "metadata": {
        "scrolled": false,
        "id": "0vF_a_8gZ4Yy",
        "colab_type": "code",
        "colab": {
          "base_uri": "https://localhost:8080/",
          "height": 34
        },
        "outputId": "e9cd76eb-8eeb-493a-d1ab-8d7f04e1fe54"
      },
      "source": [
        "log_reg.fit(X_train, Y_train)\n",
        "print(\"Kabin sütunu düzenlemesinin ardından modelimizin performansı: {:.4f}\".format(log_reg.score(X_train, Y_train)))"
      ],
      "execution_count": 21,
      "outputs": [
        {
          "output_type": "stream",
          "text": [
            "Kabin sütunu düzenlemesinin ardından modelimizin performansı: 0.8114\n"
          ],
          "name": "stdout"
        }
      ]
    },
    {
      "cell_type": "code",
      "metadata": {
        "id": "6cuoMKoAZ4Y3",
        "colab_type": "code",
        "colab": {
          "base_uri": "https://localhost:8080/",
          "height": 34
        },
        "outputId": "a06f6bf6-e9e9-4ff7-d080-68cdaf45b4cb"
      },
      "source": [
        "# polynomial features\n",
        "poly_model = PolynomialFeatures(degree=2, interaction_only=True, order=\"C\")\n",
        "X_train_poly = poly_model.fit_transform(X_train)\n",
        "\n",
        "# LogisticRegression(solver=\"lbfgs\", multi_class=\"multinomial\", C=c_of_max, max_iter=2000)\n",
        "\n",
        "log_reg.fit(X_train_poly, Y_train)\n",
        "print(\"2. derece polinom etkileşimi ile denen modelin performansı: {:.4f}\".format(log_reg.score(X_train_poly, Y_train)))"
      ],
      "execution_count": 22,
      "outputs": [
        {
          "output_type": "stream",
          "text": [
            "2. derece polinom etkileşimi ile denen modelin performansı: 0.8373\n"
          ],
          "name": "stdout"
        }
      ]
    },
    {
      "cell_type": "code",
      "metadata": {
        "scrolled": true,
        "id": "vIcSROK9Z4Y7",
        "colab_type": "code",
        "colab": {
          "base_uri": "https://localhost:8080/",
          "height": 68
        },
        "outputId": "afe7c65b-055f-44b0-cc89-980ea19771ac"
      },
      "source": [
        "%%time\n",
        "# polynomial features\n",
        "poly_model = PolynomialFeatures(degree=5, interaction_only=False, order=\"C\")\n",
        "X_train_poly = poly_model.fit_transform(X_train)\n",
        "\n",
        "# LogisticRegression(solver=\"lbfgs\", multi_class=\"multinomial\", C=c_of_max, max_iter=2000)\n",
        "\n",
        "log_reg.fit(X_train_poly, Y_train)\n",
        "print(\"5. derece ve tam polinom etkileşimi ile denen modelin performansı: {:.4f}\".format(log_reg.score(X_train_poly, Y_train)))"
      ],
      "execution_count": 23,
      "outputs": [
        {
          "output_type": "stream",
          "text": [
            "5. derece ve tam polinom etkileşimi ile denen modelin performansı: 0.8923\n",
            "CPU times: user 11.5 s, sys: 1.81 s, total: 13.3 s\n",
            "Wall time: 6.73 s\n"
          ],
          "name": "stdout"
        }
      ]
    },
    {
      "cell_type": "markdown",
      "metadata": {
        "id": "QmQOWUBGZ4ZA",
        "colab_type": "text"
      },
      "source": [
        "# Sonuç:\n",
        "Modelimizin performansını yükselten faktörler: <br>\n",
        "* Yaş sütunundaki NaN değerlerin, ilgili verinin cinsiyetinin yaş ortalaması ile değiştirilmesi.\n",
        "* Lojistik regresyondaki C değerinin değiştirilmesi\n",
        "* Lojistik regresyondaki maksimum iterasyonun yükseltilmesi\n",
        "* Değişkenlerin hepsinin kullanılması\n",
        "    * \"Pclass\", \"is_male\", \"Fare\", \"Age\" vb.\n",
        "* Polynomial Features kullanılarak değişkenlerin birbirleriyle etkileşim sağlanması\n",
        "* Ve son olarak \"Cabin\" değişkeninin dummy değişkenine dönüştürülerek yüksek dereceli polinom etkileşimine sokulması\n",
        "***\n",
        "\n",
        "# Test Verisi ile Tahmin:"
      ]
    },
    {
      "cell_type": "code",
      "metadata": {
        "scrolled": true,
        "id": "P1jp-1AqZ4ZB",
        "colab_type": "code",
        "colab": {}
      },
      "source": [
        "X_test_poly = poly_model.fit_transform(X_test)\n",
        "test_predict = log_reg.predict(X_test_poly)\n",
        "\n",
        "test_predict = pd.concat([pd.Series(test_data.PassengerId), pd.Series(test_predict)], axis=\"columns\")\n",
        "test_predict.columns = [\"PassengerId\", \"Survived\"]\n",
        "#test_predict.to_csv(path_or_buf=\"titanic_test_predict.csv\", index=False)"
      ],
      "execution_count": 24,
      "outputs": []
    },
    {
      "cell_type": "markdown",
      "metadata": {
        "id": "6sptY6tCZ4ZF",
        "colab_type": "text"
      },
      "source": [
        "***\n",
        "# Part 2/2: Güncel Ödev\n",
        "* Modelinizin performansı çapraz doğrulama yaparak ve farklı metrikler kullanarak değerlendirin.\n",
        "* Hiperparemetre ayarlaması yaparak en uygun parametrelere sahip modeli belirleyin."
      ]
    },
    {
      "cell_type": "code",
      "metadata": {
        "scrolled": true,
        "id": "CHU4jsgzZ4ZG",
        "colab_type": "code",
        "colab": {
          "base_uri": "https://localhost:8080/",
          "height": 272
        },
        "outputId": "cd88b5d9-31ea-4d4b-bfe6-913a4dfeee25"
      },
      "source": [
        "from sklearn.model_selection import KFold\n",
        "from sklearn.model_selection import train_test_split\n",
        "\n",
        "#x_egitim, x_test, y_egitim, y_test = train_test_split(X_train, Y_train, test_size=0.2)\n",
        "kf = KFold(n_splits=5, shuffle=True, random_state=42)\n",
        "\n",
        "parts = kf.split(X_train)\n",
        "for num, (egitim_index, test_index) in enumerate(parts):\n",
        "    print(\"{}.Eğitim Kümesi Boyutu : {}\".format(num+1,len(egitim_index)))\n",
        "    print(\"{}.Test Kümesi Boyutu   : {}\".format(num+1,len(test_index)))\n",
        "    print('-'*27)"
      ],
      "execution_count": 25,
      "outputs": [
        {
          "output_type": "stream",
          "text": [
            "1.Eğitim Kümesi Boyutu : 712\n",
            "1.Test Kümesi Boyutu   : 179\n",
            "---------------------------\n",
            "2.Eğitim Kümesi Boyutu : 713\n",
            "2.Test Kümesi Boyutu   : 178\n",
            "---------------------------\n",
            "3.Eğitim Kümesi Boyutu : 713\n",
            "3.Test Kümesi Boyutu   : 178\n",
            "---------------------------\n",
            "4.Eğitim Kümesi Boyutu : 713\n",
            "4.Test Kümesi Boyutu   : 178\n",
            "---------------------------\n",
            "5.Eğitim Kümesi Boyutu : 713\n",
            "5.Test Kümesi Boyutu   : 178\n",
            "---------------------------\n"
          ],
          "name": "stdout"
        }
      ]
    },
    {
      "cell_type": "code",
      "metadata": {
        "id": "wRXAaZBpZ4ZK",
        "colab_type": "code",
        "colab": {
          "base_uri": "https://localhost:8080/",
          "height": 272
        },
        "outputId": "1fe1578b-b157-484c-cecd-d3869fbb6d0d"
      },
      "source": [
        "score_list = []\n",
        "pieces = kf.split(X_train)\n",
        "## pieces'i her seferinde her hücreye yazmak gerekiyor. Tanımlanmıyor.\n",
        "for i, (train_index, test_index) in enumerate(pieces):\n",
        "    x_train, y_train = X_train[train_index], Y_train[train_index]\n",
        "    x_test, y_test = X_train[test_index], Y_train[test_index]\n",
        "    \n",
        "    log_reg.fit(x_train, y_train)\n",
        "    \n",
        "    prediction = log_reg.predict(x_test)\n",
        "    \n",
        "    score = log_reg.score(x_test, y_test)  \n",
        "    score_list.append(score)\n",
        "    \n",
        "    print(\"{}. parça skoru  : {:.3f}\".format(i+1, score))\n",
        "    print(\"-\"*23, \"\\n\")"
      ],
      "execution_count": 26,
      "outputs": [
        {
          "output_type": "stream",
          "text": [
            "1. parça skoru  : 0.804\n",
            "----------------------- \n",
            "\n",
            "2. parça skoru  : 0.798\n",
            "----------------------- \n",
            "\n",
            "3. parça skoru  : 0.865\n",
            "----------------------- \n",
            "\n",
            "4. parça skoru  : 0.775\n",
            "----------------------- \n",
            "\n",
            "5. parça skoru  : 0.815\n",
            "----------------------- \n",
            "\n"
          ],
          "name": "stdout"
        }
      ]
    },
    {
      "cell_type": "code",
      "metadata": {
        "id": "Euuk0hOogsmG",
        "colab_type": "code",
        "colab": {
          "base_uri": "https://localhost:8080/",
          "height": 34
        },
        "outputId": "7b917270-7547-4fec-bd14-cd03b04fb866"
      },
      "source": [
        "print(\"Ortalama doğruluk değeri : {:.2f}\".format(np.mean(score_list)))"
      ],
      "execution_count": 27,
      "outputs": [
        {
          "output_type": "stream",
          "text": [
            "Ortalama doğruluk değeri : 0.81\n"
          ],
          "name": "stdout"
        }
      ]
    },
    {
      "cell_type": "code",
      "metadata": {
        "id": "I7bl0rduhZKR",
        "colab_type": "code",
        "colab": {}
      },
      "source": [
        "from sklearn.model_selection import cross_validate, cross_val_score"
      ],
      "execution_count": 28,
      "outputs": []
    },
    {
      "cell_type": "code",
      "metadata": {
        "id": "tLuKRhPlhabE",
        "colab_type": "code",
        "colab": {
          "base_uri": "https://localhost:8080/",
          "height": 136
        },
        "outputId": "28737a1d-93f0-4f9a-a4ce-f4332e2a8795"
      },
      "source": [
        "cv = cross_validate(estimator=log_reg,\n",
        "                     X=X_train,\n",
        "                     y=Y_train,\n",
        "                     cv=10,\n",
        "                     return_train_score=True, \n",
        "                     scoring = ['accuracy', 'precision', 'r2']\n",
        "                    )\n",
        "print('Train Scores :', cv['train_accuracy'], sep = '\\n')\n",
        "print(\"-\"*50)\n",
        "print('Test Scores     :', cv['test_accuracy'], sep = '\\n')"
      ],
      "execution_count": 29,
      "outputs": [
        {
          "output_type": "stream",
          "text": [
            "Train Scores :\n",
            "[0.81523096 0.8117207  0.82169576 0.8117207  0.81047382 0.81546135\n",
            " 0.80798005 0.81047382 0.81296758 0.80922693]\n",
            "--------------------------------------------------\n",
            "Test Scores     :\n",
            "[0.8        0.82022472 0.7752809  0.85393258 0.78651685 0.78651685\n",
            " 0.78651685 0.80898876 0.84269663 0.84269663]\n"
          ],
          "name": "stdout"
        }
      ]
    },
    {
      "cell_type": "code",
      "metadata": {
        "id": "MVhEINzIiVTh",
        "colab_type": "code",
        "colab": {
          "base_uri": "https://localhost:8080/",
          "height": 51
        },
        "outputId": "9a8d3e57-5b2c-44cc-c831-891ae593a4a6"
      },
      "source": [
        "print('Test Kümesi   Ortalaması : ', cv['test_accuracy'].mean())\n",
        "print('Eğitim Kümesi Ortalaması : ', cv['train_accuracy'].mean())"
      ],
      "execution_count": 30,
      "outputs": [
        {
          "output_type": "stream",
          "text": [
            "Test Kümesi   Ortalaması :  0.8103370786516854\n",
            "Eğitim Kümesi Ortalaması :  0.8126951659552741\n"
          ],
          "name": "stdout"
        }
      ]
    },
    {
      "cell_type": "code",
      "metadata": {
        "id": "zwFzVbuqj7J4",
        "colab_type": "code",
        "colab": {
          "base_uri": "https://localhost:8080/",
          "height": 119
        },
        "outputId": "12424133-acee-4cf2-ec94-19d9b6096b78"
      },
      "source": [
        "print('Test Kümesi Doğruluk Ortalaması     : {:.2f}'.format(cv['test_accuracy'].mean()))\n",
        "print('Test Kümesi R-kare  Ortalaması      : {:.2f}'.format(cv['test_r2'].mean()))\n",
        "print('Test Kümesi Hassasiyet Ortalaması   : {:.2f}'.format(cv['test_precision'].mean()))\n",
        "print('Eğitim Kümesi Doğruluk Ortalaması   : {:.2f}'.format(cv['train_accuracy'].mean()))\n",
        "print('Eğitim Kümesi R-kare  Ortalaması    : {:.2f}'.format(cv['train_r2'].mean()))\n",
        "print('Eğitim Kümesi Hassasiyet Ortalaması : {:.2f}'.format(cv['train_precision'].mean()))"
      ],
      "execution_count": 31,
      "outputs": [
        {
          "output_type": "stream",
          "text": [
            "Test Kümesi Doğruluk Ortalaması     : 0.81\n",
            "Test Kümesi R-kare  Ortalaması      : 0.20\n",
            "Test Kümesi Hassasiyet Ortalaması   : 0.78\n",
            "Eğitim Kümesi Doğruluk Ortalaması   : 0.81\n",
            "Eğitim Kümesi R-kare  Ortalaması    : 0.21\n",
            "Eğitim Kümesi Hassasiyet Ortalaması : 0.78\n"
          ],
          "name": "stdout"
        }
      ]
    },
    {
      "cell_type": "code",
      "metadata": {
        "id": "zTY2t-6qkEKW",
        "colab_type": "code",
        "colab": {
          "base_uri": "https://localhost:8080/",
          "height": 68
        },
        "outputId": "8e27c17f-be68-49de-8bc4-b8402ecaa82b"
      },
      "source": [
        "cv = cross_val_score(estimator=log_reg,\n",
        "                     X=X_train,\n",
        "                     y=Y_train,\n",
        "                     cv=10                    \n",
        "                    )\n",
        "print('Model Skorları            : ', cv, sep = '\\n')"
      ],
      "execution_count": 32,
      "outputs": [
        {
          "output_type": "stream",
          "text": [
            "Model Skorları            : \n",
            "[0.8        0.82022472 0.7752809  0.85393258 0.78651685 0.78651685\n",
            " 0.78651685 0.80898876 0.84269663 0.84269663]\n"
          ],
          "name": "stdout"
        }
      ]
    },
    {
      "cell_type": "markdown",
      "metadata": {
        "id": "BkJb5HAnkrY4",
        "colab_type": "text"
      },
      "source": [
        "## Hipermetre ayarlaması"
      ]
    },
    {
      "cell_type": "code",
      "metadata": {
        "id": "GoxkYBI3mDfF",
        "colab_type": "code",
        "colab": {}
      },
      "source": [
        "import warnings\n",
        "warnings.filterwarnings('ignore')"
      ],
      "execution_count": 33,
      "outputs": []
    },
    {
      "cell_type": "code",
      "metadata": {
        "id": "wr4vV1pfktH-",
        "colab_type": "code",
        "colab": {
          "base_uri": "https://localhost:8080/",
          "height": 51
        },
        "outputId": "463cf30d-d42b-43f2-e762-ae009bf9368f"
      },
      "source": [
        "# grid search\n",
        "from sklearn.model_selection import GridSearchCV\n",
        "\n",
        "log_reg = LogisticRegression()\n",
        "parameters = {\"C\": [10 ** x for x in range (-5, 5, 1)],\n",
        "                \"penalty\": ['l1', 'l2']}\n",
        "\n",
        "grid_cv = GridSearchCV(estimator=log_reg,\n",
        "                       param_grid = parameters,\n",
        "                       cv = 10)\n",
        "grid_cv.fit(X_train, Y_train)\n",
        "print(\"En iyi parametreler : \", grid_cv.best_params_)\n",
        "print(\"En iyi skor         : \", grid_cv.best_score_)"
      ],
      "execution_count": 34,
      "outputs": [
        {
          "output_type": "stream",
          "text": [
            "En iyi parametreler :  {'C': 0.1, 'penalty': 'l2'}\n",
            "En iyi skor         :  0.8103370786516854\n"
          ],
          "name": "stdout"
        }
      ]
    },
    {
      "cell_type": "code",
      "metadata": {
        "id": "PBx4J8Z8mhG5",
        "colab_type": "code",
        "colab": {
          "base_uri": "https://localhost:8080/",
          "height": 669
        },
        "outputId": "e75dea6d-b9c7-4e93-bec2-cb1dc7f44399"
      },
      "source": [
        "results = grid_cv.cv_results_\n",
        "df = pd.DataFrame(results)\n",
        "df = df[['param_penalty','param_C', 'mean_test_score']]\n",
        "df = df.sort_values(by='mean_test_score', ascending = False)\n",
        "df"
      ],
      "execution_count": 35,
      "outputs": [
        {
          "output_type": "execute_result",
          "data": {
            "text/html": [
              "<div>\n",
              "<style scoped>\n",
              "    .dataframe tbody tr th:only-of-type {\n",
              "        vertical-align: middle;\n",
              "    }\n",
              "\n",
              "    .dataframe tbody tr th {\n",
              "        vertical-align: top;\n",
              "    }\n",
              "\n",
              "    .dataframe thead th {\n",
              "        text-align: right;\n",
              "    }\n",
              "</style>\n",
              "<table border=\"1\" class=\"dataframe\">\n",
              "  <thead>\n",
              "    <tr style=\"text-align: right;\">\n",
              "      <th></th>\n",
              "      <th>param_penalty</th>\n",
              "      <th>param_C</th>\n",
              "      <th>mean_test_score</th>\n",
              "    </tr>\n",
              "  </thead>\n",
              "  <tbody>\n",
              "    <tr>\n",
              "      <th>9</th>\n",
              "      <td>l2</td>\n",
              "      <td>0.1</td>\n",
              "      <td>0.810337</td>\n",
              "    </tr>\n",
              "    <tr>\n",
              "      <th>13</th>\n",
              "      <td>l2</td>\n",
              "      <td>10</td>\n",
              "      <td>0.808065</td>\n",
              "    </tr>\n",
              "    <tr>\n",
              "      <th>15</th>\n",
              "      <td>l2</td>\n",
              "      <td>100</td>\n",
              "      <td>0.808065</td>\n",
              "    </tr>\n",
              "    <tr>\n",
              "      <th>17</th>\n",
              "      <td>l2</td>\n",
              "      <td>1000</td>\n",
              "      <td>0.808065</td>\n",
              "    </tr>\n",
              "    <tr>\n",
              "      <th>19</th>\n",
              "      <td>l2</td>\n",
              "      <td>10000</td>\n",
              "      <td>0.808065</td>\n",
              "    </tr>\n",
              "    <tr>\n",
              "      <th>11</th>\n",
              "      <td>l2</td>\n",
              "      <td>1</td>\n",
              "      <td>0.806941</td>\n",
              "    </tr>\n",
              "    <tr>\n",
              "      <th>7</th>\n",
              "      <td>l2</td>\n",
              "      <td>0.01</td>\n",
              "      <td>0.805855</td>\n",
              "    </tr>\n",
              "    <tr>\n",
              "      <th>5</th>\n",
              "      <td>l2</td>\n",
              "      <td>0.001</td>\n",
              "      <td>0.697004</td>\n",
              "    </tr>\n",
              "    <tr>\n",
              "      <th>1</th>\n",
              "      <td>l2</td>\n",
              "      <td>1e-05</td>\n",
              "      <td>0.616167</td>\n",
              "    </tr>\n",
              "    <tr>\n",
              "      <th>3</th>\n",
              "      <td>l2</td>\n",
              "      <td>0.0001</td>\n",
              "      <td>0.616167</td>\n",
              "    </tr>\n",
              "    <tr>\n",
              "      <th>0</th>\n",
              "      <td>l1</td>\n",
              "      <td>1e-05</td>\n",
              "      <td>NaN</td>\n",
              "    </tr>\n",
              "    <tr>\n",
              "      <th>2</th>\n",
              "      <td>l1</td>\n",
              "      <td>0.0001</td>\n",
              "      <td>NaN</td>\n",
              "    </tr>\n",
              "    <tr>\n",
              "      <th>4</th>\n",
              "      <td>l1</td>\n",
              "      <td>0.001</td>\n",
              "      <td>NaN</td>\n",
              "    </tr>\n",
              "    <tr>\n",
              "      <th>6</th>\n",
              "      <td>l1</td>\n",
              "      <td>0.01</td>\n",
              "      <td>NaN</td>\n",
              "    </tr>\n",
              "    <tr>\n",
              "      <th>8</th>\n",
              "      <td>l1</td>\n",
              "      <td>0.1</td>\n",
              "      <td>NaN</td>\n",
              "    </tr>\n",
              "    <tr>\n",
              "      <th>10</th>\n",
              "      <td>l1</td>\n",
              "      <td>1</td>\n",
              "      <td>NaN</td>\n",
              "    </tr>\n",
              "    <tr>\n",
              "      <th>12</th>\n",
              "      <td>l1</td>\n",
              "      <td>10</td>\n",
              "      <td>NaN</td>\n",
              "    </tr>\n",
              "    <tr>\n",
              "      <th>14</th>\n",
              "      <td>l1</td>\n",
              "      <td>100</td>\n",
              "      <td>NaN</td>\n",
              "    </tr>\n",
              "    <tr>\n",
              "      <th>16</th>\n",
              "      <td>l1</td>\n",
              "      <td>1000</td>\n",
              "      <td>NaN</td>\n",
              "    </tr>\n",
              "    <tr>\n",
              "      <th>18</th>\n",
              "      <td>l1</td>\n",
              "      <td>10000</td>\n",
              "      <td>NaN</td>\n",
              "    </tr>\n",
              "  </tbody>\n",
              "</table>\n",
              "</div>"
            ],
            "text/plain": [
              "   param_penalty param_C  mean_test_score\n",
              "9             l2     0.1         0.810337\n",
              "13            l2      10         0.808065\n",
              "15            l2     100         0.808065\n",
              "17            l2    1000         0.808065\n",
              "19            l2   10000         0.808065\n",
              "11            l2       1         0.806941\n",
              "7             l2    0.01         0.805855\n",
              "5             l2   0.001         0.697004\n",
              "1             l2   1e-05         0.616167\n",
              "3             l2  0.0001         0.616167\n",
              "0             l1   1e-05              NaN\n",
              "2             l1  0.0001              NaN\n",
              "4             l1   0.001              NaN\n",
              "6             l1    0.01              NaN\n",
              "8             l1     0.1              NaN\n",
              "10            l1       1              NaN\n",
              "12            l1      10              NaN\n",
              "14            l1     100              NaN\n",
              "16            l1    1000              NaN\n",
              "18            l1   10000              NaN"
            ]
          },
          "metadata": {
            "tags": []
          },
          "execution_count": 35
        }
      ]
    },
    {
      "cell_type": "code",
      "metadata": {
        "id": "Mwgs6qs8njjX",
        "colab_type": "code",
        "colab": {
          "base_uri": "https://localhost:8080/",
          "height": 51
        },
        "outputId": "5eec0d4f-06a6-43cb-c47e-c7abe523e3f2"
      },
      "source": [
        "# randomized search\n",
        "from sklearn.model_selection import RandomizedSearchCV\n",
        "rs_cv = RandomizedSearchCV(estimator=log_reg,\n",
        "                           param_distributions = parameters,\n",
        "                           cv = 10,\n",
        "                           n_iter = 10,\n",
        "                           random_state = 42,\n",
        "                           scoring = \"accuracy\"\n",
        "                      )\n",
        "rs_cv.fit(X_train, Y_train)\n",
        "\n",
        "print(\"En iyi parametreler        : \", rs_cv.best_params_)\n",
        "print(\"En iyi hassasiyet değeri   : \", rs_cv.best_score_)"
      ],
      "execution_count": 41,
      "outputs": [
        {
          "output_type": "stream",
          "text": [
            "En iyi parametreler        :  {'penalty': 'l2', 'C': 1000}\n",
            "En iyi hassasiyet değeri   :  0.8080649188514357\n"
          ],
          "name": "stdout"
        }
      ]
    },
    {
      "cell_type": "code",
      "metadata": {
        "id": "v5ce5jW6oWXx",
        "colab_type": "code",
        "colab": {
          "base_uri": "https://localhost:8080/",
          "height": 359
        },
        "outputId": "c179b13f-3177-48f8-b45f-de00e02018e8"
      },
      "source": [
        "results = rs_cv.cv_results_\n",
        "df = pd.DataFrame(results)\n",
        "df = df[['param_penalty','param_C', 'mean_test_score']]\n",
        "df = df.sort_values(by='mean_test_score', ascending = False)\n",
        "df"
      ],
      "execution_count": 42,
      "outputs": [
        {
          "output_type": "execute_result",
          "data": {
            "text/html": [
              "<div>\n",
              "<style scoped>\n",
              "    .dataframe tbody tr th:only-of-type {\n",
              "        vertical-align: middle;\n",
              "    }\n",
              "\n",
              "    .dataframe tbody tr th {\n",
              "        vertical-align: top;\n",
              "    }\n",
              "\n",
              "    .dataframe thead th {\n",
              "        text-align: right;\n",
              "    }\n",
              "</style>\n",
              "<table border=\"1\" class=\"dataframe\">\n",
              "  <thead>\n",
              "    <tr style=\"text-align: right;\">\n",
              "      <th></th>\n",
              "      <th>param_penalty</th>\n",
              "      <th>param_C</th>\n",
              "      <th>mean_test_score</th>\n",
              "    </tr>\n",
              "  </thead>\n",
              "  <tbody>\n",
              "    <tr>\n",
              "      <th>1</th>\n",
              "      <td>l2</td>\n",
              "      <td>1000</td>\n",
              "      <td>0.808065</td>\n",
              "    </tr>\n",
              "    <tr>\n",
              "      <th>2</th>\n",
              "      <td>l2</td>\n",
              "      <td>100</td>\n",
              "      <td>0.808065</td>\n",
              "    </tr>\n",
              "    <tr>\n",
              "      <th>6</th>\n",
              "      <td>l2</td>\n",
              "      <td>1</td>\n",
              "      <td>0.806941</td>\n",
              "    </tr>\n",
              "    <tr>\n",
              "      <th>5</th>\n",
              "      <td>l2</td>\n",
              "      <td>0.001</td>\n",
              "      <td>0.697004</td>\n",
              "    </tr>\n",
              "    <tr>\n",
              "      <th>3</th>\n",
              "      <td>l2</td>\n",
              "      <td>1e-05</td>\n",
              "      <td>0.616167</td>\n",
              "    </tr>\n",
              "    <tr>\n",
              "      <th>7</th>\n",
              "      <td>l2</td>\n",
              "      <td>0.0001</td>\n",
              "      <td>0.616167</td>\n",
              "    </tr>\n",
              "    <tr>\n",
              "      <th>0</th>\n",
              "      <td>l1</td>\n",
              "      <td>1e-05</td>\n",
              "      <td>NaN</td>\n",
              "    </tr>\n",
              "    <tr>\n",
              "      <th>4</th>\n",
              "      <td>l1</td>\n",
              "      <td>0.1</td>\n",
              "      <td>NaN</td>\n",
              "    </tr>\n",
              "    <tr>\n",
              "      <th>8</th>\n",
              "      <td>l1</td>\n",
              "      <td>10000</td>\n",
              "      <td>NaN</td>\n",
              "    </tr>\n",
              "    <tr>\n",
              "      <th>9</th>\n",
              "      <td>l1</td>\n",
              "      <td>1000</td>\n",
              "      <td>NaN</td>\n",
              "    </tr>\n",
              "  </tbody>\n",
              "</table>\n",
              "</div>"
            ],
            "text/plain": [
              "  param_penalty param_C  mean_test_score\n",
              "1            l2    1000         0.808065\n",
              "2            l2     100         0.808065\n",
              "6            l2       1         0.806941\n",
              "5            l2   0.001         0.697004\n",
              "3            l2   1e-05         0.616167\n",
              "7            l2  0.0001         0.616167\n",
              "0            l1   1e-05              NaN\n",
              "4            l1     0.1              NaN\n",
              "8            l1   10000              NaN\n",
              "9            l1    1000              NaN"
            ]
          },
          "metadata": {
            "tags": []
          },
          "execution_count": 42
        }
      ]
    }
  ]
}