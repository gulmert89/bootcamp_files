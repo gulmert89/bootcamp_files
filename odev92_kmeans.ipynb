{
  "nbformat": 4,
  "nbformat_minor": 0,
  "metadata": {
    "colab": {
      "name": "odev92_kmeans.ipynb",
      "provenance": [],
      "collapsed_sections": [],
      "include_colab_link": true
    },
    "kernelspec": {
      "name": "python3",
      "display_name": "Python 3"
    }
  },
  "cells": [
    {
      "cell_type": "markdown",
      "metadata": {
        "id": "view-in-github",
        "colab_type": "text"
      },
      "source": [
        "<a href=\"https://colab.research.google.com/github/gulmert89/dsBootcamp/blob/master/odev92_kmeans.ipynb\" target=\"_parent\"><img src=\"https://colab.research.google.com/assets/colab-badge.svg\" alt=\"Open In Colab\"/></a>"
      ]
    },
    {
      "cell_type": "markdown",
      "metadata": {
        "id": "3vbrmOZa89Lj",
        "colab_type": "text"
      },
      "source": [
        "# 9.2 - Kümeleme Algoritmaları: Kmeans\n",
        "## Ödev:\n",
        "1) Bu ödevin amacı, iris veri kümesine k-ortalama uygulamak ve k değerini değiştirdiğinde ne olacağını görmektir. Varsa, hangi çözümü en iyi olarak görüyorsunuz? Karmaşıklık bu veri kümesinde bir sorun olmaya başlıyor mu? Bulgularınızı mentörle paylaşın. 3'ten fazla kümey içeren bir sonuç bulabileceğinizi aklınızdan çıkarmayın.Bu kümelerden ikisi tek bir çiçek türüyle eşleşirken, diğer ikisi örneğin diğer türlerle eşlenir.\n",
        "\n",
        "\n",
        "2) Bu ödevde, UC Irvine Machine Learning Repository'de bulunan kalp hastalığı veri setiyle çalışacaksınız.\n",
        "\n",
        "Veri setini kullanmadan önce bazı ön işlemler yapmanız gerekiyor:\n",
        "\n",
        "<code># Define the features and the outcome<br>\n",
        "X = heartdisease_df.iloc[:, :13]<br>\n",
        "y = heartdisease_df.iloc[:, 13]<br></code>\n",
        "\n",
        "<code># Replace missing values (marked by ?) with a 0<br>\n",
        "X = X.replace(to_replace='?', value=0)<br></code>\n",
        "\n",
        "<code># Binarize y so that 1 means heart disease diagnosis and 0 means no diagnosis<br>\n",
        "y = np.where(y > 0, 0, 1)<br></code>\n",
        "\n",
        "Burada, X sizin özellikleriniz olacak ve y içinde etiketleri tutuyoruz. Y, 1'e eşitse, o zaman karşılık gelen hastanın kalp hastalığı olduğunu ve y 0'a eşitse, hastanın kalp hastalığı olmadığını gösterir.\n",
        "\n",
        "Hastaları \"kalp hastalığı tanısı\" veya \"kalp hastalığı tanısı yok\" kümelerine doğru şekilde atayan bir k-ortalama çözümü oluşturun. Bu durumda, aslında iki olan verideki doğru küme sayısını biliyoruz. Ancak burada, k-ortalamanın beklediğimiz şekilde gözlemleri atayıp atamadığını test edeceksiniz. K-ortalama, denetimsiz bir öğrenme algoritması olduğu için, hastaların kalp hastalığı olup olmadığına karşı kör olacaktır.d"
      ]
    },
    {
      "cell_type": "code",
      "metadata": {
        "id": "CQ5erYXnOH_N",
        "colab_type": "code",
        "colab": {}
      },
      "source": [
        ""
      ],
      "execution_count": null,
      "outputs": []
    }
  ]
}