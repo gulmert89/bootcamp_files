{
  "nbformat": 4,
  "nbformat_minor": 0,
  "metadata": {
    "colab": {
      "name": "odev115_rnn.ipynb",
      "provenance": [],
      "collapsed_sections": [],
      "authorship_tag": "ABX9TyO5ZgriRpLfstafeNmDUk4R",
      "include_colab_link": true
    },
    "kernelspec": {
      "name": "python3",
      "display_name": "Python 3"
    },
    "accelerator": "GPU"
  },
  "cells": [
    {
      "cell_type": "markdown",
      "metadata": {
        "id": "view-in-github",
        "colab_type": "text"
      },
      "source": [
        "<a href=\"https://colab.research.google.com/github/gulmert89/dsBootcamp/blob/master/odev115_rnn.ipynb\" target=\"_parent\"><img src=\"https://colab.research.google.com/assets/colab-badge.svg\" alt=\"Open In Colab\"/></a>"
      ]
    },
    {
      "cell_type": "markdown",
      "metadata": {
        "id": "lcxkevvkuIXO"
      },
      "source": [
        "# Ödev 11.5 - Derin Öğrenmeye Giriş: Recurrent Neural Network (RNN) Modelleri"
      ]
    },
    {
      "cell_type": "markdown",
      "metadata": {
        "id": "TcAgaBFuuSN5"
      },
      "source": [
        "1) Derste gösterildiği gibi <code>pip install yfinance</code> komutunu kullanarak, kendinizin karar vereceği 2 farkli hisse senedi seçin ve bu hisse senetlerinin gelecek fiyatlarını LSTM kullanarak tahmin (1-step forecast) edin.\n",
        "\n",
        "2) RNN'de karşılaşılan sorunları ve neden LSTM'e ihtiyaç duyulduğunu kısaca tartışın.\n",
        "\n",
        "3) LSTM'de yer alan epoch ve batch size parametrelerinin ne olduğunu araştırın. 1. soruyu farklı epoch ve batch size değerleri ile tekrar çözüp, sonucu rapor edin."
      ]
    },
    {
      "cell_type": "markdown",
      "metadata": {
        "id": "KOej3fDFklnY"
      },
      "source": [
        "---\n",
        "# 1. Introduction"
      ]
    },
    {
      "cell_type": "markdown",
      "metadata": {
        "id": "W62JrcSo-shj"
      },
      "source": [
        "## 1.1 Imports"
      ]
    },
    {
      "cell_type": "code",
      "metadata": {
        "id": "52QDd4NuYIU7"
      },
      "source": [
        "# from google.colab import drive\n",
        "# drive.mount('/content/drive/')"
      ],
      "execution_count": null,
      "outputs": []
    },
    {
      "cell_type": "code",
      "metadata": {
        "id": "26otGQEoT-YN"
      },
      "source": [
        "import numpy as np\n",
        "import matplotlib.pyplot as plt\n",
        "import seaborn as sns\n",
        "import datetime, os\n",
        "from keras.datasets import cifar100\n",
        "from keras.utils import to_categorical\n",
        "from keras import models, layers"
      ],
      "execution_count": null,
      "outputs": []
    }
  ]
}