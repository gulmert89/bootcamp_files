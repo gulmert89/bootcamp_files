{
  "nbformat": 4,
  "nbformat_minor": 0,
  "metadata": {
    "colab": {
      "name": "odev93_evaluating-clusters.ipynb",
      "provenance": [],
      "collapsed_sections": [],
      "include_colab_link": true
    },
    "kernelspec": {
      "name": "python3",
      "display_name": "Python 3"
    }
  },
  "cells": [
    {
      "cell_type": "markdown",
      "metadata": {
        "id": "view-in-github",
        "colab_type": "text"
      },
      "source": [
        "<a href=\"https://colab.research.google.com/github/gulmert89/dsBootcamp/blob/master/odev93_evaluating_clusters.ipynb\" target=\"_parent\"><img src=\"https://colab.research.google.com/assets/colab-badge.svg\" alt=\"Open In Colab\"/></a>"
      ]
    },
    {
      "cell_type": "markdown",
      "metadata": {
        "id": "3vbrmOZa89Lj",
        "colab_type": "text"
      },
      "source": [
        "# 9.3 - Kümeleme Algoritmaları: Performans Ölçümü\n",
        "## Ödev:\n",
        "1) İki küme k-ortalama çözümünün siluet katsayısını elde edin. Siluet katsayısının, küme sayısının üç olduğu yukarıdakilerden büyük olacağını göreceksiniz. Iris veri setinin üç farklı kümeden oluştuğunu biliyoruz. Kümelerin sayısının doğru sınıf sayısına eşit olmasıyla çözümün siluet puanının, küme sayısının doğru sınıf sayısından farklı olduğu seviyeden daha düşük olduğunu nasıl açıklarsınız?\n",
        "\n",
        "\n",
        "2) Bu ödevde, UC Irvine Machine Learning Repository'de bulunan kalp hastalığı veri setiyle çalışacaksınız.\n",
        "\n",
        "Veri setini kullanmadan önce bazı ön işlemler yapmanız gerekiyor:\n",
        "\n",
        "<code># Define the features and the outcome<br>\n",
        "X = heartdisease_df.iloc[:, :13]<br>\n",
        "y = heartdisease_df.iloc[:, 13]<br></code>\n",
        "\n",
        "<code># Replace missing values (marked by ?) with a 0<br>\n",
        "X = X.replace(to_replace='?', value=0)<br></code>\n",
        "\n",
        "<code># Binarize y so that 1 means heart disease diagnosis and 0 means no diagnosis<br>\n",
        "y = np.where(y > 0, 0, 1)<br></code>\n",
        "\n",
        "Burada, X sizin özellikleriniz olacak ve y içinde etiketleri tutuyoruz. Y, 1'e eşitse, o zaman buna karşılık gelen hastanın kalp hastalığı olduğunu ve y'nin 0'a eşit olması durumunda, hastanın kalp hastalığı olmadığı anlaşılacaktır.\n",
        "\n",
        "* Verileri rastgele ikiye bölün ve bu bölümdeki tutarlılık tartışmamızda yaptığımız gibi, küme sayısı olarak iki, üç ve dört kullanarak k-ortalama uygulayın. Görselleştirmeyi kullanarak çözümlerin tutarlılığını değerlendirin. Hangisi en iyisi gibi görünüyor?\n",
        "* K veri setini tüm veri kümelerine k, iki, üç ve dört eşit olacak şekilde uygulayın ve her biri için ARI puanı alın. Hangi model en iyisidir?\n",
        "* K veri setini tüm veri kümelerine k, iki, üç ve dört eşit olacak şekilde uygulayın ve her biri için siluet katsayısı elde edin. Hangi model en iyisidir?"
      ]
    },
    {
      "cell_type": "markdown",
      "metadata": {
        "id": "Hu6g7Kfuw1cZ",
        "colab_type": "text"
      },
      "source": [
        "---\n",
        "## Soru 1"
      ]
    },
    {
      "cell_type": "code",
      "metadata": {
        "id": "CQ5erYXnOH_N",
        "colab_type": "code",
        "colab": {
          "base_uri": "https://localhost:8080/",
          "height": 122
        },
        "outputId": "206d13db-5ea2-4eb5-bd88-0143441c053f"
      },
      "source": [
        "# mounting the Google Drive\n",
        "from google.colab import drive\n",
        "drive.mount(\"/content/drive\")"
      ],
      "execution_count": 1,
      "outputs": [
        {
          "output_type": "stream",
          "text": [
            "Go to this URL in a browser: https://accounts.google.com/o/oauth2/auth?client_id=947318989803-6bn6qk8qdgf4n4g3pfee6491hc0brc4i.apps.googleusercontent.com&redirect_uri=urn%3aietf%3awg%3aoauth%3a2.0%3aoob&scope=email%20https%3a%2f%2fwww.googleapis.com%2fauth%2fdocs.test%20https%3a%2f%2fwww.googleapis.com%2fauth%2fdrive%20https%3a%2f%2fwww.googleapis.com%2fauth%2fdrive.photos.readonly%20https%3a%2f%2fwww.googleapis.com%2fauth%2fpeopleapi.readonly&response_type=code\n",
            "\n",
            "Enter your authorization code:\n",
            "··········\n",
            "Mounted at /content/drive\n"
          ],
          "name": "stdout"
        }
      ]
    },
    {
      "cell_type": "code",
      "metadata": {
        "id": "K3PladRWHg4Q",
        "colab_type": "code",
        "colab": {}
      },
      "source": [
        "# required packages\n",
        "import pandas as pd\n",
        "import numpy as np\n",
        "import matplotlib.pyplot as plt\n",
        "import seaborn as sns; sns.set_style(\"whitegrid\")\n",
        "from sklearn.preprocessing import StandardScaler\n",
        "from sklearn.decomposition import PCA\n",
        "from sklearn.cluster import KMeans, MiniBatchKMeans\n",
        "from sklearn import datasets, metrics"
      ],
      "execution_count": 5,
      "outputs": []
    },
    {
      "cell_type": "code",
      "metadata": {
        "id": "K4wcgUu1yrHa",
        "colab_type": "code",
        "colab": {}
      },
      "source": [
        "# preprocessing\n",
        "iris = datasets.load_iris()\n",
        "x1 = iris.data\n",
        "y1 = iris.target\n",
        "\n",
        "scaler = StandardScaler()\n",
        "x1_std = scaler.fit_transform(x1)"
      ],
      "execution_count": 3,
      "outputs": []
    },
    {
      "cell_type": "code",
      "metadata": {
        "id": "PYxgXvOfw23A",
        "colab_type": "code",
        "colab": {}
      },
      "source": [
        "def kmeans_creator1(n):\n",
        "    # forming KMeans model with 'n' clusters\n",
        "    kmeans_cluster = KMeans(n_clusters=n, random_state=42)\n",
        "    # fit the model\n",
        "    kmeans_cluster.fit(x1_std)\n",
        "    y1_prediction = kmeans_cluster.predict(x1_std)\n",
        "    # silhouette score\n",
        "    silhouette = metrics.silhouette_score(X=x1_std, \n",
        "                                          labels=y1_prediction, \n",
        "                                          metric=\"euclidean\")\n",
        "    print(f\"Silhouette score of the model with {n} clusters: {silhouette:.3f}\")\n",
        "    return silhouette"
      ],
      "execution_count": 122,
      "outputs": []
    },
    {
      "cell_type": "code",
      "metadata": {
        "id": "yzj4d9fcuuHk",
        "colab_type": "code",
        "colab": {
          "base_uri": "https://localhost:8080/",
          "height": 153
        },
        "outputId": "df4ef81a-4297-4961-8e83-3106e7fce62b"
      },
      "source": [
        "# silhouette score of the model with various clusters\n",
        "silhouette_scores = []\n",
        "for i in range(2,10):\n",
        "    silhouette_scores.append(kmeans_creator1(i))"
      ],
      "execution_count": 123,
      "outputs": [
        {
          "output_type": "stream",
          "text": [
            "Silhouette score of the model with 2 clusters: 0.582\n",
            "Silhouette score of the model with 3 clusters: 0.460\n",
            "Silhouette score of the model with 4 clusters: 0.419\n",
            "Silhouette score of the model with 5 clusters: 0.346\n",
            "Silhouette score of the model with 6 clusters: 0.326\n",
            "Silhouette score of the model with 7 clusters: 0.327\n",
            "Silhouette score of the model with 8 clusters: 0.332\n",
            "Silhouette score of the model with 9 clusters: 0.354\n"
          ],
          "name": "stdout"
        }
      ]
    },
    {
      "cell_type": "code",
      "metadata": {
        "id": "Jb7AFITzxenf",
        "colab_type": "code",
        "colab": {
          "base_uri": "https://localhost:8080/",
          "height": 446
        },
        "outputId": "dad09583-d783-467f-acb1-12973baf3b7a"
      },
      "source": [
        "plt.figure(figsize=(10,7))\n",
        "# plot\n",
        "plt.plot(list(range(2,10)), silhouette_scores, label=\"Silhouette Score\", color=\"black\", \n",
        "         marker=\".\", markersize=10)\n",
        "# vertical line\n",
        "plt.vlines(x=3, ymin=0.25, ymax=max(silhouette_scores), colors=\"red\", \n",
        "           linestyles=\"dashed\", label=\"True Value\", alpha=0.4)\n",
        "# horizontal line\n",
        "plt.hlines(y=silhouette_scores[1], xmin=2.25, xmax=3.75, colors=\"blue\", \n",
        "           linestyles=\"dashed\", alpha=0.4)\n",
        "# text for the true cluster number\n",
        "plt.text(x=3.1, y=(silhouette_scores[1]+0.01), s=f\"{silhouette_scores[1]:.3f}\", color=\"darkblue\",\n",
        "         weight=\"bold\", alpha=0.8)\n",
        "\n",
        "plt.xlabel(\"Cluster Number\", size=14, weight=\"bold\")\n",
        "plt.ylabel(\"Silhouette Scores\", size=14, weight=\"bold\")\n",
        "plt.legend(fontsize=\"large\", frameon=True, framealpha=0.8, loc=(0.569, 0.81))\n",
        "plt.show()"
      ],
      "execution_count": 130,
      "outputs": [
        {
          "output_type": "display_data",
          "data": {
            "image/png": "[encoded data removed]",
            "text/plain": [
              "<Figure size 720x504 with 1 Axes>"
            ]
          },
          "metadata": {
            "tags": []
          }
        }
      ]
    },
    {
      "cell_type": "markdown",
      "metadata": {
        "id": "6gaUJ1O_wZry",
        "colab_type": "text"
      },
      "source": [
        "---\n",
        "## Soru 2"
      ]
    },
    {
      "cell_type": "code",
      "metadata": {
        "id": "qrCdE94FHiiP",
        "colab_type": "code",
        "colab": {}
      },
      "source": [
        "columns = [\"age\", \"sex\", \"cp\", \"restbp\", \"chol\", \"fbs\", \"restecg\", \n",
        "           \"thalach\", \"exang\", \"oldpeak\", \"slope\", \"ca\", \"thal\", \"num\"]\n",
        "\n",
        "heart_disease = pd.read_csv(\"/content/drive/My Drive/MertColab/odevler/Cleveland.data\", sep=\",\", names=columns)\n",
        "del columns"
      ],
      "execution_count": null,
      "outputs": []
    },
    {
      "cell_type": "code",
      "metadata": {
        "id": "d6nkqi8vu-jD",
        "colab_type": "code",
        "colab": {
          "base_uri": "https://localhost:8080/",
          "height": 204
        },
        "outputId": "0f715ed5-5d66-445c-8c62-65e6b919e852"
      },
      "source": [
        "heart_disease.head()"
      ],
      "execution_count": null,
      "outputs": [
        {
          "output_type": "execute_result",
          "data": {
            "text/html": [
              "<div>\n",
              "<style scoped>\n",
              "    .dataframe tbody tr th:only-of-type {\n",
              "        vertical-align: middle;\n",
              "    }\n",
              "\n",
              "    .dataframe tbody tr th {\n",
              "        vertical-align: top;\n",
              "    }\n",
              "\n",
              "    .dataframe thead th {\n",
              "        text-align: right;\n",
              "    }\n",
              "</style>\n",
              "<table border=\"1\" class=\"dataframe\">\n",
              "  <thead>\n",
              "    <tr style=\"text-align: right;\">\n",
              "      <th></th>\n",
              "      <th>age</th>\n",
              "      <th>sex</th>\n",
              "      <th>cp</th>\n",
              "      <th>restbp</th>\n",
              "      <th>chol</th>\n",
              "      <th>fbs</th>\n",
              "      <th>restecg</th>\n",
              "      <th>thalach</th>\n",
              "      <th>exang</th>\n",
              "      <th>oldpeak</th>\n",
              "      <th>slope</th>\n",
              "      <th>ca</th>\n",
              "      <th>thal</th>\n",
              "      <th>num</th>\n",
              "    </tr>\n",
              "  </thead>\n",
              "  <tbody>\n",
              "    <tr>\n",
              "      <th>0</th>\n",
              "      <td>63.0</td>\n",
              "      <td>1.0</td>\n",
              "      <td>1.0</td>\n",
              "      <td>145.0</td>\n",
              "      <td>233.0</td>\n",
              "      <td>1.0</td>\n",
              "      <td>2.0</td>\n",
              "      <td>150.0</td>\n",
              "      <td>0.0</td>\n",
              "      <td>2.3</td>\n",
              "      <td>3.0</td>\n",
              "      <td>0.0</td>\n",
              "      <td>6.0</td>\n",
              "      <td>0</td>\n",
              "    </tr>\n",
              "    <tr>\n",
              "      <th>1</th>\n",
              "      <td>67.0</td>\n",
              "      <td>1.0</td>\n",
              "      <td>4.0</td>\n",
              "      <td>160.0</td>\n",
              "      <td>286.0</td>\n",
              "      <td>0.0</td>\n",
              "      <td>2.0</td>\n",
              "      <td>108.0</td>\n",
              "      <td>1.0</td>\n",
              "      <td>1.5</td>\n",
              "      <td>2.0</td>\n",
              "      <td>3.0</td>\n",
              "      <td>3.0</td>\n",
              "      <td>2</td>\n",
              "    </tr>\n",
              "    <tr>\n",
              "      <th>2</th>\n",
              "      <td>67.0</td>\n",
              "      <td>1.0</td>\n",
              "      <td>4.0</td>\n",
              "      <td>120.0</td>\n",
              "      <td>229.0</td>\n",
              "      <td>0.0</td>\n",
              "      <td>2.0</td>\n",
              "      <td>129.0</td>\n",
              "      <td>1.0</td>\n",
              "      <td>2.6</td>\n",
              "      <td>2.0</td>\n",
              "      <td>2.0</td>\n",
              "      <td>7.0</td>\n",
              "      <td>1</td>\n",
              "    </tr>\n",
              "    <tr>\n",
              "      <th>3</th>\n",
              "      <td>37.0</td>\n",
              "      <td>1.0</td>\n",
              "      <td>3.0</td>\n",
              "      <td>130.0</td>\n",
              "      <td>250.0</td>\n",
              "      <td>0.0</td>\n",
              "      <td>0.0</td>\n",
              "      <td>187.0</td>\n",
              "      <td>0.0</td>\n",
              "      <td>3.5</td>\n",
              "      <td>3.0</td>\n",
              "      <td>0.0</td>\n",
              "      <td>3.0</td>\n",
              "      <td>0</td>\n",
              "    </tr>\n",
              "    <tr>\n",
              "      <th>4</th>\n",
              "      <td>41.0</td>\n",
              "      <td>0.0</td>\n",
              "      <td>2.0</td>\n",
              "      <td>130.0</td>\n",
              "      <td>204.0</td>\n",
              "      <td>0.0</td>\n",
              "      <td>2.0</td>\n",
              "      <td>172.0</td>\n",
              "      <td>0.0</td>\n",
              "      <td>1.4</td>\n",
              "      <td>1.0</td>\n",
              "      <td>0.0</td>\n",
              "      <td>3.0</td>\n",
              "      <td>0</td>\n",
              "    </tr>\n",
              "  </tbody>\n",
              "</table>\n",
              "</div>"
            ],
            "text/plain": [
              "    age  sex   cp  restbp   chol  fbs  ...  exang  oldpeak  slope   ca  thal num\n",
              "0  63.0  1.0  1.0   145.0  233.0  1.0  ...    0.0      2.3    3.0  0.0   6.0   0\n",
              "1  67.0  1.0  4.0   160.0  286.0  0.0  ...    1.0      1.5    2.0  3.0   3.0   2\n",
              "2  67.0  1.0  4.0   120.0  229.0  0.0  ...    1.0      2.6    2.0  2.0   7.0   1\n",
              "3  37.0  1.0  3.0   130.0  250.0  0.0  ...    0.0      3.5    3.0  0.0   3.0   0\n",
              "4  41.0  0.0  2.0   130.0  204.0  0.0  ...    0.0      1.4    1.0  0.0   3.0   0\n",
              "\n",
              "[5 rows x 14 columns]"
            ]
          },
          "metadata": {
            "tags": []
          },
          "execution_count": 10
        }
      ]
    },
    {
      "cell_type": "code",
      "metadata": {
        "id": "64UU4HWuq_Cz",
        "colab_type": "code",
        "colab": {
          "base_uri": "https://localhost:8080/",
          "height": 374
        },
        "outputId": "49b7dcaa-bfca-4533-b8ee-13e42ba9bbdc"
      },
      "source": [
        "heart_disease.info()"
      ],
      "execution_count": null,
      "outputs": [
        {
          "output_type": "stream",
          "text": [
            "<class 'pandas.core.frame.DataFrame'>\n",
            "RangeIndex: 303 entries, 0 to 302\n",
            "Data columns (total 14 columns):\n",
            " #   Column   Non-Null Count  Dtype  \n",
            "---  ------   --------------  -----  \n",
            " 0   age      303 non-null    float64\n",
            " 1   sex      303 non-null    float64\n",
            " 2   cp       303 non-null    float64\n",
            " 3   restbp   303 non-null    float64\n",
            " 4   chol     303 non-null    float64\n",
            " 5   fbs      303 non-null    float64\n",
            " 6   restecg  303 non-null    float64\n",
            " 7   thalach  303 non-null    float64\n",
            " 8   exang    303 non-null    float64\n",
            " 9   oldpeak  303 non-null    float64\n",
            " 10  slope    303 non-null    float64\n",
            " 11  ca       303 non-null    object \n",
            " 12  thal     303 non-null    object \n",
            " 13  num      303 non-null    int64  \n",
            "dtypes: float64(11), int64(1), object(2)\n",
            "memory usage: 33.3+ KB\n"
          ],
          "name": "stdout"
        }
      ]
    },
    {
      "cell_type": "code",
      "metadata": {
        "id": "uQciCyaDsZj6",
        "colab_type": "code",
        "colab": {}
      },
      "source": [
        "# preprocess\n",
        "x2 = heart_disease.iloc[:, :13]\n",
        "y2 = heart_disease.iloc[:, 13]\n",
        "\n",
        "x2 = x2.replace(to_replace=\"?\", value=0)\n",
        "x2 = x2.astype(\"float64\")\n",
        "y2 = np.where(y2>0, 1, 0)\n",
        "\n",
        "x2_std = scaler.fit_transform(x2)"
      ],
      "execution_count": null,
      "outputs": []
    },
    {
      "cell_type": "code",
      "metadata": {
        "id": "AH1c08I0wn8Z",
        "colab_type": "code",
        "colab": {}
      },
      "source": [
        "def kmeans_creator2(cluster_number):\n",
        "    kmeans_cluster = KMeans(n_clusters=cluster_number, random_state=42)\n",
        "    # fit the model\n",
        "    kmeans_cluster.fit(x2_std)\n",
        "    y2_prediction = kmeans_cluster.predict(x2_std)\n"
      ],
      "execution_count": null,
      "outputs": []
    }
  ]
}