{
 "cells": [
  {
   "cell_type": "markdown",
   "metadata": {},
   "source": [
    "# HackerEarth Machine Learning Challenge\n",
    "## Predict the employee burn out rate"
   ]
  },
  {
   "cell_type": "markdown",
   "metadata": {},
   "source": [
    "**ABOUT CHALLENGE** <br>\n",
    "*\\\"To win in the marketplace, you must first win in the workplace.\\\"*\n",
    "~ Doug Conant\n",
    "\n",
    "And rightly so! Happy and healthy employees are indisputably more productive at work, and in turn, help the business flourish profoundly.\n",
    "\n",
    "However, since working from home has become the new strange normal, over 69% of employees have been showing burnout symptoms globally (source: Monster poll). This rate of burnout is indeed alarming and the likes of Google and Cisco (even HackerEarth!) are taking steps that ensure wellness and reduce burnout among employees.\n",
    "\n",
    "On the occasion of World Mental Health Day this October 10th, your organization has stepped in to help its employees plan their weekly calendars appropriately so as to prevent burning out. Your task, as a Machine Learning engineer, is to build a Machine Learning model that predicts burnout rate based on numerous factors such as WFH setup, resources, mental fatigue score, and the like."
   ]
  },
  {
   "cell_type": "markdown",
   "metadata": {},
   "source": [
    "***\n",
    "**Participant:** Mert Gül<br>\n",
    "Hackathon Link: [HackerEarth](https://www.hackerearth.com/challenges/competitive/hackerearth-machine-learning-challenge-predict-burnout-rate/)<br>\n",
    "More information on the dataset: [Kaggle](https://www.kaggle.com/blurredmachine/are-your-employees-burning-out)\n",
    "***"
   ]
  },
  {
   "cell_type": "markdown",
   "metadata": {},
   "source": [
    "# 1\\. Introduction"
   ]
  },
  {
   "cell_type": "markdown",
   "metadata": {},
   "source": [
    "## 1.1 Imports & Dataset"
   ]
  },
  {
   "cell_type": "code",
   "execution_count": 24,
   "metadata": {},
   "outputs": [],
   "source": [
    "import numpy as np\n",
    "import pandas as pd\n",
    "import seaborn as sns\n",
    "import matplotlib.pyplot as plt\n",
    "from pandas_profiling import ProfileReport"
   ]
  },
  {
   "cell_type": "code",
   "execution_count": 25,
   "metadata": {},
   "outputs": [],
   "source": [
    "train = pd.read_csv(\"train.csv\")\n",
    "test = pd.read_csv(\"test.csv\")"
   ]
  },
  {
   "cell_type": "markdown",
   "metadata": {},
   "source": [
    "# 2\\. Preprocessing"
   ]
  },
  {
   "cell_type": "markdown",
   "metadata": {},
   "source": [
    "## 2.1 Examine The Dataset"
   ]
  },
  {
   "cell_type": "code",
   "execution_count": 6,
   "metadata": {
    "scrolled": true
   },
   "outputs": [
    {
     "data": {
      "text/html": [
       "<div>\n",
       "<style scoped>\n",
       "    .dataframe tbody tr th:only-of-type {\n",
       "        vertical-align: middle;\n",
       "    }\n",
       "\n",
       "    .dataframe tbody tr th {\n",
       "        vertical-align: top;\n",
       "    }\n",
       "\n",
       "    .dataframe thead th {\n",
       "        text-align: right;\n",
       "    }\n",
       "</style>\n",
       "<table border=\"1\" class=\"dataframe\">\n",
       "  <thead>\n",
       "    <tr style=\"text-align: right;\">\n",
       "      <th></th>\n",
       "      <th>Employee ID</th>\n",
       "      <th>Date of Joining</th>\n",
       "      <th>Gender</th>\n",
       "      <th>Company Type</th>\n",
       "      <th>WFH Setup Available</th>\n",
       "      <th>Designation</th>\n",
       "      <th>Resource Allocation</th>\n",
       "      <th>Mental Fatigue Score</th>\n",
       "      <th>Burn Rate</th>\n",
       "    </tr>\n",
       "  </thead>\n",
       "  <tbody>\n",
       "    <tr>\n",
       "      <th>0</th>\n",
       "      <td>fffe32003000360033003200</td>\n",
       "      <td>2008-09-30</td>\n",
       "      <td>Female</td>\n",
       "      <td>Service</td>\n",
       "      <td>No</td>\n",
       "      <td>2.0</td>\n",
       "      <td>3.0</td>\n",
       "      <td>3.8</td>\n",
       "      <td>0.16</td>\n",
       "    </tr>\n",
       "    <tr>\n",
       "      <th>1</th>\n",
       "      <td>fffe3700360033003500</td>\n",
       "      <td>2008-11-30</td>\n",
       "      <td>Male</td>\n",
       "      <td>Service</td>\n",
       "      <td>Yes</td>\n",
       "      <td>1.0</td>\n",
       "      <td>2.0</td>\n",
       "      <td>5.0</td>\n",
       "      <td>0.36</td>\n",
       "    </tr>\n",
       "    <tr>\n",
       "      <th>2</th>\n",
       "      <td>fffe31003300320037003900</td>\n",
       "      <td>2008-03-10</td>\n",
       "      <td>Female</td>\n",
       "      <td>Product</td>\n",
       "      <td>Yes</td>\n",
       "      <td>2.0</td>\n",
       "      <td>NaN</td>\n",
       "      <td>5.8</td>\n",
       "      <td>0.49</td>\n",
       "    </tr>\n",
       "    <tr>\n",
       "      <th>3</th>\n",
       "      <td>fffe32003400380032003900</td>\n",
       "      <td>2008-11-03</td>\n",
       "      <td>Male</td>\n",
       "      <td>Service</td>\n",
       "      <td>Yes</td>\n",
       "      <td>1.0</td>\n",
       "      <td>1.0</td>\n",
       "      <td>2.6</td>\n",
       "      <td>0.20</td>\n",
       "    </tr>\n",
       "    <tr>\n",
       "      <th>4</th>\n",
       "      <td>fffe31003900340031003600</td>\n",
       "      <td>2008-07-24</td>\n",
       "      <td>Female</td>\n",
       "      <td>Service</td>\n",
       "      <td>No</td>\n",
       "      <td>3.0</td>\n",
       "      <td>7.0</td>\n",
       "      <td>6.9</td>\n",
       "      <td>0.52</td>\n",
       "    </tr>\n",
       "  </tbody>\n",
       "</table>\n",
       "</div>"
      ],
      "text/plain": [
       "                Employee ID Date of Joining  Gender Company Type  \\\n",
       "0  fffe32003000360033003200      2008-09-30  Female      Service   \n",
       "1      fffe3700360033003500      2008-11-30    Male      Service   \n",
       "2  fffe31003300320037003900      2008-03-10  Female      Product   \n",
       "3  fffe32003400380032003900      2008-11-03    Male      Service   \n",
       "4  fffe31003900340031003600      2008-07-24  Female      Service   \n",
       "\n",
       "  WFH Setup Available  Designation  Resource Allocation  Mental Fatigue Score  \\\n",
       "0                  No          2.0                  3.0                   3.8   \n",
       "1                 Yes          1.0                  2.0                   5.0   \n",
       "2                 Yes          2.0                  NaN                   5.8   \n",
       "3                 Yes          1.0                  1.0                   2.6   \n",
       "4                  No          3.0                  7.0                   6.9   \n",
       "\n",
       "   Burn Rate  \n",
       "0       0.16  \n",
       "1       0.36  \n",
       "2       0.49  \n",
       "3       0.20  \n",
       "4       0.52  "
      ]
     },
     "execution_count": 6,
     "metadata": {},
     "output_type": "execute_result"
    }
   ],
   "source": [
    "train.head()"
   ]
  },
  {
   "cell_type": "code",
   "execution_count": 37,
   "metadata": {
    "scrolled": true
   },
   "outputs": [
    {
     "name": "stdout",
     "output_type": "stream",
     "text": [
      "<class 'pandas.core.frame.DataFrame'>\n",
      "RangeIndex: 22578 entries, 0 to 22577\n",
      "Data columns (total 9 columns):\n",
      " #   Column                Non-Null Count  Dtype  \n",
      "---  ------                --------------  -----  \n",
      " 0   Employee ID           22578 non-null  object \n",
      " 1   Date of Joining       22578 non-null  float32\n",
      " 2   is_male               22578 non-null  uint8  \n",
      " 3   is_service            22578 non-null  uint8  \n",
      " 4   wfh_available         22578 non-null  uint8  \n",
      " 5   Designation           22578 non-null  float64\n",
      " 6   Resource Allocation   21212 non-null  float64\n",
      " 7   Mental Fatigue Score  20633 non-null  float64\n",
      " 8   Burn Rate             21626 non-null  float64\n",
      "dtypes: float32(1), float64(4), object(1), uint8(3)\n",
      "memory usage: 1.0+ MB\n"
     ]
    }
   ],
   "source": [
    "train.info()"
   ]
  },
  {
   "cell_type": "code",
   "execution_count": 60,
   "metadata": {
    "scrolled": false
   },
   "outputs": [
    {
     "data": {
      "text/plain": [
       "Employee ID             22750\n",
       "Date of Joining           366\n",
       "Gender                      2\n",
       "Company Type                2\n",
       "WFH Setup Available         2\n",
       "Designation                 6\n",
       "Resource Allocation        10\n",
       "Mental Fatigue Score      101\n",
       "Burn Rate                 101\n",
       "dtype: int64"
      ]
     },
     "execution_count": 60,
     "metadata": {},
     "output_type": "execute_result"
    }
   ],
   "source": [
    "# number of unique values per variable\n",
    "train.nunique()"
   ]
  },
  {
   "cell_type": "code",
   "execution_count": 61,
   "metadata": {
    "scrolled": false
   },
   "outputs": [
    {
     "data": {
      "text/plain": [
       "Employee ID                0\n",
       "Date of Joining            0\n",
       "Gender                     0\n",
       "Company Type               0\n",
       "WFH Setup Available        0\n",
       "Designation                0\n",
       "Resource Allocation     1381\n",
       "Mental Fatigue Score    2117\n",
       "Burn Rate               1124\n",
       "dtype: int64"
      ]
     },
     "execution_count": 61,
     "metadata": {},
     "output_type": "execute_result"
    }
   ],
   "source": [
    "# number of empty values\n",
    "train.isnull().sum()"
   ]
  },
  {
   "cell_type": "markdown",
   "metadata": {},
   "source": [
    "## 2.2 Processing The Variables"
   ]
  },
  {
   "cell_type": "markdown",
   "metadata": {},
   "source": [
    "### 2.2.1 One-Hot Encoding"
   ]
  },
  {
   "cell_type": "markdown",
   "metadata": {},
   "source": [
    "It would be useful to convert these columns;\n",
    "* Gender\n",
    "* Company Type\n",
    "* WFH Setup Available<br>\n",
    "\n",
    "to binary values by **one-hot encoding**."
   ]
  },
  {
   "cell_type": "code",
   "execution_count": 26,
   "metadata": {},
   "outputs": [],
   "source": [
    "is_male = pd.get_dummies(train.Gender, drop_first=True)\n",
    "is_service = pd.get_dummies(train[\"Company Type\"], drop_first=True)\n",
    "wfh_available = pd.get_dummies(train[\"WFH Setup Available\"], drop_first=True)"
   ]
  },
  {
   "cell_type": "code",
   "execution_count": 27,
   "metadata": {},
   "outputs": [],
   "source": [
    "for loc, column in enumerate([\"is_male\", \"is_service\", \"wfh_available\"], start=2):\n",
    "    train.insert(loc=loc, column=column, value=eval(column))\n",
    "\n",
    "train.drop(columns=[\"Gender\", \"Company Type\", \"WFH Setup Available\"], axis=1, inplace=True)"
   ]
  },
  {
   "cell_type": "code",
   "execution_count": 28,
   "metadata": {},
   "outputs": [
    {
     "data": {
      "text/html": [
       "<div>\n",
       "<style scoped>\n",
       "    .dataframe tbody tr th:only-of-type {\n",
       "        vertical-align: middle;\n",
       "    }\n",
       "\n",
       "    .dataframe tbody tr th {\n",
       "        vertical-align: top;\n",
       "    }\n",
       "\n",
       "    .dataframe thead th {\n",
       "        text-align: right;\n",
       "    }\n",
       "</style>\n",
       "<table border=\"1\" class=\"dataframe\">\n",
       "  <thead>\n",
       "    <tr style=\"text-align: right;\">\n",
       "      <th></th>\n",
       "      <th>Employee ID</th>\n",
       "      <th>Date of Joining</th>\n",
       "      <th>is_male</th>\n",
       "      <th>is_service</th>\n",
       "      <th>wfh_available</th>\n",
       "      <th>Designation</th>\n",
       "      <th>Resource Allocation</th>\n",
       "      <th>Mental Fatigue Score</th>\n",
       "      <th>Burn Rate</th>\n",
       "    </tr>\n",
       "  </thead>\n",
       "  <tbody>\n",
       "    <tr>\n",
       "      <th>0</th>\n",
       "      <td>fffe32003000360033003200</td>\n",
       "      <td>2008-09-30</td>\n",
       "      <td>0</td>\n",
       "      <td>1</td>\n",
       "      <td>0</td>\n",
       "      <td>2.0</td>\n",
       "      <td>3.0</td>\n",
       "      <td>3.8</td>\n",
       "      <td>0.16</td>\n",
       "    </tr>\n",
       "    <tr>\n",
       "      <th>1</th>\n",
       "      <td>fffe3700360033003500</td>\n",
       "      <td>2008-11-30</td>\n",
       "      <td>1</td>\n",
       "      <td>1</td>\n",
       "      <td>1</td>\n",
       "      <td>1.0</td>\n",
       "      <td>2.0</td>\n",
       "      <td>5.0</td>\n",
       "      <td>0.36</td>\n",
       "    </tr>\n",
       "    <tr>\n",
       "      <th>2</th>\n",
       "      <td>fffe31003300320037003900</td>\n",
       "      <td>2008-03-10</td>\n",
       "      <td>0</td>\n",
       "      <td>0</td>\n",
       "      <td>1</td>\n",
       "      <td>2.0</td>\n",
       "      <td>NaN</td>\n",
       "      <td>5.8</td>\n",
       "      <td>0.49</td>\n",
       "    </tr>\n",
       "    <tr>\n",
       "      <th>3</th>\n",
       "      <td>fffe32003400380032003900</td>\n",
       "      <td>2008-11-03</td>\n",
       "      <td>1</td>\n",
       "      <td>1</td>\n",
       "      <td>1</td>\n",
       "      <td>1.0</td>\n",
       "      <td>1.0</td>\n",
       "      <td>2.6</td>\n",
       "      <td>0.20</td>\n",
       "    </tr>\n",
       "    <tr>\n",
       "      <th>4</th>\n",
       "      <td>fffe31003900340031003600</td>\n",
       "      <td>2008-07-24</td>\n",
       "      <td>0</td>\n",
       "      <td>1</td>\n",
       "      <td>0</td>\n",
       "      <td>3.0</td>\n",
       "      <td>7.0</td>\n",
       "      <td>6.9</td>\n",
       "      <td>0.52</td>\n",
       "    </tr>\n",
       "  </tbody>\n",
       "</table>\n",
       "</div>"
      ],
      "text/plain": [
       "                Employee ID Date of Joining  is_male  is_service  \\\n",
       "0  fffe32003000360033003200      2008-09-30        0           1   \n",
       "1      fffe3700360033003500      2008-11-30        1           1   \n",
       "2  fffe31003300320037003900      2008-03-10        0           0   \n",
       "3  fffe32003400380032003900      2008-11-03        1           1   \n",
       "4  fffe31003900340031003600      2008-07-24        0           1   \n",
       "\n",
       "   wfh_available  Designation  Resource Allocation  Mental Fatigue Score  \\\n",
       "0              0          2.0                  3.0                   3.8   \n",
       "1              1          1.0                  2.0                   5.0   \n",
       "2              1          2.0                  NaN                   5.8   \n",
       "3              1          1.0                  1.0                   2.6   \n",
       "4              0          3.0                  7.0                   6.9   \n",
       "\n",
       "   Burn Rate  \n",
       "0       0.16  \n",
       "1       0.36  \n",
       "2       0.49  \n",
       "3       0.20  \n",
       "4       0.52  "
      ]
     },
     "execution_count": 28,
     "metadata": {},
     "output_type": "execute_result"
    }
   ],
   "source": [
    "train.head()"
   ]
  },
  {
   "cell_type": "markdown",
   "metadata": {},
   "source": [
    "### 2.2.2 The Column: \"Date of Joining\"\n",
    "All the employees in the dataset seem to join in 2008. Thus, omiting the year and converting the dates to integers (just to days) ***might*** help us a bit along the way. Here is what we are going to do:<br>\n",
    "* **Remove the year**\n",
    "* **Convert month + day to only days**\n",
    "    * *Example-1:* join date of 01-20 (Jan 20th) will have $1*31 + 20 = 51$ days\n",
    "    * *Example-2:* join date of 12-30 (Dec 30th) will have $2*31 + 30 = 402$ days\n",
    "* **Inverse the sorting** because the smaller the integers are, the more experienced employee will be.\n",
    "    * *Example:* So, the newest guy will have the maximum, the oldest will have the minimum days, right?\n",
    "    * To inverse the situation, a simple calculation will be performed:\n",
    "        * At the end, the oldest guy will have $|newGuysDays - oldGuysDays|$ in total w.r.t the new guy.\n",
    "        * And the newest guy will have 0 days.\n",
    "* Finally, **Normalize the numbers** to work with them better.<br>\n",
    "\n",
    "**Note:** All these process would be in vain because it might not affect the model at all. We will see :)"
   ]
  },
  {
   "cell_type": "code",
   "execution_count": 29,
   "metadata": {},
   "outputs": [
    {
     "name": "stdout",
     "output_type": "stream",
     "text": [
      "Wall time: 13.2 s\n"
     ]
    }
   ],
   "source": [
    "%%time\n",
    "month_dict = {\"01\":31, \"02\":29, \"03\":31, \n",
    "              \"04\":30, \"05\":31, \"06\":30, \n",
    "              \"07\":31, \"08\":31, \"09\":30, \n",
    "              \"10\":31, \"11\":30, \"12\":31}\n",
    "for i in range(len(train)):\n",
    "    x = train[\"Date of Joining\"][i].split(\"-\")    # sample output: ['2008', '09', '30']\n",
    "    x = eval(f\"{int(x[1])} * {month_dict[x[1]]} + {int(x[2])}\")    # sample output: 300\n",
    "    train.loc[i, \"Date of Joining\"] = x\n",
    "\n",
    "train[\"Date of Joining\"] = train[\"Date of Joining\"].astype(\"float32\")\n",
    "train[\"Date of Joining\"] = abs(train[\"Date of Joining\"] - train[\"Date of Joining\"].max())\n",
    "train[\"Date of Joining\"] /= train[\"Date of Joining\"].max()"
   ]
  },
  {
   "cell_type": "markdown",
   "metadata": {},
   "source": [
    "### 2.2.3 NaN Values"
   ]
  },
  {
   "cell_type": "code",
   "execution_count": 30,
   "metadata": {},
   "outputs": [
    {
     "data": {
      "text/html": [
       "<div>\n",
       "<style scoped>\n",
       "    .dataframe tbody tr th:only-of-type {\n",
       "        vertical-align: middle;\n",
       "    }\n",
       "\n",
       "    .dataframe tbody tr th {\n",
       "        vertical-align: top;\n",
       "    }\n",
       "\n",
       "    .dataframe thead th {\n",
       "        text-align: right;\n",
       "    }\n",
       "</style>\n",
       "<table border=\"1\" class=\"dataframe\">\n",
       "  <thead>\n",
       "    <tr style=\"text-align: right;\">\n",
       "      <th></th>\n",
       "      <th>Employee ID</th>\n",
       "      <th>Date of Joining</th>\n",
       "      <th>is_male</th>\n",
       "      <th>is_service</th>\n",
       "      <th>wfh_available</th>\n",
       "      <th>Designation</th>\n",
       "      <th>Resource Allocation</th>\n",
       "      <th>Mental Fatigue Score</th>\n",
       "      <th>Burn Rate</th>\n",
       "    </tr>\n",
       "  </thead>\n",
       "  <tbody>\n",
       "    <tr>\n",
       "      <th>45</th>\n",
       "      <td>fffe31003500330034003700</td>\n",
       "      <td>0.404313</td>\n",
       "      <td>1</td>\n",
       "      <td>1</td>\n",
       "      <td>1</td>\n",
       "      <td>2.0</td>\n",
       "      <td>3.0</td>\n",
       "      <td>NaN</td>\n",
       "      <td>NaN</td>\n",
       "    </tr>\n",
       "    <tr>\n",
       "      <th>47</th>\n",
       "      <td>fffe3500320032003000</td>\n",
       "      <td>0.765499</td>\n",
       "      <td>0</td>\n",
       "      <td>0</td>\n",
       "      <td>1</td>\n",
       "      <td>3.0</td>\n",
       "      <td>6.0</td>\n",
       "      <td>NaN</td>\n",
       "      <td>NaN</td>\n",
       "    </tr>\n",
       "    <tr>\n",
       "      <th>122</th>\n",
       "      <td>fffe31003400350030003200</td>\n",
       "      <td>0.584906</td>\n",
       "      <td>0</td>\n",
       "      <td>0</td>\n",
       "      <td>0</td>\n",
       "      <td>3.0</td>\n",
       "      <td>5.0</td>\n",
       "      <td>NaN</td>\n",
       "      <td>NaN</td>\n",
       "    </tr>\n",
       "    <tr>\n",
       "      <th>127</th>\n",
       "      <td>fffe3900340036003300</td>\n",
       "      <td>0.921833</td>\n",
       "      <td>1</td>\n",
       "      <td>1</td>\n",
       "      <td>0</td>\n",
       "      <td>3.0</td>\n",
       "      <td>5.0</td>\n",
       "      <td>NaN</td>\n",
       "      <td>NaN</td>\n",
       "    </tr>\n",
       "    <tr>\n",
       "      <th>135</th>\n",
       "      <td>fffe32003200360039003000</td>\n",
       "      <td>0.641509</td>\n",
       "      <td>0</td>\n",
       "      <td>1</td>\n",
       "      <td>1</td>\n",
       "      <td>1.0</td>\n",
       "      <td>4.0</td>\n",
       "      <td>NaN</td>\n",
       "      <td>NaN</td>\n",
       "    </tr>\n",
       "    <tr>\n",
       "      <th>...</th>\n",
       "      <td>...</td>\n",
       "      <td>...</td>\n",
       "      <td>...</td>\n",
       "      <td>...</td>\n",
       "      <td>...</td>\n",
       "      <td>...</td>\n",
       "      <td>...</td>\n",
       "      <td>...</td>\n",
       "      <td>...</td>\n",
       "    </tr>\n",
       "    <tr>\n",
       "      <th>21507</th>\n",
       "      <td>fffe3300370033003600</td>\n",
       "      <td>0.911051</td>\n",
       "      <td>1</td>\n",
       "      <td>1</td>\n",
       "      <td>0</td>\n",
       "      <td>2.0</td>\n",
       "      <td>4.0</td>\n",
       "      <td>NaN</td>\n",
       "      <td>NaN</td>\n",
       "    </tr>\n",
       "    <tr>\n",
       "      <th>21701</th>\n",
       "      <td>fffe3400360038003300</td>\n",
       "      <td>0.126685</td>\n",
       "      <td>1</td>\n",
       "      <td>0</td>\n",
       "      <td>1</td>\n",
       "      <td>2.0</td>\n",
       "      <td>4.0</td>\n",
       "      <td>NaN</td>\n",
       "      <td>NaN</td>\n",
       "    </tr>\n",
       "    <tr>\n",
       "      <th>21888</th>\n",
       "      <td>fffe31003900360035003200</td>\n",
       "      <td>0.792453</td>\n",
       "      <td>1</td>\n",
       "      <td>1</td>\n",
       "      <td>0</td>\n",
       "      <td>3.0</td>\n",
       "      <td>6.0</td>\n",
       "      <td>NaN</td>\n",
       "      <td>NaN</td>\n",
       "    </tr>\n",
       "    <tr>\n",
       "      <th>21937</th>\n",
       "      <td>fffe3700350034003500</td>\n",
       "      <td>0.318059</td>\n",
       "      <td>1</td>\n",
       "      <td>1</td>\n",
       "      <td>0</td>\n",
       "      <td>3.0</td>\n",
       "      <td>6.0</td>\n",
       "      <td>NaN</td>\n",
       "      <td>NaN</td>\n",
       "    </tr>\n",
       "    <tr>\n",
       "      <th>22475</th>\n",
       "      <td>fffe3400360032003000</td>\n",
       "      <td>0.436658</td>\n",
       "      <td>0</td>\n",
       "      <td>0</td>\n",
       "      <td>1</td>\n",
       "      <td>1.0</td>\n",
       "      <td>3.0</td>\n",
       "      <td>NaN</td>\n",
       "      <td>NaN</td>\n",
       "    </tr>\n",
       "  </tbody>\n",
       "</table>\n",
       "<p>172 rows × 9 columns</p>\n",
       "</div>"
      ],
      "text/plain": [
       "                    Employee ID  Date of Joining  is_male  is_service  \\\n",
       "45     fffe31003500330034003700         0.404313        1           1   \n",
       "47         fffe3500320032003000         0.765499        0           0   \n",
       "122    fffe31003400350030003200         0.584906        0           0   \n",
       "127        fffe3900340036003300         0.921833        1           1   \n",
       "135    fffe32003200360039003000         0.641509        0           1   \n",
       "...                         ...              ...      ...         ...   \n",
       "21507      fffe3300370033003600         0.911051        1           1   \n",
       "21701      fffe3400360038003300         0.126685        1           0   \n",
       "21888  fffe31003900360035003200         0.792453        1           1   \n",
       "21937      fffe3700350034003500         0.318059        1           1   \n",
       "22475      fffe3400360032003000         0.436658        0           0   \n",
       "\n",
       "       wfh_available  Designation  Resource Allocation  Mental Fatigue Score  \\\n",
       "45                 1          2.0                  3.0                   NaN   \n",
       "47                 1          3.0                  6.0                   NaN   \n",
       "122                0          3.0                  5.0                   NaN   \n",
       "127                0          3.0                  5.0                   NaN   \n",
       "135                1          1.0                  4.0                   NaN   \n",
       "...              ...          ...                  ...                   ...   \n",
       "21507              0          2.0                  4.0                   NaN   \n",
       "21701              1          2.0                  4.0                   NaN   \n",
       "21888              0          3.0                  6.0                   NaN   \n",
       "21937              0          3.0                  6.0                   NaN   \n",
       "22475              1          1.0                  3.0                   NaN   \n",
       "\n",
       "       Burn Rate  \n",
       "45           NaN  \n",
       "47           NaN  \n",
       "122          NaN  \n",
       "127          NaN  \n",
       "135          NaN  \n",
       "...          ...  \n",
       "21507        NaN  \n",
       "21701        NaN  \n",
       "21888        NaN  \n",
       "21937        NaN  \n",
       "22475        NaN  \n",
       "\n",
       "[172 rows x 9 columns]"
      ]
     },
     "execution_count": 30,
     "metadata": {},
     "output_type": "execute_result"
    }
   ],
   "source": [
    "# there are NaNs in the most critical variables\n",
    "# let's dive into the details\n",
    "resource_nan = train[\"Resource Allocation\"].isna()\n",
    "mental_nan = train[\"Mental Fatigue Score\"].isna()\n",
    "burnrate_nan = train[\"Burn Rate\"].isna()\n",
    "\n",
    "# No \"Burn Rate\" & \"Mental Fatigue Score\" values\n",
    "train[(burnrate_nan) & (mental_nan)]"
   ]
  },
  {
   "cell_type": "markdown",
   "metadata": {},
   "source": [
    "We can roughly predict the **Burn Rate** by **Mental Fatigue Score** (and vice-versa) but the absence of these values gives us a hard time and trying to predict the **Burn Rate** would be an example of overestimation. Thus we had better remove these double-NaN values to make things simpler."
   ]
  },
  {
   "cell_type": "code",
   "execution_count": 31,
   "metadata": {},
   "outputs": [],
   "source": [
    "# Index values of NaN values of \"Burn Rate\" & \"Mental Fatigue Score\"\n",
    "double_nan_indices = train[(burnrate_nan) & (mental_nan)].index\n",
    "\n",
    "train.drop(index=double_nan_indices, axis=0, inplace=True)\n",
    "train.reset_index(drop=True, inplace=True)\n",
    "del double_nan_indices, is_male, is_service, wfh_available"
   ]
  },
  {
   "cell_type": "code",
   "execution_count": null,
   "metadata": {},
   "outputs": [],
   "source": [
    "# fillna with logarithmic. bkz:bununla ilgili bir ödev vardı."
   ]
  },
  {
   "cell_type": "code",
   "execution_count": null,
   "metadata": {},
   "outputs": [],
   "source": []
  },
  {
   "cell_type": "code",
   "execution_count": 14,
   "metadata": {
    "scrolled": true
   },
   "outputs": [
    {
     "data": {
      "text/html": [
       "<div>\n",
       "<style scoped>\n",
       "    .dataframe tbody tr th:only-of-type {\n",
       "        vertical-align: middle;\n",
       "    }\n",
       "\n",
       "    .dataframe tbody tr th {\n",
       "        vertical-align: top;\n",
       "    }\n",
       "\n",
       "    .dataframe thead th {\n",
       "        text-align: right;\n",
       "    }\n",
       "</style>\n",
       "<table border=\"1\" class=\"dataframe\">\n",
       "  <thead>\n",
       "    <tr style=\"text-align: right;\">\n",
       "      <th></th>\n",
       "      <th>Date of Joining</th>\n",
       "      <th>is_male</th>\n",
       "      <th>is_service</th>\n",
       "      <th>wfh_available</th>\n",
       "      <th>Designation</th>\n",
       "      <th>Resource Allocation</th>\n",
       "      <th>Mental Fatigue Score</th>\n",
       "      <th>Burn Rate</th>\n",
       "    </tr>\n",
       "  </thead>\n",
       "  <tbody>\n",
       "    <tr>\n",
       "      <th>count</th>\n",
       "      <td>22578.000000</td>\n",
       "      <td>22578.000000</td>\n",
       "      <td>22578.000000</td>\n",
       "      <td>22578.000000</td>\n",
       "      <td>22578.000000</td>\n",
       "      <td>21212.000000</td>\n",
       "      <td>20633.000000</td>\n",
       "      <td>21626.000000</td>\n",
       "    </tr>\n",
       "    <tr>\n",
       "      <th>mean</th>\n",
       "      <td>0.507425</td>\n",
       "      <td>0.476482</td>\n",
       "      <td>0.652228</td>\n",
       "      <td>0.540305</td>\n",
       "      <td>2.178935</td>\n",
       "      <td>4.481001</td>\n",
       "      <td>5.728188</td>\n",
       "      <td>0.452005</td>\n",
       "    </tr>\n",
       "    <tr>\n",
       "      <th>std</th>\n",
       "      <td>0.286254</td>\n",
       "      <td>0.499458</td>\n",
       "      <td>0.476274</td>\n",
       "      <td>0.498384</td>\n",
       "      <td>1.134938</td>\n",
       "      <td>2.046963</td>\n",
       "      <td>1.920839</td>\n",
       "      <td>0.198226</td>\n",
       "    </tr>\n",
       "    <tr>\n",
       "      <th>min</th>\n",
       "      <td>0.000000</td>\n",
       "      <td>0.000000</td>\n",
       "      <td>0.000000</td>\n",
       "      <td>0.000000</td>\n",
       "      <td>0.000000</td>\n",
       "      <td>1.000000</td>\n",
       "      <td>0.000000</td>\n",
       "      <td>0.000000</td>\n",
       "    </tr>\n",
       "    <tr>\n",
       "      <th>25%</th>\n",
       "      <td>0.277628</td>\n",
       "      <td>0.000000</td>\n",
       "      <td>0.000000</td>\n",
       "      <td>0.000000</td>\n",
       "      <td>1.000000</td>\n",
       "      <td>3.000000</td>\n",
       "      <td>4.600000</td>\n",
       "      <td>0.310000</td>\n",
       "    </tr>\n",
       "    <tr>\n",
       "      <th>50%</th>\n",
       "      <td>0.495957</td>\n",
       "      <td>0.000000</td>\n",
       "      <td>1.000000</td>\n",
       "      <td>1.000000</td>\n",
       "      <td>2.000000</td>\n",
       "      <td>4.000000</td>\n",
       "      <td>5.900000</td>\n",
       "      <td>0.450000</td>\n",
       "    </tr>\n",
       "    <tr>\n",
       "      <th>75%</th>\n",
       "      <td>0.754717</td>\n",
       "      <td>1.000000</td>\n",
       "      <td>1.000000</td>\n",
       "      <td>1.000000</td>\n",
       "      <td>3.000000</td>\n",
       "      <td>6.000000</td>\n",
       "      <td>7.100000</td>\n",
       "      <td>0.590000</td>\n",
       "    </tr>\n",
       "    <tr>\n",
       "      <th>max</th>\n",
       "      <td>1.000000</td>\n",
       "      <td>1.000000</td>\n",
       "      <td>1.000000</td>\n",
       "      <td>1.000000</td>\n",
       "      <td>5.000000</td>\n",
       "      <td>10.000000</td>\n",
       "      <td>10.000000</td>\n",
       "      <td>1.000000</td>\n",
       "    </tr>\n",
       "  </tbody>\n",
       "</table>\n",
       "</div>"
      ],
      "text/plain": [
       "       Date of Joining       is_male    is_service  wfh_available  \\\n",
       "count     22578.000000  22578.000000  22578.000000   22578.000000   \n",
       "mean          0.507425      0.476482      0.652228       0.540305   \n",
       "std           0.286254      0.499458      0.476274       0.498384   \n",
       "min           0.000000      0.000000      0.000000       0.000000   \n",
       "25%           0.277628      0.000000      0.000000       0.000000   \n",
       "50%           0.495957      0.000000      1.000000       1.000000   \n",
       "75%           0.754717      1.000000      1.000000       1.000000   \n",
       "max           1.000000      1.000000      1.000000       1.000000   \n",
       "\n",
       "        Designation  Resource Allocation  Mental Fatigue Score     Burn Rate  \n",
       "count  22578.000000         21212.000000          20633.000000  21626.000000  \n",
       "mean       2.178935             4.481001              5.728188      0.452005  \n",
       "std        1.134938             2.046963              1.920839      0.198226  \n",
       "min        0.000000             1.000000              0.000000      0.000000  \n",
       "25%        1.000000             3.000000              4.600000      0.310000  \n",
       "50%        2.000000             4.000000              5.900000      0.450000  \n",
       "75%        3.000000             6.000000              7.100000      0.590000  \n",
       "max        5.000000            10.000000             10.000000      1.000000  "
      ]
     },
     "execution_count": 14,
     "metadata": {},
     "output_type": "execute_result"
    }
   ],
   "source": [
    "train.describe()"
   ]
  },
  {
   "cell_type": "code",
   "execution_count": null,
   "metadata": {},
   "outputs": [],
   "source": []
  },
  {
   "cell_type": "code",
   "execution_count": null,
   "metadata": {},
   "outputs": [],
   "source": []
  },
  {
   "cell_type": "code",
   "execution_count": 32,
   "metadata": {},
   "outputs": [],
   "source": [
    "train_corr = train.corr()"
   ]
  },
  {
   "cell_type": "code",
   "execution_count": 33,
   "metadata": {
    "scrolled": false
   },
   "outputs": [
    {
     "data": {
      "image/png": "[encoded data removed]",
      "text/plain": [
       "<Figure size 576x360 with 2 Axes>"
      ]
     },
     "metadata": {
      "needs_background": "light"
     },
     "output_type": "display_data"
    }
   ],
   "source": [
    "plt.figure(figsize=(8,5))\n",
    "ax = sns.heatmap(data=train_corr, \n",
    "                 annot=True, \n",
    "                 fmt=\".2f\", \n",
    "                 vmin=-1, \n",
    "                 vmax=1, \n",
    "                 cmap=\"inferno\")\n",
    "plt.yticks(rotation=0)\n",
    "plt.show()"
   ]
  },
  {
   "cell_type": "code",
   "execution_count": null,
   "metadata": {},
   "outputs": [],
   "source": []
  },
  {
   "cell_type": "code",
   "execution_count": null,
   "metadata": {},
   "outputs": [],
   "source": [
    "\"\"\"profile = ProfileReport(train, title=\"Profiling Report\", explorative=True)\n",
    "# profile.to_file(\"./burning_out_report.html\")\n",
    "profile.to_notebook_iframe()\n",
    "# profile.to_widgets()\"\"\""
   ]
  }
 ],
 "metadata": {
  "kernelspec": {
   "display_name": "Python 3",
   "language": "python",
   "name": "python3"
  },
  "language_info": {
   "codemirror_mode": {
    "name": "ipython",
    "version": 3
   },
   "file_extension": ".py",
   "mimetype": "text/x-python",
   "name": "python",
   "nbconvert_exporter": "python",
   "pygments_lexer": "ipython3",
   "version": "3.8.5"
  }
 },
 "nbformat": 4,
 "nbformat_minor": 4
}
