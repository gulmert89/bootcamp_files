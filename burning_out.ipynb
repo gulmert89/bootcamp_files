{
  "nbformat": 4,
  "nbformat_minor": 0,
  "metadata": {
    "kernelspec": {
      "display_name": "Python 3",
      "language": "python",
      "name": "python3"
    },
    "language_info": {
      "codemirror_mode": {
        "name": "ipython",
        "version": 3
      },
      "file_extension": ".py",
      "mimetype": "text/x-python",
      "name": "python",
      "nbconvert_exporter": "python",
      "pygments_lexer": "ipython3",
      "version": "3.8.3"
    },
    "colab": {
      "name": "burning_out.ipynb",
      "provenance": [],
      "collapsed_sections": [],
      "toc_visible": true,
      "include_colab_link": true
    }
  },
  "cells": [
    {
      "cell_type": "markdown",
      "metadata": {
        "id": "view-in-github",
        "colab_type": "text"
      },
      "source": [
        "<a href=\"https://colab.research.google.com/github/gulmert89/dsBootcamp/blob/master/burning_out.ipynb\" target=\"_parent\"><img src=\"https://colab.research.google.com/assets/colab-badge.svg\" alt=\"Open In Colab\"/></a>"
      ]
    },
    {
      "cell_type": "markdown",
      "metadata": {
        "id": "06jLu2OsYZdn"
      },
      "source": [
        "# HackerEarth Machine Learning Challenge\n",
        "## Predict the employee burn out rate"
      ]
    },
    {
      "cell_type": "markdown",
      "metadata": {
        "id": "eeAdLcShYZdu"
      },
      "source": [
        "**ABOUT CHALLENGE** <br>\n",
        "*To win in the marketplace, you must first win in the workplace.*\n",
        "~ Doug Conant\n",
        "\n",
        "And rightly so! Happy and healthy employees are indisputably more productive at work, and in turn, help the business flourish profoundly.\n",
        "\n",
        "However, since working from home has become the new strange normal, over 69% of employees have been showing burnout symptoms globally (source: Monster poll). This rate of burnout is indeed alarming and the likes of Google and Cisco (even HackerEarth!) are taking steps that ensure wellness and reduce burnout among employees.\n",
        "\n",
        "On the occasion of World Mental Health Day this October 10th, your organization has stepped in to help its employees plan their weekly calendars appropriately so as to prevent burning out. Your task, as a Machine Learning engineer, is to build a Machine Learning model that predicts burnout rate based on numerous factors such as WFH setup, resources, mental fatigue score, and the like."
      ]
    },
    {
      "cell_type": "markdown",
      "metadata": {
        "id": "CTWFZMfAYZdv"
      },
      "source": [
        "***\n",
        "**Participant:** [Mert Gül](https://www.linkedin.com/in/gulmert89/)<br>\n",
        "Hackathon Link: [HackerEarth](https://www.hackerearth.com/challenges/competitive/hackerearth-machine-learning-challenge-predict-burnout-rate/)<br>\n",
        "More information on the dataset: [Kaggle](https://www.kaggle.com/blurredmachine/are-your-employees-burning-out)\n",
        "***"
      ]
    },
    {
      "cell_type": "markdown",
      "metadata": {
        "id": "SbebSTrlYZdw"
      },
      "source": [
        "# 1\\. Introduction"
      ]
    },
    {
      "cell_type": "markdown",
      "metadata": {
        "id": "hqSOOXC4Ku4f"
      },
      "source": [
        "Dataset:\n",
        "* **Employee ID**: The unique ID allocated for each employee (example: fffe390032003000)\n",
        "* **Date of Joining**: The date-time when the employee has joined the organization (example: 2008-12-30)\n",
        "* **Gender**: The gender of the employee (Male/Female)\n",
        "* **Company Type**: The type of company where the employee is working (Service/Product)\n",
        "* **WFH Setup Available**: Is the work from home facility available for the employee (Yes/No)\n",
        "* **Designation**: The designation of the employee of work in the organization.\n",
        "    * In the range of [0.0, 5.0] bigger is higher designation.\n",
        "* **Resource Allocation**: The amount of resource allocated to the employee to work, ie. number of working hours.\n",
        "    * In the range of [1.0, 10.0] (higher means more resource)\n",
        "* **Mental Fatigue Score**: The level of fatigue mentally the employee is facing.\n",
        "    * In the range of [0.0, 10.0] where 0.0 means no fatigue and 10.0 means completely fatigue.\n",
        "* **Burn Rate**: The value we need to predict for each employee telling the rate of Bur out while working.\n",
        "    * In the range of [0.0, 1.0] where the higher the value is more is the burn out."
      ]
    },
    {
      "cell_type": "markdown",
      "metadata": {
        "id": "IubVg9y1YZdx"
      },
      "source": [
        "## 1.1 Imports & Dataset"
      ]
    },
    {
      "cell_type": "code",
      "metadata": {
        "id": "WzX28NovYqF-",
        "outputId": "bf693e54-ef04-406f-91ed-e1f7b4f34662",
        "colab": {
          "base_uri": "https://localhost:8080/"
        }
      },
      "source": [
        "from google.colab import drive\n",
        "drive.mount(\"/content/drive\")\n",
        "%cd \"/content/drive/My Drive/Colab Notebooks/Predict the employee burn out rate\""
      ],
      "execution_count": 1,
      "outputs": [
        {
          "output_type": "stream",
          "text": [
            "Drive already mounted at /content/drive; to attempt to forcibly remount, call drive.mount(\"/content/drive\", force_remount=True).\n",
            "/content/drive/My Drive/Colab Notebooks/Predict the employee burn out rate\n"
          ],
          "name": "stdout"
        }
      ]
    },
    {
      "cell_type": "code",
      "metadata": {
        "id": "7zbGzTNGYZdx"
      },
      "source": [
        "import numpy as np\n",
        "import pandas as pd\n",
        "import seaborn as sns\n",
        "import matplotlib.pyplot as plt"
      ],
      "execution_count": 2,
      "outputs": []
    },
    {
      "cell_type": "code",
      "metadata": {
        "id": "qH-oCRKtYZd3"
      },
      "source": [
        "train = pd.read_csv(\"train.csv\")\n",
        "test = pd.read_csv(\"test.csv\")"
      ],
      "execution_count": 3,
      "outputs": []
    },
    {
      "cell_type": "markdown",
      "metadata": {
        "id": "tv2HCHVTYZd6"
      },
      "source": [
        "***\n",
        "# 2\\. Preprocessing"
      ]
    },
    {
      "cell_type": "markdown",
      "metadata": {
        "id": "Ju3zoxaAYZd7"
      },
      "source": [
        "## 2.1 Examine The Dataset"
      ]
    },
    {
      "cell_type": "code",
      "metadata": {
        "scrolled": true,
        "id": "674TCW0dYZd8",
        "outputId": "59ccd4ac-c18b-4e4f-a518-89463aafc373",
        "colab": {
          "base_uri": "https://localhost:8080/",
          "height": 238
        }
      },
      "source": [
        "train.head()"
      ],
      "execution_count": 4,
      "outputs": [
        {
          "output_type": "execute_result",
          "data": {
            "text/html": [
              "<div>\n",
              "<style scoped>\n",
              "    .dataframe tbody tr th:only-of-type {\n",
              "        vertical-align: middle;\n",
              "    }\n",
              "\n",
              "    .dataframe tbody tr th {\n",
              "        vertical-align: top;\n",
              "    }\n",
              "\n",
              "    .dataframe thead th {\n",
              "        text-align: right;\n",
              "    }\n",
              "</style>\n",
              "<table border=\"1\" class=\"dataframe\">\n",
              "  <thead>\n",
              "    <tr style=\"text-align: right;\">\n",
              "      <th></th>\n",
              "      <th>Employee ID</th>\n",
              "      <th>Date of Joining</th>\n",
              "      <th>Gender</th>\n",
              "      <th>Company Type</th>\n",
              "      <th>WFH Setup Available</th>\n",
              "      <th>Designation</th>\n",
              "      <th>Resource Allocation</th>\n",
              "      <th>Mental Fatigue Score</th>\n",
              "      <th>Burn Rate</th>\n",
              "    </tr>\n",
              "  </thead>\n",
              "  <tbody>\n",
              "    <tr>\n",
              "      <th>0</th>\n",
              "      <td>fffe32003000360033003200</td>\n",
              "      <td>2008-09-30</td>\n",
              "      <td>Female</td>\n",
              "      <td>Service</td>\n",
              "      <td>No</td>\n",
              "      <td>2.0</td>\n",
              "      <td>3.0</td>\n",
              "      <td>3.8</td>\n",
              "      <td>0.16</td>\n",
              "    </tr>\n",
              "    <tr>\n",
              "      <th>1</th>\n",
              "      <td>fffe3700360033003500</td>\n",
              "      <td>2008-11-30</td>\n",
              "      <td>Male</td>\n",
              "      <td>Service</td>\n",
              "      <td>Yes</td>\n",
              "      <td>1.0</td>\n",
              "      <td>2.0</td>\n",
              "      <td>5.0</td>\n",
              "      <td>0.36</td>\n",
              "    </tr>\n",
              "    <tr>\n",
              "      <th>2</th>\n",
              "      <td>fffe31003300320037003900</td>\n",
              "      <td>2008-03-10</td>\n",
              "      <td>Female</td>\n",
              "      <td>Product</td>\n",
              "      <td>Yes</td>\n",
              "      <td>2.0</td>\n",
              "      <td>NaN</td>\n",
              "      <td>5.8</td>\n",
              "      <td>0.49</td>\n",
              "    </tr>\n",
              "    <tr>\n",
              "      <th>3</th>\n",
              "      <td>fffe32003400380032003900</td>\n",
              "      <td>2008-11-03</td>\n",
              "      <td>Male</td>\n",
              "      <td>Service</td>\n",
              "      <td>Yes</td>\n",
              "      <td>1.0</td>\n",
              "      <td>1.0</td>\n",
              "      <td>2.6</td>\n",
              "      <td>0.20</td>\n",
              "    </tr>\n",
              "    <tr>\n",
              "      <th>4</th>\n",
              "      <td>fffe31003900340031003600</td>\n",
              "      <td>2008-07-24</td>\n",
              "      <td>Female</td>\n",
              "      <td>Service</td>\n",
              "      <td>No</td>\n",
              "      <td>3.0</td>\n",
              "      <td>7.0</td>\n",
              "      <td>6.9</td>\n",
              "      <td>0.52</td>\n",
              "    </tr>\n",
              "  </tbody>\n",
              "</table>\n",
              "</div>"
            ],
            "text/plain": [
              "                Employee ID Date of Joining  ... Mental Fatigue Score Burn Rate\n",
              "0  fffe32003000360033003200      2008-09-30  ...                  3.8      0.16\n",
              "1      fffe3700360033003500      2008-11-30  ...                  5.0      0.36\n",
              "2  fffe31003300320037003900      2008-03-10  ...                  5.8      0.49\n",
              "3  fffe32003400380032003900      2008-11-03  ...                  2.6      0.20\n",
              "4  fffe31003900340031003600      2008-07-24  ...                  6.9      0.52\n",
              "\n",
              "[5 rows x 9 columns]"
            ]
          },
          "metadata": {
            "tags": []
          },
          "execution_count": 4
        }
      ]
    },
    {
      "cell_type": "code",
      "metadata": {
        "scrolled": true,
        "id": "DzRCk8kzYZeB",
        "outputId": "05948c82-734f-4882-9794-ab530ae8fc57",
        "colab": {
          "base_uri": "https://localhost:8080/"
        }
      },
      "source": [
        "train.info()"
      ],
      "execution_count": 5,
      "outputs": [
        {
          "output_type": "stream",
          "text": [
            "<class 'pandas.core.frame.DataFrame'>\n",
            "RangeIndex: 22750 entries, 0 to 22749\n",
            "Data columns (total 9 columns):\n",
            " #   Column                Non-Null Count  Dtype  \n",
            "---  ------                --------------  -----  \n",
            " 0   Employee ID           22750 non-null  object \n",
            " 1   Date of Joining       22750 non-null  object \n",
            " 2   Gender                22750 non-null  object \n",
            " 3   Company Type          22750 non-null  object \n",
            " 4   WFH Setup Available   22750 non-null  object \n",
            " 5   Designation           22750 non-null  float64\n",
            " 6   Resource Allocation   21369 non-null  float64\n",
            " 7   Mental Fatigue Score  20633 non-null  float64\n",
            " 8   Burn Rate             21626 non-null  float64\n",
            "dtypes: float64(4), object(5)\n",
            "memory usage: 1.6+ MB\n"
          ],
          "name": "stdout"
        }
      ]
    },
    {
      "cell_type": "code",
      "metadata": {
        "scrolled": false,
        "id": "T3pzhRH_YZeJ",
        "outputId": "0332e43d-0ecb-4bc7-f706-bd69210e971b",
        "colab": {
          "base_uri": "https://localhost:8080/"
        }
      },
      "source": [
        "# number of unique values per variable\n",
        "train.nunique()"
      ],
      "execution_count": 6,
      "outputs": [
        {
          "output_type": "execute_result",
          "data": {
            "text/plain": [
              "Employee ID             22750\n",
              "Date of Joining           366\n",
              "Gender                      2\n",
              "Company Type                2\n",
              "WFH Setup Available         2\n",
              "Designation                 6\n",
              "Resource Allocation        10\n",
              "Mental Fatigue Score      101\n",
              "Burn Rate                 101\n",
              "dtype: int64"
            ]
          },
          "metadata": {
            "tags": []
          },
          "execution_count": 6
        }
      ]
    },
    {
      "cell_type": "code",
      "metadata": {
        "scrolled": true,
        "id": "OzTIEUamYZeN",
        "outputId": "7f131206-cae8-4a90-fc80-0a404505bebe",
        "colab": {
          "base_uri": "https://localhost:8080/"
        }
      },
      "source": [
        "# number of empty values\n",
        "train.isnull().sum()"
      ],
      "execution_count": 7,
      "outputs": [
        {
          "output_type": "execute_result",
          "data": {
            "text/plain": [
              "Employee ID                0\n",
              "Date of Joining            0\n",
              "Gender                     0\n",
              "Company Type               0\n",
              "WFH Setup Available        0\n",
              "Designation                0\n",
              "Resource Allocation     1381\n",
              "Mental Fatigue Score    2117\n",
              "Burn Rate               1124\n",
              "dtype: int64"
            ]
          },
          "metadata": {
            "tags": []
          },
          "execution_count": 7
        }
      ]
    },
    {
      "cell_type": "code",
      "metadata": {
        "id": "xKHdUo7wYZeQ",
        "outputId": "49122259-58c6-4712-a518-32bdd8375d17",
        "colab": {
          "base_uri": "https://localhost:8080/"
        }
      },
      "source": [
        "# number of empty values (test)\n",
        "test.isnull().sum()"
      ],
      "execution_count": 8,
      "outputs": [
        {
          "output_type": "execute_result",
          "data": {
            "text/plain": [
              "Employee ID             0\n",
              "Date of Joining         0\n",
              "Gender                  0\n",
              "Company Type            0\n",
              "WFH Setup Available     0\n",
              "Designation             0\n",
              "Resource Allocation     0\n",
              "Mental Fatigue Score    0\n",
              "dtype: int64"
            ]
          },
          "metadata": {
            "tags": []
          },
          "execution_count": 8
        }
      ]
    },
    {
      "cell_type": "markdown",
      "metadata": {
        "id": "1OjbiGzwYZeV"
      },
      "source": [
        "## 2.2 Processing The Variables"
      ]
    },
    {
      "cell_type": "code",
      "metadata": {
        "id": "DfWoYZL1YjNp"
      },
      "source": [
        "# cosmetic configurations\n",
        "sns.set_style(style=\"whitegrid\")\n",
        "\n",
        "title_font = {\"family\":\"arial\", \n",
        "              \"weight\":\"bold\", \n",
        "              \"color\":\"darkgreen\", \n",
        "              \"size\":16}\n",
        "\n",
        "axis_font = {\"family\":\"serif\", \n",
        "             \"weight\":\"normal\", \n",
        "             \"color\":\"darkgreen\", \n",
        "             \"size\":14}"
      ],
      "execution_count": 9,
      "outputs": []
    },
    {
      "cell_type": "markdown",
      "metadata": {
        "id": "eQX59d7AYZeV"
      },
      "source": [
        "### 2.2.1 One-Hot Encoding"
      ]
    },
    {
      "cell_type": "markdown",
      "metadata": {
        "id": "_xELIXT6YZeW"
      },
      "source": [
        "It would be useful to convert these columns;\n",
        "* Gender\n",
        "* Company Type\n",
        "* WFH Setup Available<br>\n",
        "\n",
        "to binary values by **one-hot encoding**."
      ]
    },
    {
      "cell_type": "markdown",
      "metadata": {
        "id": "xPTMwqIvYZeX"
      },
      "source": [
        "#### 2.2.1.1 Train Set"
      ]
    },
    {
      "cell_type": "code",
      "metadata": {
        "id": "PLg2Q3MNYZeX"
      },
      "source": [
        "is_male = pd.get_dummies(train.Gender, drop_first=True)\n",
        "is_service = pd.get_dummies(train[\"Company Type\"], drop_first=True)\n",
        "wfh_available = pd.get_dummies(train[\"WFH Setup Available\"], drop_first=True)"
      ],
      "execution_count": 10,
      "outputs": []
    },
    {
      "cell_type": "code",
      "metadata": {
        "id": "DPuxb2tfYZeb"
      },
      "source": [
        "for loc, column in enumerate([\"is_male\", \"is_service\", \"wfh_available\"], start=2):\n",
        "    train.insert(loc=loc, column=column, value=eval(column))\n",
        "\n",
        "train.drop(columns=[\"Gender\", \"Company Type\", \"WFH Setup Available\"], axis=1, inplace=True)"
      ],
      "execution_count": 11,
      "outputs": []
    },
    {
      "cell_type": "code",
      "metadata": {
        "id": "7wgXy6XFYZef",
        "outputId": "42a2aee2-e1c5-47e4-ccd4-eb6377b25959",
        "colab": {
          "base_uri": "https://localhost:8080/",
          "height": 238
        }
      },
      "source": [
        "train.head()"
      ],
      "execution_count": 12,
      "outputs": [
        {
          "output_type": "execute_result",
          "data": {
            "text/html": [
              "<div>\n",
              "<style scoped>\n",
              "    .dataframe tbody tr th:only-of-type {\n",
              "        vertical-align: middle;\n",
              "    }\n",
              "\n",
              "    .dataframe tbody tr th {\n",
              "        vertical-align: top;\n",
              "    }\n",
              "\n",
              "    .dataframe thead th {\n",
              "        text-align: right;\n",
              "    }\n",
              "</style>\n",
              "<table border=\"1\" class=\"dataframe\">\n",
              "  <thead>\n",
              "    <tr style=\"text-align: right;\">\n",
              "      <th></th>\n",
              "      <th>Employee ID</th>\n",
              "      <th>Date of Joining</th>\n",
              "      <th>is_male</th>\n",
              "      <th>is_service</th>\n",
              "      <th>wfh_available</th>\n",
              "      <th>Designation</th>\n",
              "      <th>Resource Allocation</th>\n",
              "      <th>Mental Fatigue Score</th>\n",
              "      <th>Burn Rate</th>\n",
              "    </tr>\n",
              "  </thead>\n",
              "  <tbody>\n",
              "    <tr>\n",
              "      <th>0</th>\n",
              "      <td>fffe32003000360033003200</td>\n",
              "      <td>2008-09-30</td>\n",
              "      <td>0</td>\n",
              "      <td>1</td>\n",
              "      <td>0</td>\n",
              "      <td>2.0</td>\n",
              "      <td>3.0</td>\n",
              "      <td>3.8</td>\n",
              "      <td>0.16</td>\n",
              "    </tr>\n",
              "    <tr>\n",
              "      <th>1</th>\n",
              "      <td>fffe3700360033003500</td>\n",
              "      <td>2008-11-30</td>\n",
              "      <td>1</td>\n",
              "      <td>1</td>\n",
              "      <td>1</td>\n",
              "      <td>1.0</td>\n",
              "      <td>2.0</td>\n",
              "      <td>5.0</td>\n",
              "      <td>0.36</td>\n",
              "    </tr>\n",
              "    <tr>\n",
              "      <th>2</th>\n",
              "      <td>fffe31003300320037003900</td>\n",
              "      <td>2008-03-10</td>\n",
              "      <td>0</td>\n",
              "      <td>0</td>\n",
              "      <td>1</td>\n",
              "      <td>2.0</td>\n",
              "      <td>NaN</td>\n",
              "      <td>5.8</td>\n",
              "      <td>0.49</td>\n",
              "    </tr>\n",
              "    <tr>\n",
              "      <th>3</th>\n",
              "      <td>fffe32003400380032003900</td>\n",
              "      <td>2008-11-03</td>\n",
              "      <td>1</td>\n",
              "      <td>1</td>\n",
              "      <td>1</td>\n",
              "      <td>1.0</td>\n",
              "      <td>1.0</td>\n",
              "      <td>2.6</td>\n",
              "      <td>0.20</td>\n",
              "    </tr>\n",
              "    <tr>\n",
              "      <th>4</th>\n",
              "      <td>fffe31003900340031003600</td>\n",
              "      <td>2008-07-24</td>\n",
              "      <td>0</td>\n",
              "      <td>1</td>\n",
              "      <td>0</td>\n",
              "      <td>3.0</td>\n",
              "      <td>7.0</td>\n",
              "      <td>6.9</td>\n",
              "      <td>0.52</td>\n",
              "    </tr>\n",
              "  </tbody>\n",
              "</table>\n",
              "</div>"
            ],
            "text/plain": [
              "                Employee ID Date of Joining  ...  Mental Fatigue Score  Burn Rate\n",
              "0  fffe32003000360033003200      2008-09-30  ...                   3.8       0.16\n",
              "1      fffe3700360033003500      2008-11-30  ...                   5.0       0.36\n",
              "2  fffe31003300320037003900      2008-03-10  ...                   5.8       0.49\n",
              "3  fffe32003400380032003900      2008-11-03  ...                   2.6       0.20\n",
              "4  fffe31003900340031003600      2008-07-24  ...                   6.9       0.52\n",
              "\n",
              "[5 rows x 9 columns]"
            ]
          },
          "metadata": {
            "tags": []
          },
          "execution_count": 12
        }
      ]
    },
    {
      "cell_type": "markdown",
      "metadata": {
        "id": "L5lzScuDYZei"
      },
      "source": [
        "#### 2.2.1.2 Test Set"
      ]
    },
    {
      "cell_type": "code",
      "metadata": {
        "id": "la-Lg1qWYZej"
      },
      "source": [
        "is_male = pd.get_dummies(test.Gender, drop_first=True)\n",
        "is_service = pd.get_dummies(test[\"Company Type\"], drop_first=True)\n",
        "wfh_available = pd.get_dummies(test[\"WFH Setup Available\"], drop_first=True)\n",
        "\n",
        "for loc, column in enumerate([\"is_male\", \"is_service\", \"wfh_available\"], start=2):\n",
        "    test.insert(loc=loc, column=column, value=eval(column))\n",
        "\n",
        "test.drop(columns=[\"Gender\", \"Company Type\", \"WFH Setup Available\"], \n",
        "          axis=1, \n",
        "          inplace=True)"
      ],
      "execution_count": 13,
      "outputs": []
    },
    {
      "cell_type": "markdown",
      "metadata": {
        "id": "g2fW8ESLYZem"
      },
      "source": [
        "### 2.2.2 The Column: \"Date of Joining\"\n",
        "All the employees in the dataset seem to join in 2008. Thus, omiting the year and converting the dates to integers (just to days) ***might*** help us a bit along the way. Here what we are going to do is:<br>\n",
        "* **Remove the year**\n",
        "* **Convert month + day to only days**\n",
        "    * *Example-1:* join date of 01-20 (Jan 20th) will have $1*31 + 20 = 51$ days\n",
        "    * *Example-2:* join date of 12-30 (Dec 30th) will have $2*31 + 30 = 402$ days\n",
        "* **Inverse the sorting** because the smaller the integers are, the more experienced employee will be.\n",
        "    * *Example:* So, the newest guy will have the maximum, the oldest will have the minimum days, right?\n",
        "    * To inverse the situation, a simple calculation will be performed:\n",
        "        * At the end, the oldest guy will have $|newGuysDays - oldGuysDays|$ in total w.r.t the new guy.\n",
        "        * And the newest guy will have 0 days.\n",
        "* Finally, **Normalize the numbers** to work with them better.<br>\n",
        "\n",
        "**Note:** All these process would be in vain because it might not affect the model at all. We will see :)"
      ]
    },
    {
      "cell_type": "code",
      "metadata": {
        "id": "eeRS9EjvYZen",
        "outputId": "c711fb49-bf83-444a-f5c9-a4f129aeb57b",
        "colab": {
          "base_uri": "https://localhost:8080/"
        }
      },
      "source": [
        "%%time\n",
        "month_dict = {\"01\":31, \"02\":29, \"03\":31, \n",
        "              \"04\":30, \"05\":31, \"06\":30, \n",
        "              \"07\":31, \"08\":31, \"09\":30, \n",
        "              \"10\":31, \"11\":30, \"12\":31}\n",
        "\n",
        "for dataset in (train, test):\n",
        "    for i in range(len(dataset)):\n",
        "        x = dataset[\"Date of Joining\"][i].split(\"-\")    # sample output: ['2008', '09', '30']\n",
        "        x = eval(f\"{int(x[1])} * {month_dict[x[1]]} + {int(x[2])}\")    # sample output: 300\n",
        "        dataset.loc[i, \"Date of Joining\"] = x\n",
        "\n",
        "    dataset[\"Date of Joining\"] = dataset[\"Date of Joining\"].astype(\"float32\")\n",
        "    dataset[\"Date of Joining\"] = abs(dataset[\"Date of Joining\"] - dataset[\"Date of Joining\"].max())\n",
        "    dataset[\"Date of Joining\"] /= dataset[\"Date of Joining\"].max()"
      ],
      "execution_count": 14,
      "outputs": [
        {
          "output_type": "stream",
          "text": [
            "CPU times: user 17.8 s, sys: 59.1 ms, total: 17.9 s\n",
            "Wall time: 17.9 s\n"
          ],
          "name": "stdout"
        }
      ]
    },
    {
      "cell_type": "markdown",
      "metadata": {
        "id": "tiSYTwJaYZeq"
      },
      "source": [
        "### 2.2.3 NaN Values"
      ]
    },
    {
      "cell_type": "code",
      "metadata": {
        "id": "IGVkI-RUYZer",
        "outputId": "da3f58a1-4018-4efa-ff60-c47c2999419f",
        "colab": {
          "base_uri": "https://localhost:8080/",
          "height": 473
        }
      },
      "source": [
        "# there are NaNs in the most critical variables\n",
        "# let's dive into the details\n",
        "resource_nan = train[\"Resource Allocation\"].isna()\n",
        "mental_nan = train[\"Mental Fatigue Score\"].isna()\n",
        "burnrate_nan = train[\"Burn Rate\"].isna()\n",
        "\n",
        "# No \"Burn Rate\" & \"Mental Fatigue Score\" values\n",
        "train[(burnrate_nan) & (mental_nan)]"
      ],
      "execution_count": 15,
      "outputs": [
        {
          "output_type": "execute_result",
          "data": {
            "text/html": [
              "<div>\n",
              "<style scoped>\n",
              "    .dataframe tbody tr th:only-of-type {\n",
              "        vertical-align: middle;\n",
              "    }\n",
              "\n",
              "    .dataframe tbody tr th {\n",
              "        vertical-align: top;\n",
              "    }\n",
              "\n",
              "    .dataframe thead th {\n",
              "        text-align: right;\n",
              "    }\n",
              "</style>\n",
              "<table border=\"1\" class=\"dataframe\">\n",
              "  <thead>\n",
              "    <tr style=\"text-align: right;\">\n",
              "      <th></th>\n",
              "      <th>Employee ID</th>\n",
              "      <th>Date of Joining</th>\n",
              "      <th>is_male</th>\n",
              "      <th>is_service</th>\n",
              "      <th>wfh_available</th>\n",
              "      <th>Designation</th>\n",
              "      <th>Resource Allocation</th>\n",
              "      <th>Mental Fatigue Score</th>\n",
              "      <th>Burn Rate</th>\n",
              "    </tr>\n",
              "  </thead>\n",
              "  <tbody>\n",
              "    <tr>\n",
              "      <th>45</th>\n",
              "      <td>fffe31003500330034003700</td>\n",
              "      <td>0.404313</td>\n",
              "      <td>1</td>\n",
              "      <td>1</td>\n",
              "      <td>1</td>\n",
              "      <td>2.0</td>\n",
              "      <td>3.0</td>\n",
              "      <td>NaN</td>\n",
              "      <td>NaN</td>\n",
              "    </tr>\n",
              "    <tr>\n",
              "      <th>47</th>\n",
              "      <td>fffe3500320032003000</td>\n",
              "      <td>0.765499</td>\n",
              "      <td>0</td>\n",
              "      <td>0</td>\n",
              "      <td>1</td>\n",
              "      <td>3.0</td>\n",
              "      <td>6.0</td>\n",
              "      <td>NaN</td>\n",
              "      <td>NaN</td>\n",
              "    </tr>\n",
              "    <tr>\n",
              "      <th>122</th>\n",
              "      <td>fffe31003400350030003200</td>\n",
              "      <td>0.584906</td>\n",
              "      <td>0</td>\n",
              "      <td>0</td>\n",
              "      <td>0</td>\n",
              "      <td>3.0</td>\n",
              "      <td>5.0</td>\n",
              "      <td>NaN</td>\n",
              "      <td>NaN</td>\n",
              "    </tr>\n",
              "    <tr>\n",
              "      <th>127</th>\n",
              "      <td>fffe3900340036003300</td>\n",
              "      <td>0.921833</td>\n",
              "      <td>1</td>\n",
              "      <td>1</td>\n",
              "      <td>0</td>\n",
              "      <td>3.0</td>\n",
              "      <td>5.0</td>\n",
              "      <td>NaN</td>\n",
              "      <td>NaN</td>\n",
              "    </tr>\n",
              "    <tr>\n",
              "      <th>135</th>\n",
              "      <td>fffe32003200360039003000</td>\n",
              "      <td>0.641509</td>\n",
              "      <td>0</td>\n",
              "      <td>1</td>\n",
              "      <td>1</td>\n",
              "      <td>1.0</td>\n",
              "      <td>4.0</td>\n",
              "      <td>NaN</td>\n",
              "      <td>NaN</td>\n",
              "    </tr>\n",
              "    <tr>\n",
              "      <th>...</th>\n",
              "      <td>...</td>\n",
              "      <td>...</td>\n",
              "      <td>...</td>\n",
              "      <td>...</td>\n",
              "      <td>...</td>\n",
              "      <td>...</td>\n",
              "      <td>...</td>\n",
              "      <td>...</td>\n",
              "      <td>...</td>\n",
              "    </tr>\n",
              "    <tr>\n",
              "      <th>21507</th>\n",
              "      <td>fffe3300370033003600</td>\n",
              "      <td>0.911051</td>\n",
              "      <td>1</td>\n",
              "      <td>1</td>\n",
              "      <td>0</td>\n",
              "      <td>2.0</td>\n",
              "      <td>4.0</td>\n",
              "      <td>NaN</td>\n",
              "      <td>NaN</td>\n",
              "    </tr>\n",
              "    <tr>\n",
              "      <th>21701</th>\n",
              "      <td>fffe3400360038003300</td>\n",
              "      <td>0.126685</td>\n",
              "      <td>1</td>\n",
              "      <td>0</td>\n",
              "      <td>1</td>\n",
              "      <td>2.0</td>\n",
              "      <td>4.0</td>\n",
              "      <td>NaN</td>\n",
              "      <td>NaN</td>\n",
              "    </tr>\n",
              "    <tr>\n",
              "      <th>21888</th>\n",
              "      <td>fffe31003900360035003200</td>\n",
              "      <td>0.792453</td>\n",
              "      <td>1</td>\n",
              "      <td>1</td>\n",
              "      <td>0</td>\n",
              "      <td>3.0</td>\n",
              "      <td>6.0</td>\n",
              "      <td>NaN</td>\n",
              "      <td>NaN</td>\n",
              "    </tr>\n",
              "    <tr>\n",
              "      <th>21937</th>\n",
              "      <td>fffe3700350034003500</td>\n",
              "      <td>0.318059</td>\n",
              "      <td>1</td>\n",
              "      <td>1</td>\n",
              "      <td>0</td>\n",
              "      <td>3.0</td>\n",
              "      <td>6.0</td>\n",
              "      <td>NaN</td>\n",
              "      <td>NaN</td>\n",
              "    </tr>\n",
              "    <tr>\n",
              "      <th>22475</th>\n",
              "      <td>fffe3400360032003000</td>\n",
              "      <td>0.436658</td>\n",
              "      <td>0</td>\n",
              "      <td>0</td>\n",
              "      <td>1</td>\n",
              "      <td>1.0</td>\n",
              "      <td>3.0</td>\n",
              "      <td>NaN</td>\n",
              "      <td>NaN</td>\n",
              "    </tr>\n",
              "  </tbody>\n",
              "</table>\n",
              "<p>172 rows × 9 columns</p>\n",
              "</div>"
            ],
            "text/plain": [
              "                    Employee ID  ...  Burn Rate\n",
              "45     fffe31003500330034003700  ...        NaN\n",
              "47         fffe3500320032003000  ...        NaN\n",
              "122    fffe31003400350030003200  ...        NaN\n",
              "127        fffe3900340036003300  ...        NaN\n",
              "135    fffe32003200360039003000  ...        NaN\n",
              "...                         ...  ...        ...\n",
              "21507      fffe3300370033003600  ...        NaN\n",
              "21701      fffe3400360038003300  ...        NaN\n",
              "21888  fffe31003900360035003200  ...        NaN\n",
              "21937      fffe3700350034003500  ...        NaN\n",
              "22475      fffe3400360032003000  ...        NaN\n",
              "\n",
              "[172 rows x 9 columns]"
            ]
          },
          "metadata": {
            "tags": []
          },
          "execution_count": 15
        }
      ]
    },
    {
      "cell_type": "markdown",
      "metadata": {
        "id": "4FP4ob7HYZev"
      },
      "source": [
        "We can roughly predict the **Burn Rate** by **Mental Fatigue Score** (and vice-versa) but the absence of these values gives us a hard time and trying to predict the **Burn Rate** would be an example of overestimation. Thus we had better remove these double-NaN values to make things simpler."
      ]
    },
    {
      "cell_type": "code",
      "metadata": {
        "id": "hBKUputYYZew"
      },
      "source": [
        "# Index values of NaN values of \"Burn Rate\" & \"Mental Fatigue Score\"\n",
        "double_nan_indices = train[(burnrate_nan) & (mental_nan)].index\n",
        "\n",
        "train.drop(index=double_nan_indices, axis=0, inplace=True)\n",
        "train.reset_index(drop=True, inplace=True)\n",
        "del double_nan_indices, is_male, is_service, wfh_available"
      ],
      "execution_count": 16,
      "outputs": []
    },
    {
      "cell_type": "code",
      "metadata": {
        "scrolled": true,
        "id": "w-fiWTRVYZez",
        "outputId": "cf7415bd-7c2f-41f1-8407-16c0e1bcbf1a",
        "colab": {
          "base_uri": "https://localhost:8080/"
        }
      },
      "source": [
        "# okay, what else?\n",
        "train.isna().sum()"
      ],
      "execution_count": 17,
      "outputs": [
        {
          "output_type": "execute_result",
          "data": {
            "text/plain": [
              "Employee ID                0\n",
              "Date of Joining            0\n",
              "is_male                    0\n",
              "is_service                 0\n",
              "wfh_available              0\n",
              "Designation                0\n",
              "Resource Allocation     1366\n",
              "Mental Fatigue Score    1945\n",
              "Burn Rate                952\n",
              "dtype: int64"
            ]
          },
          "metadata": {
            "tags": []
          },
          "execution_count": 17
        }
      ]
    },
    {
      "cell_type": "markdown",
      "metadata": {
        "id": "w1IeCUlSYZe2"
      },
      "source": [
        "Before we move on, it would be a wise practice to check the correlations of the variables to form a solid idea on what to do with the NaN values."
      ]
    },
    {
      "cell_type": "code",
      "metadata": {
        "id": "4qLMAjC0YZe2"
      },
      "source": [
        "train_corr = train.corr()"
      ],
      "execution_count": 18,
      "outputs": []
    },
    {
      "cell_type": "code",
      "metadata": {
        "scrolled": false,
        "id": "_mqswaEGYZe6",
        "outputId": "d249bb50-2433-4509-9bf9-373b58aa1d33",
        "colab": {
          "base_uri": "https://localhost:8080/",
          "height": 418
        }
      },
      "source": [
        "plt.figure(figsize=(8,5))\n",
        "sns.heatmap(data=train_corr, \n",
        "            annot=True, \n",
        "            fmt=\".2f\", \n",
        "            vmin=-1, \n",
        "            vmax=1, \n",
        "            cmap=\"inferno\")\n",
        "plt.yticks(rotation=0)\n",
        "plt.show()"
      ],
      "execution_count": 19,
      "outputs": [
        {
          "output_type": "display_data",
          "data": {
            "image/png": "[encoded data removed]",
            "text/plain": [
              "<Figure size 576x360 with 2 Axes>"
            ]
          },
          "metadata": {
            "tags": []
          }
        }
      ]
    },
    {
      "cell_type": "code",
      "metadata": {
        "scrolled": true,
        "id": "NToJ6mLcYZfA",
        "outputId": "7a18a0b7-a029-41bb-ee5e-576a7a476c45",
        "colab": {
          "base_uri": "https://localhost:8080/",
          "height": 338
        }
      },
      "source": [
        "# We have very high correlation between some of the variables.\n",
        "# Let's focus on \"Mental Fatigue Score\" and \"Burn Rate\"\n",
        "plt.figure(figsize=(9, 5))\n",
        "plt.scatter(\"Mental Fatigue Score\", \"Burn Rate\", data=train, s=0.3, c=\"darkgreen\")\n",
        "plt.plot([0,10], [0, 1], linewidth=2, c=\"darkred\")\n",
        "plt.xlabel(\"Mental Fatigue Score\", fontdict=axis_font)\n",
        "plt.ylabel(\"Burn Rate\", fontdict=axis_font)\n",
        "plt.xticks(range(0,11))\n",
        "plt.show()"
      ],
      "execution_count": 20,
      "outputs": [
        {
          "output_type": "display_data",
          "data": {
            "image/png": "[encoded data removed]",
            "text/plain": [
              "<Figure size 648x360 with 1 Axes>"
            ]
          },
          "metadata": {
            "tags": []
          }
        }
      ]
    },
    {
      "cell_type": "markdown",
      "metadata": {
        "id": "ZgB3hgfcYZfE"
      },
      "source": [
        "The correlation is almost linear.<br>We may fill the gaps by using this high correlation. \"Interpolation\" could be our savior. "
      ]
    },
    {
      "cell_type": "code",
      "metadata": {
        "id": "I0zlB0dEYZfE",
        "outputId": "ba0e9e7f-eed9-42b1-8e53-c73bd87e01d5",
        "colab": {
          "base_uri": "https://localhost:8080/",
          "height": 338
        }
      },
      "source": [
        "# to keep things safe, let's play on a copy of our train dataset\n",
        "train_copy = pd.DataFrame()\n",
        "for i in train.columns[-3:]:\n",
        "    fill_with = train[i].interpolate(method=\"linear\")\n",
        "    train_copy[i] = train[i].fillna(fill_with, inplace=False)\n",
        "\n",
        "plt.figure(figsize=(9, 5))\n",
        "plt.scatter(\"Mental Fatigue Score\", \"Burn Rate\", data=train_copy, s=0.3, c=\"darkgreen\")\n",
        "plt.plot([0,10], [0, 1], linewidth=2, c=\"darkred\")\n",
        "plt.xlabel(\"Mental Fatigue Score\", fontdict=axis_font)\n",
        "plt.ylabel(\"Burn Rate\", fontdict=axis_font)\n",
        "plt.xticks(range(0,11))\n",
        "plt.show()\n",
        "del train_copy"
      ],
      "execution_count": 21,
      "outputs": [
        {
          "output_type": "display_data",
          "data": {
            "image/png": "[encoded data removed]",
            "text/plain": [
              "<Figure size 648x360 with 1 Axes>"
            ]
          },
          "metadata": {
            "tags": []
          }
        }
      ]
    },
    {
      "cell_type": "markdown",
      "metadata": {
        "id": "dkus4JNkYZfH"
      },
      "source": [
        "Random interpolation over the data made the dataset unnecessarily noisy. That why we should consider the correlations between the variables.<br>The things we are going to do are:<br>\n",
        "* Create a copy of the dataset with *NaN-free* values on \"Mental Fatigue Score\" & \"Burn Rate\" variables\n",
        "    * Because the interpolation will calculate the relationship in-between\n",
        "* Bake the interpolation function, i.e $y = f(x)$\n",
        "* Predict the NaN values by the function and replace them with the new values\n",
        "\n",
        "...but first, let's look at the original values for the last time:"
      ]
    },
    {
      "cell_type": "code",
      "metadata": {
        "id": "lELnBdvHYZfI",
        "outputId": "9184cdba-bafc-4218-b73e-80256143c945",
        "colab": {
          "base_uri": "https://localhost:8080/",
          "height": 351
        }
      },
      "source": [
        "describe_original = train.describe()\n",
        "describe_original"
      ],
      "execution_count": 22,
      "outputs": [
        {
          "output_type": "execute_result",
          "data": {
            "text/html": [
              "<div>\n",
              "<style scoped>\n",
              "    .dataframe tbody tr th:only-of-type {\n",
              "        vertical-align: middle;\n",
              "    }\n",
              "\n",
              "    .dataframe tbody tr th {\n",
              "        vertical-align: top;\n",
              "    }\n",
              "\n",
              "    .dataframe thead th {\n",
              "        text-align: right;\n",
              "    }\n",
              "</style>\n",
              "<table border=\"1\" class=\"dataframe\">\n",
              "  <thead>\n",
              "    <tr style=\"text-align: right;\">\n",
              "      <th></th>\n",
              "      <th>Date of Joining</th>\n",
              "      <th>is_male</th>\n",
              "      <th>is_service</th>\n",
              "      <th>wfh_available</th>\n",
              "      <th>Designation</th>\n",
              "      <th>Resource Allocation</th>\n",
              "      <th>Mental Fatigue Score</th>\n",
              "      <th>Burn Rate</th>\n",
              "    </tr>\n",
              "  </thead>\n",
              "  <tbody>\n",
              "    <tr>\n",
              "      <th>count</th>\n",
              "      <td>22578.000000</td>\n",
              "      <td>22578.000000</td>\n",
              "      <td>22578.000000</td>\n",
              "      <td>22578.000000</td>\n",
              "      <td>22578.000000</td>\n",
              "      <td>21212.000000</td>\n",
              "      <td>20633.000000</td>\n",
              "      <td>21626.000000</td>\n",
              "    </tr>\n",
              "    <tr>\n",
              "      <th>mean</th>\n",
              "      <td>0.507425</td>\n",
              "      <td>0.476482</td>\n",
              "      <td>0.652228</td>\n",
              "      <td>0.540305</td>\n",
              "      <td>2.178935</td>\n",
              "      <td>4.481001</td>\n",
              "      <td>5.728188</td>\n",
              "      <td>0.452005</td>\n",
              "    </tr>\n",
              "    <tr>\n",
              "      <th>std</th>\n",
              "      <td>0.286254</td>\n",
              "      <td>0.499458</td>\n",
              "      <td>0.476274</td>\n",
              "      <td>0.498384</td>\n",
              "      <td>1.134938</td>\n",
              "      <td>2.046963</td>\n",
              "      <td>1.920839</td>\n",
              "      <td>0.198226</td>\n",
              "    </tr>\n",
              "    <tr>\n",
              "      <th>min</th>\n",
              "      <td>0.000000</td>\n",
              "      <td>0.000000</td>\n",
              "      <td>0.000000</td>\n",
              "      <td>0.000000</td>\n",
              "      <td>0.000000</td>\n",
              "      <td>1.000000</td>\n",
              "      <td>0.000000</td>\n",
              "      <td>0.000000</td>\n",
              "    </tr>\n",
              "    <tr>\n",
              "      <th>25%</th>\n",
              "      <td>0.277628</td>\n",
              "      <td>0.000000</td>\n",
              "      <td>0.000000</td>\n",
              "      <td>0.000000</td>\n",
              "      <td>1.000000</td>\n",
              "      <td>3.000000</td>\n",
              "      <td>4.600000</td>\n",
              "      <td>0.310000</td>\n",
              "    </tr>\n",
              "    <tr>\n",
              "      <th>50%</th>\n",
              "      <td>0.495957</td>\n",
              "      <td>0.000000</td>\n",
              "      <td>1.000000</td>\n",
              "      <td>1.000000</td>\n",
              "      <td>2.000000</td>\n",
              "      <td>4.000000</td>\n",
              "      <td>5.900000</td>\n",
              "      <td>0.450000</td>\n",
              "    </tr>\n",
              "    <tr>\n",
              "      <th>75%</th>\n",
              "      <td>0.754717</td>\n",
              "      <td>1.000000</td>\n",
              "      <td>1.000000</td>\n",
              "      <td>1.000000</td>\n",
              "      <td>3.000000</td>\n",
              "      <td>6.000000</td>\n",
              "      <td>7.100000</td>\n",
              "      <td>0.590000</td>\n",
              "    </tr>\n",
              "    <tr>\n",
              "      <th>max</th>\n",
              "      <td>1.000000</td>\n",
              "      <td>1.000000</td>\n",
              "      <td>1.000000</td>\n",
              "      <td>1.000000</td>\n",
              "      <td>5.000000</td>\n",
              "      <td>10.000000</td>\n",
              "      <td>10.000000</td>\n",
              "      <td>1.000000</td>\n",
              "    </tr>\n",
              "  </tbody>\n",
              "</table>\n",
              "</div>"
            ],
            "text/plain": [
              "       Date of Joining       is_male  ...  Mental Fatigue Score     Burn Rate\n",
              "count     22578.000000  22578.000000  ...          20633.000000  21626.000000\n",
              "mean          0.507425      0.476482  ...              5.728188      0.452005\n",
              "std           0.286254      0.499458  ...              1.920839      0.198226\n",
              "min           0.000000      0.000000  ...              0.000000      0.000000\n",
              "25%           0.277628      0.000000  ...              4.600000      0.310000\n",
              "50%           0.495957      0.000000  ...              5.900000      0.450000\n",
              "75%           0.754717      1.000000  ...              7.100000      0.590000\n",
              "max           1.000000      1.000000  ...             10.000000      1.000000\n",
              "\n",
              "[8 rows x 8 columns]"
            ]
          },
          "metadata": {
            "tags": []
          },
          "execution_count": 22
        }
      ]
    },
    {
      "cell_type": "code",
      "metadata": {
        "id": "uWM12PYpYZfL"
      },
      "source": [
        "from scipy import interpolate"
      ],
      "execution_count": 23,
      "outputs": []
    },
    {
      "cell_type": "code",
      "metadata": {
        "id": "1_fwX275YZfO"
      },
      "source": [
        "# Let's create the copy of our dataset and\n",
        "# make sure that there are no NaN values in\n",
        "# \"Mental Fatigue Score\" & \"Burn Rate\" variables\n",
        "\n",
        "train_copy = train.copy(deep=True)\n",
        "\n",
        "not_na1 = train_copy[\"Mental Fatigue Score\"].notna()\n",
        "not_na2 = train_copy[\"Burn Rate\"].notna()\n",
        "\n",
        "train_copy = train_copy[(not_na1) & (not_na2)]\n",
        "del not_na2, not_na1"
      ],
      "execution_count": 24,
      "outputs": []
    },
    {
      "cell_type": "code",
      "metadata": {
        "id": "oL99rs2ZYZfS"
      },
      "source": [
        "# function to find the burn rate\n",
        "fn_burn = interpolate.interp1d(x=train_copy[\"Mental Fatigue Score\"], \n",
        "                               y=train_copy[\"Burn Rate\"], \n",
        "                               kind=\"linear\", \n",
        "                               fill_value=None)\n",
        "# function to find the mental fatigue score\n",
        "fn_mental = interpolate.interp1d(y=train_copy[\"Mental Fatigue Score\"], \n",
        "                                 x=train_copy[\"Burn Rate\"], \n",
        "                                 kind=\"linear\", \n",
        "                                 fill_value=None)"
      ],
      "execution_count": 25,
      "outputs": []
    },
    {
      "cell_type": "code",
      "metadata": {
        "scrolled": false,
        "id": "4Ewa33LuYZfW"
      },
      "source": [
        "# get rid of these NaNs\n",
        "for i in train[train[\"Burn Rate\"].isna()].index:\n",
        "    train.loc[i, \"Burn Rate\"] = fn_burn(train.loc[i, \"Mental Fatigue Score\"])\n",
        "    \n",
        "for i in train[train[\"Mental Fatigue Score\"].isna()].index:\n",
        "    train.loc[i, \"Mental Fatigue Score\"] = fn_mental(train.loc[i, \"Burn Rate\"])\n",
        "    \n",
        "del train_copy, fn_burn, fn_mental"
      ],
      "execution_count": 26,
      "outputs": []
    },
    {
      "cell_type": "code",
      "metadata": {
        "id": "Clil2E4FYZfZ",
        "outputId": "0b098fb9-9f92-4861-b8d4-f1b56c6eedee",
        "colab": {
          "base_uri": "https://localhost:8080/"
        }
      },
      "source": [
        "# well, what now?\n",
        "train.isna().sum()"
      ],
      "execution_count": 27,
      "outputs": [
        {
          "output_type": "execute_result",
          "data": {
            "text/plain": [
              "Employee ID                0\n",
              "Date of Joining            0\n",
              "is_male                    0\n",
              "is_service                 0\n",
              "wfh_available              0\n",
              "Designation                0\n",
              "Resource Allocation     1366\n",
              "Mental Fatigue Score       0\n",
              "Burn Rate                  0\n",
              "dtype: int64"
            ]
          },
          "metadata": {
            "tags": []
          },
          "execution_count": 27
        }
      ]
    },
    {
      "cell_type": "code",
      "metadata": {
        "id": "ADgU0HYvYZfc",
        "outputId": "e53ee688-6087-49bf-eacb-d1c1757d1535",
        "colab": {
          "base_uri": "https://localhost:8080/",
          "height": 338
        }
      },
      "source": [
        "# remember that \"Resource Allocation\" is also highly correlated with Designation.\n",
        "plt.figure(figsize=(6, 5))\n",
        "plt.scatter(\"Designation\", \"Resource Allocation\", data=train, c=\"darkred\")\n",
        "plt.xlabel(\"Designation\", fontdict=axis_font)\n",
        "plt.ylabel(\"Resource Allocation\", fontdict=axis_font)\n",
        "plt.yticks(range(0,11))\n",
        "plt.show()"
      ],
      "execution_count": 28,
      "outputs": [
        {
          "output_type": "display_data",
          "data": {
            "image/png": "[encoded data removed]",
            "text/plain": [
              "<Figure size 432x360 with 1 Axes>"
            ]
          },
          "metadata": {
            "tags": []
          }
        }
      ]
    },
    {
      "cell_type": "code",
      "metadata": {
        "id": "uQE2w0OxYZfg",
        "outputId": "2e256b05-0951-446a-fafe-24f17bf1ecfd",
        "colab": {
          "base_uri": "https://localhost:8080/"
        }
      },
      "source": [
        "# We will get the mean of each \"Designation\" value and replace the NaN with them \n",
        "# Here, an example: \n",
        "temp_value = train[\"Resource Allocation\"][train[\"Designation\"]==1].mean()\n",
        "\n",
        "print(f\"The mean value of Resource Allocation where \\\n",
        "Designation == 1 is: {temp_value:.2f}\")\n",
        "del temp_value"
      ],
      "execution_count": 29,
      "outputs": [
        {
          "output_type": "stream",
          "text": [
            "The mean value of Resource Allocation where Designation == 1 is: 2.58\n"
          ],
          "name": "stdout"
        }
      ]
    },
    {
      "cell_type": "code",
      "metadata": {
        "id": "1IeqBOcmYZfk"
      },
      "source": [
        "for i in range(6):    # 0 to 5, Designation values\n",
        "    mean_value = train[\"Resource Allocation\"][train[\"Designation\"]==i].mean()\n",
        "    \n",
        "    # condition: \"Designation\" == i AND \"Resource Allocation\" is NaN\n",
        "    condition = (train[\"Designation\"]==i) & (train[\"Resource Allocation\"].isna())\n",
        "    \n",
        "    # all NaN values are converted to mean values:\n",
        "    train.loc[condition, \"Resource Allocation\"] = mean_value"
      ],
      "execution_count": 30,
      "outputs": []
    },
    {
      "cell_type": "code",
      "metadata": {
        "scrolled": false,
        "id": "PKACBL3HYZfm",
        "outputId": "f62d7674-7201-4d81-fa5a-257a985bcc92",
        "colab": {
          "base_uri": "https://localhost:8080/"
        }
      },
      "source": [
        "# ...and it's gone!\n",
        "train.isna().sum()"
      ],
      "execution_count": 31,
      "outputs": [
        {
          "output_type": "execute_result",
          "data": {
            "text/plain": [
              "Employee ID             0\n",
              "Date of Joining         0\n",
              "is_male                 0\n",
              "is_service              0\n",
              "wfh_available           0\n",
              "Designation             0\n",
              "Resource Allocation     0\n",
              "Mental Fatigue Score    0\n",
              "Burn Rate               0\n",
              "dtype: int64"
            ]
          },
          "metadata": {
            "tags": []
          },
          "execution_count": 31
        }
      ]
    },
    {
      "cell_type": "markdown",
      "metadata": {
        "id": "bc_G9A2wYZfp"
      },
      "source": [
        "As can be seen below, standard deviations are almost the same. Yay!"
      ]
    },
    {
      "cell_type": "code",
      "metadata": {
        "scrolled": false,
        "id": "3oXbZHk3YZfq",
        "outputId": "7f30227a-2fbb-4257-e9d6-4662543f3fdf",
        "colab": {
          "base_uri": "https://localhost:8080/",
          "height": 318
        }
      },
      "source": [
        "describe_botox = train.describe()\n",
        "\n",
        "print(\"--------------- Original Data ---------------\")\n",
        "display(describe_original.iloc[:3, -3:])\n",
        "print(\"\\n--------------- Cleaned Data ---------------\")\n",
        "display(describe_botox.iloc[:3, -3:])"
      ],
      "execution_count": 32,
      "outputs": [
        {
          "output_type": "stream",
          "text": [
            "--------------- Original Data ---------------\n"
          ],
          "name": "stdout"
        },
        {
          "output_type": "display_data",
          "data": {
            "text/html": [
              "<div>\n",
              "<style scoped>\n",
              "    .dataframe tbody tr th:only-of-type {\n",
              "        vertical-align: middle;\n",
              "    }\n",
              "\n",
              "    .dataframe tbody tr th {\n",
              "        vertical-align: top;\n",
              "    }\n",
              "\n",
              "    .dataframe thead th {\n",
              "        text-align: right;\n",
              "    }\n",
              "</style>\n",
              "<table border=\"1\" class=\"dataframe\">\n",
              "  <thead>\n",
              "    <tr style=\"text-align: right;\">\n",
              "      <th></th>\n",
              "      <th>Resource Allocation</th>\n",
              "      <th>Mental Fatigue Score</th>\n",
              "      <th>Burn Rate</th>\n",
              "    </tr>\n",
              "  </thead>\n",
              "  <tbody>\n",
              "    <tr>\n",
              "      <th>count</th>\n",
              "      <td>21212.000000</td>\n",
              "      <td>20633.000000</td>\n",
              "      <td>21626.000000</td>\n",
              "    </tr>\n",
              "    <tr>\n",
              "      <th>mean</th>\n",
              "      <td>4.481001</td>\n",
              "      <td>5.728188</td>\n",
              "      <td>0.452005</td>\n",
              "    </tr>\n",
              "    <tr>\n",
              "      <th>std</th>\n",
              "      <td>2.046963</td>\n",
              "      <td>1.920839</td>\n",
              "      <td>0.198226</td>\n",
              "    </tr>\n",
              "  </tbody>\n",
              "</table>\n",
              "</div>"
            ],
            "text/plain": [
              "       Resource Allocation  Mental Fatigue Score     Burn Rate\n",
              "count         21212.000000          20633.000000  21626.000000\n",
              "mean              4.481001              5.728188      0.452005\n",
              "std               2.046963              1.920839      0.198226"
            ]
          },
          "metadata": {
            "tags": []
          }
        },
        {
          "output_type": "stream",
          "text": [
            "\n",
            "--------------- Cleaned Data ---------------\n"
          ],
          "name": "stdout"
        },
        {
          "output_type": "display_data",
          "data": {
            "text/html": [
              "<div>\n",
              "<style scoped>\n",
              "    .dataframe tbody tr th:only-of-type {\n",
              "        vertical-align: middle;\n",
              "    }\n",
              "\n",
              "    .dataframe tbody tr th {\n",
              "        vertical-align: top;\n",
              "    }\n",
              "\n",
              "    .dataframe thead th {\n",
              "        text-align: right;\n",
              "    }\n",
              "</style>\n",
              "<table border=\"1\" class=\"dataframe\">\n",
              "  <thead>\n",
              "    <tr style=\"text-align: right;\">\n",
              "      <th></th>\n",
              "      <th>Resource Allocation</th>\n",
              "      <th>Mental Fatigue Score</th>\n",
              "      <th>Burn Rate</th>\n",
              "    </tr>\n",
              "  </thead>\n",
              "  <tbody>\n",
              "    <tr>\n",
              "      <th>count</th>\n",
              "      <td>22578.000000</td>\n",
              "      <td>22578.000000</td>\n",
              "      <td>22578.000000</td>\n",
              "    </tr>\n",
              "    <tr>\n",
              "      <th>mean</th>\n",
              "      <td>4.480784</td>\n",
              "      <td>5.718075</td>\n",
              "      <td>0.452212</td>\n",
              "    </tr>\n",
              "    <tr>\n",
              "      <th>std</th>\n",
              "      <td>2.031909</td>\n",
              "      <td>1.924218</td>\n",
              "      <td>0.198125</td>\n",
              "    </tr>\n",
              "  </tbody>\n",
              "</table>\n",
              "</div>"
            ],
            "text/plain": [
              "       Resource Allocation  Mental Fatigue Score     Burn Rate\n",
              "count         22578.000000          22578.000000  22578.000000\n",
              "mean              4.480784              5.718075      0.452212\n",
              "std               2.031909              1.924218      0.198125"
            ]
          },
          "metadata": {
            "tags": []
          }
        }
      ]
    },
    {
      "cell_type": "markdown",
      "metadata": {
        "id": "80fupkp7YZfs"
      },
      "source": [
        "***"
      ]
    },
    {
      "cell_type": "markdown",
      "metadata": {
        "id": "-NqdhTzA-EvF"
      },
      "source": [
        "## 2.3 Bonus: A Fancy Way of EDA\n",
        "This is a module that I've recently discovered. As title stated, it's a \"fancier\" way of exploratory data analysis with an interactive GUI.\n",
        "\n",
        "*Note-1: The module needs to be updated to be used on Colab.<br>Please use the command and restart the runtime:*\n",
        "\n",
        "<code>!pip install -U pandas-profiling</code>\n",
        "\n",
        "*Note-2: I commented out the codes because GitHub doesn't show the interactive stuff on its page even though it keeps the files on the cache. So please uncomment them and feel free to explore our cleaned data.*"
      ]
    },
    {
      "cell_type": "markdown",
      "metadata": {
        "id": "bt4Da0ocB6bI"
      },
      "source": [
        "Update & import the module:"
      ]
    },
    {
      "cell_type": "code",
      "metadata": {
        "id": "kp_VBEyN_Pka"
      },
      "source": [
        "# !pip install -U pandas-profiling"
      ],
      "execution_count": 36,
      "outputs": []
    },
    {
      "cell_type": "code",
      "metadata": {
        "id": "6hqEWz2cBxcC"
      },
      "source": [
        "# from pandas_profiling import ProfileReport"
      ],
      "execution_count": null,
      "outputs": []
    },
    {
      "cell_type": "markdown",
      "metadata": {
        "id": "9n4ghW2DCFI5"
      },
      "source": [
        "**Profile Report**"
      ]
    },
    {
      "cell_type": "code",
      "metadata": {
        "id": "QJBeBz5rYZft"
      },
      "source": [
        "# profile = ProfileReport(train, title=\"Profiling Report\", explorative=True)\n",
        "# profile.to_notebook_iframe()"
      ],
      "execution_count": null,
      "outputs": []
    },
    {
      "cell_type": "markdown",
      "metadata": {
        "id": "xQ4jw99rB3Ag"
      },
      "source": [
        "(Optional) Export the report as an html file:"
      ]
    },
    {
      "cell_type": "code",
      "metadata": {
        "id": "laitYPN0Big6"
      },
      "source": [
        "# profile.to_file(\"./burning_out_report.html\")"
      ],
      "execution_count": null,
      "outputs": []
    },
    {
      "cell_type": "markdown",
      "metadata": {
        "id": "uA21ZqVXKLjW"
      },
      "source": [
        "***\n",
        "# 3\\. Regression Models"
      ]
    },
    {
      "cell_type": "code",
      "metadata": {
        "id": "zoi_P8dbKPfI"
      },
      "source": [
        ""
      ],
      "execution_count": null,
      "outputs": []
    }
  ]
}