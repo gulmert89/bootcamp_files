{
  "nbformat": 4,
  "nbformat_minor": 0,
  "metadata": {
    "colab": {
      "name": "project5.ipynb",
      "provenance": [],
      "collapsed_sections": [],
      "authorship_tag": "ABX9TyPo0eACRSjduZfwTvkfHdNb",
      "include_colab_link": true
    },
    "kernelspec": {
      "name": "python3",
      "display_name": "Python 3"
    },
    "accelerator": "GPU"
  },
  "cells": [
    {
      "cell_type": "markdown",
      "metadata": {
        "id": "view-in-github",
        "colab_type": "text"
      },
      "source": [
        "<a href=\"https://colab.research.google.com/github/gulmert89/dsBootcamp/blob/master/project5.ipynb\" target=\"_parent\"><img src=\"https://colab.research.google.com/assets/colab-badge.svg\" alt=\"Open In Colab\"/></a>"
      ]
    },
    {
      "cell_type": "markdown",
      "metadata": {
        "id": "lcxkevvkuIXO"
      },
      "source": [
        "# Graduation Project: Image Processing with Convolutional Neural Networks"
      ]
    },
    {
      "cell_type": "markdown",
      "metadata": {
        "id": "TcAgaBFuuSN5"
      },
      "source": [
        "Images of happy, shocked & sad faces."
      ]
    },
    {
      "cell_type": "markdown",
      "metadata": {
        "id": "KOej3fDFklnY"
      },
      "source": [
        "---\n",
        "# 1. Introduction"
      ]
    },
    {
      "cell_type": "markdown",
      "metadata": {
        "id": "W62JrcSo-shj"
      },
      "source": [
        "## 1.1 Imported Goods"
      ]
    },
    {
      "cell_type": "code",
      "metadata": {
        "id": "52QDd4NuYIU7",
        "outputId": "b65ea7ee-6436-42c6-b573-22440799896e",
        "colab": {
          "base_uri": "https://localhost:8080/",
          "height": 34
        }
      },
      "source": [
        "from google.colab import drive\n",
        "drive.mount(\"/content/drive/\")"
      ],
      "execution_count": 1,
      "outputs": [
        {
          "output_type": "stream",
          "text": [
            "Drive already mounted at /content/drive/; to attempt to forcibly remount, call drive.mount(\"/content/drive/\", force_remount=True).\n"
          ],
          "name": "stdout"
        }
      ]
    },
    {
      "cell_type": "code",
      "metadata": {
        "id": "49mJgEhdvluL",
        "outputId": "c2c89bf4-8779-4d57-85ce-25a2cc04f6a9",
        "colab": {
          "base_uri": "https://localhost:8080/",
          "height": 34
        }
      },
      "source": [
        "%cd \"/content/drive/My Drive/MertColab/project5/\""
      ],
      "execution_count": 2,
      "outputs": [
        {
          "output_type": "stream",
          "text": [
            "/content/drive/My Drive/MertColab/project5\n"
          ],
          "name": "stdout"
        }
      ]
    },
    {
      "cell_type": "code",
      "metadata": {
        "id": "26otGQEoT-YN"
      },
      "source": [
        "import numpy as np\n",
        "import matplotlib.pyplot as plt\n",
        "import seaborn as sns\n",
        "import datetime, os\n",
        "from keras.utils import to_categorical\n",
        "from keras import models, layers"
      ],
      "execution_count": 3,
      "outputs": []
    }
  ]
}