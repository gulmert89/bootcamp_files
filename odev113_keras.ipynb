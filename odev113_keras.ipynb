{
  "nbformat": 4,
  "nbformat_minor": 0,
  "metadata": {
    "colab": {
      "name": "odev113_keras.ipynb",
      "provenance": [],
      "collapsed_sections": [],
      "include_colab_link": true
    },
    "kernelspec": {
      "name": "python3",
      "display_name": "Python 3"
    },
    "accelerator": "GPU"
  },
  "cells": [
    {
      "cell_type": "markdown",
      "metadata": {
        "id": "view-in-github",
        "colab_type": "text"
      },
      "source": [
        "<a href=\"https://colab.research.google.com/github/gulmert89/dsBootcamp/blob/master/odev113_keras.ipynb\" target=\"_parent\"><img src=\"https://colab.research.google.com/assets/colab-badge.svg\" alt=\"Open In Colab\"/></a>"
      ]
    },
    {
      "cell_type": "markdown",
      "metadata": {
        "id": "3vbrmOZa89Lj"
      },
      "source": [
        "# Project 2: Regression Project\n",
        "Data Set: [Mercedes-Benz Greener Manufacturing](https://www.kaggle.com/c/mercedes-benz-greener-manufacturing) <br>\n",
        "*\\\"Can you cut the time a Mercedes-Benz spends on the test bench?\\\"*"
      ]
    },
    {
      "cell_type": "code",
      "metadata": {
        "id": "c8CEMcJ5GqrP",
        "outputId": "8e6fb751-27f2-4aa0-e9b0-95a93d0635e2",
        "colab": {
          "base_uri": "https://localhost:8080/",
          "height": 187
        }
      },
      "source": [
        "from google.colab import drive\n",
        "drive.mount('/content/drive/')\n",
        "\n",
        "import pandas as pd\n",
        "import matplotlib.pyplot as plt\n",
        "import numpy as np\n",
        "import seaborn as sns\n",
        "from sklearn.model_selection import train_test_split, GridSearchCV\n",
        "from sklearn.metrics import mean_squared_error, accuracy_score, mean_absolute_error\n",
        "#import warnings\n",
        "#warnings.filterwarnings(\"ignore\")\n",
        "\n",
        "train = pd.read_csv(\"/content/drive/My Drive/MertColab/proje2/train.csv\")\n",
        "test = pd.read_csv(\"/content/drive/My Drive/MertColab/proje2/test.csv\")\n",
        "\n",
        "# Let's convert the data of these columns to numeric values.\n",
        "# e.g a=1, c=3, z=26, aa=27, ac=29, ba=54, bd=57 etc.\n",
        "from string import ascii_lowercase\n",
        "\n",
        "for data in (test, train):\n",
        "    for col in data.columns[1:10]:\n",
        "        temp = 1\n",
        "        for var1 in ascii_lowercase:\n",
        "            var2 = \"a\" + var1\n",
        "            var3 = \"b\" + var1\n",
        "            data[col] = data[col].replace(var1, temp)\n",
        "            data[col] = data[col].replace(var2, temp+26)\n",
        "            data[col] = data[col].replace(var3, temp+26*2)\n",
        "            temp+=1\n",
        "        data[col] = data[col].astype(\"int64\")    # data types are also changed.\n",
        "\n",
        "# Standardization of these numeric values\n",
        "from sklearn.preprocessing import scale\n",
        "\n",
        "for col in train.columns[2:10]:\n",
        "    train[col] = scale(train[col])\n",
        "    test[col] = scale(test[col])\n",
        "\n",
        "# REGRESSION MODELS\n",
        "import statsmodels.api as sm\n",
        "import warnings\n",
        "warnings.filterwarnings(\"ignore\")\n",
        "\n",
        "X = train.iloc[:, 2:]\n",
        "y = train.y\n",
        "X_train, X_test, y_train, y_test = train_test_split(X, y, \n",
        "                                                    test_size=0.2, \n",
        "                                                    random_state=42)\n",
        "\n",
        "X_train = sm.add_constant(X_train, has_constant=\"raise\")\n",
        "X_test = sm.add_constant(X_test, has_constant=\"add\")\n",
        "results_model = sm.OLS(y_train, X_train)\n",
        "results_ols = results_model.fit()\n",
        "print(\"\\nAdjusted R-square value of OLS Model: %.4f\" %results_ols.rsquared_adj)\n",
        "print(\"Mean Absolute Error: {:.2f}\".\\\n",
        "      format(mean_absolute_error(y_test, results_ols.predict(X_test))), \n",
        "      end=\"\\n\")\n",
        "\n",
        "from sklearn.linear_model import Ridge, Lasso, ElasticNet, RidgeCV, LassoCV, ElasticNetCV\n",
        "lasso_CV = LassoCV(alphas=np.logspace(-1, 10, 10), cv=10).fit(X_train, y_train)\n",
        "lasso_score = lasso_CV.score(X_train, y_train)\n",
        "print(\"Adjusted R-square value of Lasso Model: %.4f\" %lasso_score)\n",
        "print(\"Mean Absolute Error: {:.2f}\".\\\n",
        "      format(mean_absolute_error(y_test, lasso_CV.predict(X_test))), \n",
        "      end=\"\\n\")\n",
        "\n",
        "ridge_CV = RidgeCV(alphas=np.logspace(-4, 100, 10), cv=10).fit(X_train, y_train)\n",
        "ridge_score = ridge_CV.score(X_train,y_train)\n",
        "print(\"Adjusted R-square value of Ridge Model: %.4f\" %ridge_score)\n",
        "print(\"Mean Absolute Error: {:.2f}\".\\\n",
        "      format(mean_absolute_error(y_test, ridge_CV.predict(X_test))), \n",
        "      end=\"\\n\")\n",
        "\n",
        "elasticNet_CV = ElasticNetCV(alphas=np.logspace(-6, 100, 20), l1_ratio=0.5, cv=10).fit(X_train, y_train)\n",
        "elasticNet_score = elasticNet_CV.score(X_train, y_train)\n",
        "print(\"Adjusted R-square value of ElasticNet Model: %.4f\" %elasticNet_score)\n",
        "print(\"Mean Absolute Error: {:.2f}\".\\\n",
        "      format(mean_absolute_error(y_test, elasticNet_CV.predict(X_test))), \n",
        "      end=\"\\n\")\n",
        "\n",
        "X_train.drop(\"const\", inplace=True, axis=1)\n",
        "X_test.drop(\"const\", inplace=True, axis=1)"
      ],
      "execution_count": 48,
      "outputs": [
        {
          "output_type": "stream",
          "text": [
            "Drive already mounted at /content/drive/; to attempt to forcibly remount, call drive.mount(\"/content/drive/\", force_remount=True).\n",
            "\n",
            "Adjusted R-square value of OLS Model: 0.5575\n",
            "Mean Absolute Error: 2251613354.11\n",
            "Adjusted R-square value of Lasso Model: 0.5386\n",
            "Mean Absolute Error: 5.53\n",
            "Adjusted R-square value of Ridge Model: 0.5915\n",
            "Mean Absolute Error: 5.80\n",
            "Adjusted R-square value of ElasticNet Model: 0.5913\n",
            "Mean Absolute Error: 5.77\n"
          ],
          "name": "stdout"
        }
      ]
    },
    {
      "cell_type": "markdown",
      "metadata": {
        "id": "Ad7E16-494qf"
      },
      "source": [
        "***\n",
        "# Ödev 11.3 - Keras & TensorFlow'a Giriş (Project 2)"
      ]
    },
    {
      "cell_type": "code",
      "metadata": {
        "id": "QDeK6ZLx-cN3"
      },
      "source": [
        "from keras import models, layers"
      ],
      "execution_count": 4,
      "outputs": []
    },
    {
      "cell_type": "code",
      "metadata": {
        "id": "ePIVEQW2-dL-",
        "outputId": "a6cb46e5-81e2-4a86-d091-57f3e8d34e8a",
        "colab": {
          "base_uri": "https://localhost:8080/",
          "height": 102
        }
      },
      "source": [
        "print(\"Shape of data set:\\nX_train:\", X_train.shape, \n",
        "      \"\\ny_train:\", y_train.shape)\n",
        "print(\"X_test:\", X_test.shape, \n",
        "      \"\\ny_test:\", y_test.shape)"
      ],
      "execution_count": 5,
      "outputs": [
        {
          "output_type": "stream",
          "text": [
            "Shape of data set:\n",
            "X_train: (3367, 376) \n",
            "y_train: (3367,)\n",
            "X_test: (842, 376) \n",
            "y_test: (842,)\n"
          ],
          "name": "stdout"
        }
      ]
    },
    {
      "cell_type": "code",
      "metadata": {
        "id": "G-5jKtk-_0v9",
        "outputId": "5d0b2a8f-96d5-442f-9d0b-be43703c31d5",
        "colab": {
          "base_uri": "https://localhost:8080/",
          "height": 255
        }
      },
      "source": [
        "model2 = models.Sequential()    # Model for Project 2\n",
        "model2.add(layers.Dense(units=512, \n",
        "                        activation=\"relu\", \n",
        "                        input_shape=(X_train.shape[1], ), \n",
        "                        name=\"Hidden_Layer_1\"))\n",
        "model2.add(layers.Dense(units=512, \n",
        "                        activation=\"relu\", \n",
        "                        name=\"Hidden_Layer_2\"))\n",
        "model2.add(layers.Dense(units=1, \n",
        "                        name=\"Output_Layer\"))\n",
        "model2.compile(optimizer=\"adam\", \n",
        "               loss=\"mse\", \n",
        "               metrics=[\"mae\"])\n",
        "history2 = model2.fit(X_train, y_train, \n",
        "                      epochs=100, \n",
        "                      batch_size=8, \n",
        "                      shuffle=True,\n",
        "                      verbose=False)\n",
        "model2.summary()"
      ],
      "execution_count": 58,
      "outputs": [
        {
          "output_type": "stream",
          "text": [
            "Model: \"sequential_6\"\n",
            "_________________________________________________________________\n",
            "Layer (type)                 Output Shape              Param #   \n",
            "=================================================================\n",
            "Hidden_Layer_1 (Dense)       (None, 512)               193024    \n",
            "_________________________________________________________________\n",
            "Hidden_Layer_2 (Dense)       (None, 512)               262656    \n",
            "_________________________________________________________________\n",
            "Output_Layer (Dense)         (None, 1)                 513       \n",
            "=================================================================\n",
            "Total params: 456,193\n",
            "Trainable params: 456,193\n",
            "Non-trainable params: 0\n",
            "_________________________________________________________________\n"
          ],
          "name": "stdout"
        }
      ]
    },
    {
      "cell_type": "code",
      "metadata": {
        "id": "vKCZjAknNPaj"
      },
      "source": [
        "# cosmetic configuration\n",
        "sns.set(style=\"whitegrid\")\n",
        "title_font = {\"family\":\"sans-serif\", \n",
        "              \"color\":\"darkred\", \n",
        "              \"size\":20, \n",
        "              \"weight\":\"bold\", \n",
        "              \"alpha\":0.9}\n",
        "axis_font = {\"family\":\"verdana\", \n",
        "              \"color\":\"black\", \n",
        "              \"size\":16, \n",
        "              \"weight\":\"bold\"}"
      ],
      "execution_count": 53,
      "outputs": []
    },
    {
      "cell_type": "code",
      "metadata": {
        "id": "631d42TMJ9Ic",
        "outputId": "0d3a23e0-b582-42cc-c3fc-04bd05956201",
        "colab": {
          "base_uri": "https://localhost:8080/",
          "height": 525
        }
      },
      "source": [
        "plt.figure(figsize=(12,8))\n",
        "plt.plot(range(1, len(history2.history[\"mae\"])+1), history2.history[\"mae\"], \n",
        "         color=\"darkblue\", linewidth=2)\n",
        "plt.title(\"Change in Mean Absolute Error w.r.t Epochs\", fontdict=title_font)\n",
        "plt.xlabel(\"Epochs\", fontdict=axis_font)\n",
        "plt.ylabel(\"Train Set MAE\", fontdict=axis_font)\n",
        "plt.show()"
      ],
      "execution_count": 59,
      "outputs": [
        {
          "output_type": "display_data",
          "data": {
            "image/png": "[encoded data removed]",
            "text/plain": [
              "<Figure size 864x576 with 1 Axes>"
            ]
          },
          "metadata": {
            "tags": []
          }
        }
      ]
    },
    {
      "cell_type": "code",
      "metadata": {
        "id": "kAsYNk2-GqDd",
        "outputId": "2015e64b-2d49-433b-fc1c-d630c580f0ce",
        "colab": {
          "base_uri": "https://localhost:8080/",
          "height": 85
        }
      },
      "source": [
        "print(\"Evaluating train set:\")\n",
        "train_evaluate = model2.evaluate(X_train, y_train, \n",
        "                                 use_multiprocessing=True, \n",
        "                                 return_dict=True)\n",
        "print(\"Evaluating test set:\")\n",
        "test_evaluate = model2.evaluate(X_test, y_test, \n",
        "                                use_multiprocessing=1, \n",
        "                                return_dict=1)"
      ],
      "execution_count": 60,
      "outputs": [
        {
          "output_type": "stream",
          "text": [
            "Evaluating train set:\n",
            "106/106 [==============================] - 0s 2ms/step - loss: 21.6827 - mae: 3.0000\n",
            "Evaluating test set:\n",
            "27/27 [==============================] - 0s 1ms/step - loss: 100.5269 - mae: 6.9917\n"
          ],
          "name": "stdout"
        }
      ]
    },
    {
      "cell_type": "markdown",
      "metadata": {
        "id": "1iUibI5rholA"
      },
      "source": [
        "---\n",
        "***\n",
        "---"
      ]
    },
    {
      "cell_type": "markdown",
      "metadata": {
        "id": "3CzX6kBd7BMA"
      },
      "source": [
        "# Project 3: Classification Project\n",
        "Data Set: [Twitter US Airline Sentiment](https://www.kaggle.com/crowdflower/twitter-airline-sentiment) <br>\n",
        "*\\\"Analyze how travelers in February 2015 expressed their feelings on Twitter\\\"*"
      ]
    },
    {
      "cell_type": "code",
      "metadata": {
        "id": "PFq_SsQcDb1r",
        "outputId": "6a890fa4-1830-41b4-ba75-7b4953ebb86e",
        "colab": {
          "base_uri": "https://localhost:8080/",
          "height": 119
        }
      },
      "source": [
        "%matplotlib inline\n",
        "\n",
        "# calling our honor guest:\n",
        "tweets = pd.read_csv(\"/content/drive/My Drive/MertColab/proje3/tweets.csv\")\n",
        "\n",
        "# ...and she takes off her fancy fur coat and some other unnecessary ornaments \n",
        "tweets.drop(columns=[\"tweet_id\", \"airline_sentiment_gold\", \"name\", \n",
        "                     \"negativereason_gold\", \"retweet_count\", \"tweet_created\", \n",
        "                     \"tweet_coord\", \"tweet_created\", \"tweet_location\", \n",
        "                     \"user_timezone\"], \n",
        "            inplace=True)\n",
        "\n",
        "# We are going to clean the tweets to keep only the English words\n",
        "import re, string, nltk\n",
        "nltk.download('words')\n",
        "words = set(nltk.corpus.words.words())\n",
        "\n",
        "# The twitter accounts mentioned:\n",
        "set_them = set()\n",
        "for i in tweets.text:\n",
        "    search_them = re.search(r\"(^|[^@\\w])@(\\w{1,15})\\b\", i)\n",
        "    give_them = search_them.group().lower()\n",
        "    set_them.add(give_them)\n",
        "del set_them\n",
        "\n",
        "# These are the Twitter accounts we will remove:\n",
        "# @virginamerica, @united, @southwestair, @deltaassist, @usairways, @americanair\n",
        "\n",
        "def tweet_cleaner(tweet):\n",
        "    \"Symbols, numbers & airline brand cleaner function!\"\n",
        "    # First step: Symbols and numbers are gone:\n",
        "    cleaned_string = re.sub(\"[^a-zA-Z]\", \" \", tweet)\n",
        "\n",
        "    # Party people here speak only English. No other languages are allowed:\n",
        "    cleaned_string = \" \".join(w for w in nltk.wordpunct_tokenize(cleaned_string) \\\n",
        "         if w.lower() in words)\n",
        "\n",
        "    # Second step: Putting them to a list:\n",
        "    cleaned_set = set(cleaned_string.lower().split())\n",
        "    # Let's get rid of our meaningless one-letter friends: \n",
        "    what_to_clean = list(string.ascii_lowercase)\n",
        "    # ...and some of their drunk buddies:\n",
        "    what_to_clean.extend([\"it\", \"of\", \"co\", \"to\", \"http\"])\n",
        "    # We don't need any officials in our party as well:\n",
        "    what_to_clean.extend([\"virginamerica\", \"united\", \n",
        "                       \"southwestair\", \"deltaassist\",\n",
        "                       \"usairways\", \"americanair\"])\n",
        "    for delete in what_to_clean:\n",
        "        try:\n",
        "            cleaned_set.remove(delete)\n",
        "        except:\n",
        "            continue    \n",
        "    return list(cleaned_set)\n",
        "\n",
        "# We need to convert the \"airline_sentiment\" to numbers.\n",
        "for i,j in enumerate(tweets.airline_sentiment.unique()):\n",
        "    tweets.airline_sentiment = tweets.airline_sentiment.replace(j, i)\n",
        "tweets.airline_sentiment.astype(\"int64\")\n",
        "\n",
        "# We are going to collect all the words and give them binary inputs (1 or 0)\n",
        "# according to their entities in the tweets.\n",
        "all_words = set()\n",
        "rows=[]\n",
        "for i in tweets.index:\n",
        "    listed_tweet = tweet_cleaner(tweets.text[i])\n",
        "    rows.append(listed_tweet)\n",
        "    all_words.update(listed_tweet)\n",
        "\n",
        "# filling the data frame with binary values according to the words\n",
        "df_words = pd.DataFrame(0, columns=all_words, index=tweets.index)\n",
        "for i in tweets.index:\n",
        "    df_words.loc[i, rows[i]]=1\n",
        "\n",
        "# it's time to concatenate the data frames\n",
        "tweets = pd.concat([tweets, df_words], ignore_index=False, axis=\"columns\")\n",
        "\n",
        "# Linear Regression Models\n",
        "from sklearn.model_selection import RandomizedSearchCV\n",
        "from sklearn.model_selection import cross_validate, cross_val_score\n",
        "from sklearn.linear_model import LogisticRegression, LogisticRegressionCV\n",
        "\n",
        "X = tweets.iloc[:, 6:]\n",
        "y = tweets.airline_sentiment\n",
        "X_train, X_test, y_train, y_test = train_test_split(X, y, test_size=0.2, random_state=42)\n",
        "\n",
        "lr_model1 = LogisticRegression(C=0.1, solver=\"lbfgs\", max_iter=300, n_jobs=-1)\n",
        "lr_model1.fit(X_train, y_train)\n",
        "train_score_model1 = lr_model1.score(X_train, y_train)\n",
        "test_score_model1 = lr_model1.score(X_test, y_test)\n",
        "\n",
        "print(\"\\nTrain score with 'lbfgs' solver: {:.3f}\".format(train_score_model1))\n",
        "print(\"Test score with 'lbfgs' solver: {:.3f}\".format(test_score_model1), \"\\n\")"
      ],
      "execution_count": 140,
      "outputs": [
        {
          "output_type": "stream",
          "text": [
            "[nltk_data] Downloading package words to /root/nltk_data...\n",
            "[nltk_data]   Unzipping corpora/words.zip.\n",
            "\n",
            "Train score with 'lbfgs' solver: 0.824\n",
            "Test score with 'lbfgs' solver: 0.789 \n",
            "\n"
          ],
          "name": "stdout"
        }
      ]
    },
    {
      "cell_type": "markdown",
      "metadata": {
        "id": "JQvn3ll9XSBa"
      },
      "source": [
        "***\n",
        "# Ödev 11.3 - Keras & TensorFlow'a Giriş (Project 3)"
      ]
    }
  ]
}