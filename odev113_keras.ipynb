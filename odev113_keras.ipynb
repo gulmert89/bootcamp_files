{
  "nbformat": 4,
  "nbformat_minor": 0,
  "metadata": {
    "colab": {
      "name": "odev113_keras.ipynb",
      "provenance": [],
      "collapsed_sections": [],
      "include_colab_link": true
    },
    "kernelspec": {
      "name": "python3",
      "display_name": "Python 3"
    },
    "accelerator": "GPU"
  },
  "cells": [
    {
      "cell_type": "markdown",
      "metadata": {
        "id": "view-in-github",
        "colab_type": "text"
      },
      "source": [
        "<a href=\"https://colab.research.google.com/github/gulmert89/dsBootcamp/blob/master/odev113_keras.ipynb\" target=\"_parent\"><img src=\"https://colab.research.google.com/assets/colab-badge.svg\" alt=\"Open In Colab\"/></a>"
      ]
    },
    {
      "cell_type": "markdown",
      "metadata": {
        "id": "3vbrmOZa89Lj"
      },
      "source": [
        "# Project 2: Regression Project\n",
        "Data Set: [Mercedes-Benz Greener Manufacturing](https://www.kaggle.com/c/mercedes-benz-greener-manufacturing) <br>\n",
        "*Can you cut the time a Mercedes-Benz spends on the test bench?*"
      ]
    },
    {
      "cell_type": "code",
      "metadata": {
        "id": "c8CEMcJ5GqrP",
        "outputId": "b10a90ff-fbd2-471d-cc7d-178f0daa28cc",
        "colab": {
          "base_uri": "https://localhost:8080/",
          "height": 241
        }
      },
      "source": [
        "from google.colab import drive\n",
        "drive.mount('/content/drive/')\n",
        "\n",
        "import pandas as pd\n",
        "import matplotlib.pyplot as plt\n",
        "import numpy as np\n",
        "import seaborn as sns\n",
        "from sklearn.model_selection import train_test_split, GridSearchCV\n",
        "from sklearn.metrics import mean_squared_error, accuracy_score, mean_absolute_error\n",
        "#import warnings\n",
        "#warnings.filterwarnings(\"ignore\")\n",
        "\n",
        "train = pd.read_csv(\"/content/drive/My Drive/MertColab/proje2/train.csv\")\n",
        "test = pd.read_csv(\"/content/drive/My Drive/MertColab/proje2/test.csv\")\n",
        "\n",
        "# Let's convert the data of these columns to numeric values.\n",
        "# e.g a=1, c=3, z=26, aa=27, ac=29, ba=54, bd=57 etc.\n",
        "from string import ascii_lowercase\n",
        "\n",
        "for data in (test, train):\n",
        "    for col in data.columns[1:10]:\n",
        "        temp = 1\n",
        "        for var1 in ascii_lowercase:\n",
        "            var2 = \"a\" + var1\n",
        "            var3 = \"b\" + var1\n",
        "            data[col] = data[col].replace(var1, temp)\n",
        "            data[col] = data[col].replace(var2, temp+26)\n",
        "            data[col] = data[col].replace(var3, temp+26*2)\n",
        "            temp+=1\n",
        "        data[col] = data[col].astype(\"int64\")    # data types are also changed.\n",
        "\n",
        "# Standardization of these numeric values\n",
        "from sklearn.preprocessing import scale\n",
        "\n",
        "for col in train.columns[2:10]:\n",
        "    train[col] = scale(train[col])\n",
        "    test[col] = scale(test[col])\n",
        "\n",
        "# REGRESSION MODELS\n",
        "import statsmodels.api as sm\n",
        "import warnings\n",
        "warnings.filterwarnings(\"ignore\")\n",
        "\n",
        "X = train.iloc[:, 2:]\n",
        "y = train.y\n",
        "\n",
        "# split the set to train, validation & test\n",
        "np.random.seed(42)\n",
        "# random indices:\n",
        "random_arr = np.random.randint(0, X.shape[0], X.shape[0])\n",
        "# 60% of the data set:\n",
        "train_index = random_arr[:len(random_arr)*6//10]\n",
        "# 20% is for the validation\n",
        "validation_index = random_arr[(len(random_arr)*6//10):-len(random_arr)*2//10]\n",
        "# 20% is for the test set\n",
        "test_index = random_arr[-len(random_arr)*2//10:]\n",
        "\n",
        "X_train, X_val, X_test = (X.iloc[train_index, :], \n",
        "                          X.iloc[validation_index, :], \n",
        "                          X.iloc[test_index, :])\n",
        "y_train, y_val, y_test = y[train_index], y[validation_index], y[test_index]\n",
        "del random_arr, train_index, validation_index, test_index\n",
        "# X_train, X_test, y_train, y_test = train_test_split(X, y, test_size=0.2)\n",
        "\n",
        "X_train = sm.add_constant(X_train, has_constant=\"add\")\n",
        "X_test = sm.add_constant(X_test, has_constant=\"add\")\n",
        "results_model = sm.OLS(y_train, X_train)\n",
        "results_ols = results_model.fit()\n",
        "print(\"\\nAdjusted R-square value of OLS Model: %.4f\" %results_ols.rsquared_adj)\n",
        "print(\"Mean Absolute Error (Test Set): {:.2f}\".\\\n",
        "      format(mean_absolute_error(y_test, results_ols.predict(X_test))), \n",
        "      end=\"\\n\")\n",
        "\n",
        "from sklearn.linear_model import Ridge, Lasso, ElasticNet, RidgeCV, LassoCV, ElasticNetCV\n",
        "lasso_CV = LassoCV(alphas=np.logspace(-1, 10, 10), cv=10).fit(X_train, y_train)\n",
        "lasso_score = lasso_CV.score(X_train, y_train)\n",
        "print(\"Adjusted R-square value of Lasso Model: %.4f\" %lasso_score)\n",
        "print(\"Mean Absolute Error (Test Set): {:.2f}\".\\\n",
        "      format(mean_absolute_error(y_test, lasso_CV.predict(X_test))), \n",
        "      end=\"\\n\")\n",
        "\n",
        "ridge_CV = RidgeCV(alphas=np.logspace(-4, 100, 10), cv=10).fit(X_train, y_train)\n",
        "ridge_score = ridge_CV.score(X_train,y_train)\n",
        "print(\"Adjusted R-square value of Ridge Model: %.4f\" %ridge_score)\n",
        "print(\"Mean Absolute Error (Test Set): {:.2f}\".\\\n",
        "      format(mean_absolute_error(y_test, ridge_CV.predict(X_test))), \n",
        "      end=\"\\n\")\n",
        "\n",
        "elasticNet_CV = ElasticNetCV(alphas=np.logspace(-6, 100, 20), l1_ratio=0.5, cv=10).fit(X_train, y_train)\n",
        "elasticNet_score = elasticNet_CV.score(X_train, y_train)\n",
        "print(\"Adjusted R-square value of ElasticNet Model: %.4f\" %elasticNet_score)\n",
        "print(\"Mean Absolute Error (Test Set): {:.2f}\".\\\n",
        "      format(mean_absolute_error(y_test, elasticNet_CV.predict(X_test))), \n",
        "      end=\"\\n\")\n",
        "\n",
        "X_train.drop(\"const\", inplace=True, axis=1)\n",
        "X_test.drop(\"const\", inplace=True, axis=1)"
      ],
      "execution_count": null,
      "outputs": [
        {
          "output_type": "stream",
          "text": [
            "Mounted at /content/drive/\n"
          ],
          "name": "stdout"
        },
        {
          "output_type": "stream",
          "text": [
            "/usr/local/lib/python3.6/dist-packages/statsmodels/tools/_testing.py:19: FutureWarning: pandas.util.testing is deprecated. Use the functions in the public API at pandas.testing instead.\n",
            "  import pandas.util.testing as tm\n"
          ],
          "name": "stderr"
        },
        {
          "output_type": "stream",
          "text": [
            "\n",
            "Adjusted R-square value of OLS Model: 0.6182\n",
            "Mean Absolute Error (Test Set): 2850084844.81\n",
            "Adjusted R-square value of Lasso Model: 0.5760\n",
            "Mean Absolute Error (Test Set): 5.63\n",
            "Adjusted R-square value of Ridge Model: 0.6544\n",
            "Mean Absolute Error (Test Set): 5.79\n",
            "Adjusted R-square value of ElasticNet Model: 0.6544\n",
            "Mean Absolute Error (Test Set): 5.85\n"
          ],
          "name": "stdout"
        }
      ]
    },
    {
      "cell_type": "markdown",
      "metadata": {
        "id": "Ad7E16-494qf"
      },
      "source": [
        "***\n",
        "# Ödev 11.3 - Keras & TensorFlow'a Giriş (Project 2)"
      ]
    },
    {
      "cell_type": "code",
      "metadata": {
        "id": "QDeK6ZLx-cN3"
      },
      "source": [
        "from keras import models, layers"
      ],
      "execution_count": null,
      "outputs": []
    },
    {
      "cell_type": "code",
      "metadata": {
        "id": "ePIVEQW2-dL-",
        "outputId": "19ad1f35-e46f-44df-cad6-6ba25fe0650d",
        "colab": {
          "base_uri": "https://localhost:8080/",
          "height": 136
        }
      },
      "source": [
        "print(\"Shape of data sets (train, validation, test):\\nX_train:\", X_train.shape, \n",
        "      \"\\ny_train:\", y_train.shape)\n",
        "print(\"X_val:\", X_val.shape, \n",
        "      \"\\ny_val:\", y_val.shape)\n",
        "print(\"X_test:\", X_test.shape, \n",
        "      \"\\ny_test:\", y_test.shape)"
      ],
      "execution_count": null,
      "outputs": [
        {
          "output_type": "stream",
          "text": [
            "Shape of data sets (train, validation, test):\n",
            "X_train: (2525, 376) \n",
            "y_train: (2525,)\n",
            "X_val: (842, 376) \n",
            "y_val: (842,)\n",
            "X_test: (842, 376) \n",
            "y_test: (842,)\n"
          ],
          "name": "stdout"
        }
      ]
    },
    {
      "cell_type": "code",
      "metadata": {
        "id": "G-5jKtk-_0v9",
        "outputId": "41aa76f5-efd3-46a2-90ef-e28e5d56a0f9",
        "colab": {
          "base_uri": "https://localhost:8080/",
          "height": 595
        }
      },
      "source": [
        "# Model for Project 2\n",
        "model2 = models.Sequential()\n",
        "model2.add(layers.Dense(units=256, \n",
        "                        activation=\"relu\", \n",
        "                        input_shape=(X_train.shape[1], ), \n",
        "                        name=\"Hidden_Layer_1\"))\n",
        "model2.add(layers.Dense(units=256, \n",
        "                        activation=\"relu\", \n",
        "                        name=\"Hidden_Layer_2\"))\n",
        "model2.add(layers.Dense(units=1, \n",
        "                        name=\"Output_Layer\"))\n",
        "model2.compile(optimizer=\"adam\", \n",
        "               loss=\"mse\", \n",
        "               metrics=[\"mae\"])\n",
        "history2 = model2.fit(X_train, y_train, \n",
        "                      epochs=10,\n",
        "                      batch_size=64, \n",
        "                      validation_data=(X_val, y_val),\n",
        "                      shuffle=True,\n",
        "                      verbose=True)\n",
        "model2.summary()"
      ],
      "execution_count": null,
      "outputs": [
        {
          "output_type": "stream",
          "text": [
            "Epoch 1/10\n",
            "40/40 [==============================] - 0s 11ms/step - loss: 4108.9561 - mae: 53.9225 - val_loss: 227.8443 - val_mae: 12.0357\n",
            "Epoch 2/10\n",
            "40/40 [==============================] - 0s 3ms/step - loss: 198.2329 - mae: 10.6807 - val_loss: 112.2234 - val_mae: 7.9385\n",
            "Epoch 3/10\n",
            "40/40 [==============================] - 0s 3ms/step - loss: 103.6016 - mae: 7.4438 - val_loss: 83.0406 - val_mae: 6.9163\n",
            "Epoch 4/10\n",
            "40/40 [==============================] - 0s 3ms/step - loss: 81.1483 - mae: 6.4477 - val_loss: 74.4998 - val_mae: 6.6320\n",
            "Epoch 5/10\n",
            "40/40 [==============================] - 0s 3ms/step - loss: 68.9520 - mae: 5.7488 - val_loss: 63.6837 - val_mae: 5.8164\n",
            "Epoch 6/10\n",
            "40/40 [==============================] - 0s 3ms/step - loss: 63.6141 - mae: 5.5037 - val_loss: 60.7299 - val_mae: 5.4731\n",
            "Epoch 7/10\n",
            "40/40 [==============================] - 0s 4ms/step - loss: 60.2802 - mae: 5.3577 - val_loss: 59.1308 - val_mae: 5.1860\n",
            "Epoch 8/10\n",
            "40/40 [==============================] - 0s 3ms/step - loss: 58.1940 - mae: 5.1594 - val_loss: 58.2546 - val_mae: 5.2131\n",
            "Epoch 9/10\n",
            "40/40 [==============================] - 0s 3ms/step - loss: 55.9793 - mae: 5.0601 - val_loss: 58.3369 - val_mae: 5.5317\n",
            "Epoch 10/10\n",
            "40/40 [==============================] - 0s 3ms/step - loss: 54.4784 - mae: 5.0000 - val_loss: 57.5052 - val_mae: 5.4050\n",
            "Model: \"sequential\"\n",
            "_________________________________________________________________\n",
            "Layer (type)                 Output Shape              Param #   \n",
            "=================================================================\n",
            "Hidden_Layer_1 (Dense)       (None, 256)               96512     \n",
            "_________________________________________________________________\n",
            "Hidden_Layer_2 (Dense)       (None, 256)               65792     \n",
            "_________________________________________________________________\n",
            "Output_Layer (Dense)         (None, 1)                 257       \n",
            "=================================================================\n",
            "Total params: 162,561\n",
            "Trainable params: 162,561\n",
            "Non-trainable params: 0\n",
            "_________________________________________________________________\n"
          ],
          "name": "stdout"
        }
      ]
    },
    {
      "cell_type": "code",
      "metadata": {
        "id": "vKCZjAknNPaj"
      },
      "source": [
        "# cosmetic configuration\n",
        "sns.set(style=\"whitegrid\")\n",
        "title_font = {\"family\":\"sans\", \n",
        "              \"color\":\"darkred\", \n",
        "              \"size\":30, \n",
        "              \"weight\":\"bold\", \n",
        "              \"alpha\":0.9}\n",
        "axis_font = {\"family\":\"sans-serif\", \n",
        "              \"color\":\"black\", \n",
        "              \"size\":16, \n",
        "              \"weight\":\"bold\"}"
      ],
      "execution_count": null,
      "outputs": []
    },
    {
      "cell_type": "code",
      "metadata": {
        "id": "W8biVZljNVTo"
      },
      "source": [
        "# loss and MAE values of the model\n",
        "history_dict = history2.history\n",
        "train_loss = history_dict[\"loss\"]\n",
        "val_loss = history_dict[\"val_loss\"]\n",
        "train_mae = history_dict[\"mae\"]\n",
        "val_mae = history_dict[\"val_mae\"]"
      ],
      "execution_count": null,
      "outputs": []
    },
    {
      "cell_type": "code",
      "metadata": {
        "id": "631d42TMJ9Ic",
        "outputId": "0789897c-4644-464f-be4c-220136e55acc",
        "colab": {
          "base_uri": "https://localhost:8080/",
          "height": 504
        }
      },
      "source": [
        "plt.figure(figsize=(20,8))\n",
        "#plt.suptitle(\"Change in Values w.r.t Epochs\", fontdict=title_font)\n",
        "plt.subplot(1,2,1)\n",
        "plt.plot(range(1, len(train_mae)+1), train_mae, \n",
        "         color=\"darkgreen\", linewidth=2, label=\"Train Set\")\n",
        "plt.plot(range(1, len(val_mae)+1), val_mae, \n",
        "        \"r--\", linewidth=2, label=\"Valdation Set\")\n",
        "plt.xlabel(\"Epochs\", fontdict=axis_font)\n",
        "plt.ylabel(\"Mean Absolute Error\", fontdict=axis_font)\n",
        "plt.legend(fontsize=\"medium\", loc=(0.7,0.5))\n",
        "\n",
        "plt.subplot(1,2,2)\n",
        "plt.plot(range(1, len(train_loss)+1), train_loss, \n",
        "         color=\"darkgreen\", linewidth=2, label=\"Train Set\")\n",
        "plt.plot(range(1, len(val_loss)+1), val_loss, \n",
        "        \"r--\", linewidth=2, label=\"Valdation Set\")\n",
        "plt.xlabel(\"Epochs\", fontdict=axis_font)\n",
        "plt.ylabel(\"Loss Value\", fontdict=axis_font)\n",
        "plt.legend(fontsize=\"medium\", loc=(0.7,0.5))\n",
        "\n",
        "plt.show()"
      ],
      "execution_count": null,
      "outputs": [
        {
          "output_type": "display_data",
          "data": {
            "image/png": "[encoded data removed]",
            "text/plain": [
              "<Figure size 1440x576 with 2 Axes>"
            ]
          },
          "metadata": {
            "tags": []
          }
        }
      ]
    },
    {
      "cell_type": "code",
      "metadata": {
        "id": "kAsYNk2-GqDd",
        "outputId": "2b33f4a3-f06a-488f-98ea-a173f735b1b7",
        "colab": {
          "base_uri": "https://localhost:8080/",
          "height": 85
        }
      },
      "source": [
        "# epochs value with 5 would be fine\n",
        "history2 = model2.fit(X_train, y_train, \n",
        "                      epochs=5,\n",
        "                      batch_size=64, \n",
        "                      validation_data=(X_val, y_val),\n",
        "                      shuffle=True,\n",
        "                      verbose=False)\n",
        "print(\"Evaluating train set:\")\n",
        "train_evaluate = model2.evaluate(X_train, y_train, \n",
        "                                 return_dict=True)\n",
        "print(\"Evaluating validation set:\")\n",
        "test_evaluate = model2.evaluate(X_val, y_val,\n",
        "                                return_dict=1)"
      ],
      "execution_count": null,
      "outputs": [
        {
          "output_type": "stream",
          "text": [
            "Evaluating train set:\n",
            "79/79 [==============================] - 0s 2ms/step - loss: 46.2528 - mae: 4.5633\n",
            "Evaluating validation set:\n",
            "27/27 [==============================] - 0s 2ms/step - loss: 55.8363 - mae: 5.2093\n"
          ],
          "name": "stdout"
        }
      ]
    },
    {
      "cell_type": "code",
      "metadata": {
        "id": "MzLGi-5eQfyZ",
        "outputId": "a52ebda7-5d5c-48cb-dde1-3a2ef5f8bce7",
        "colab": {
          "base_uri": "https://localhost:8080/",
          "height": 51
        }
      },
      "source": [
        "print(\"Evaluating test set:\")\n",
        "test_evaluate = model2.evaluate(X_test, y_test,\n",
        "                                return_dict=1)"
      ],
      "execution_count": null,
      "outputs": [
        {
          "output_type": "stream",
          "text": [
            "Evaluating test set:\n",
            "27/27 [==============================] - 0s 2ms/step - loss: 64.6762 - mae: 5.4467\n"
          ],
          "name": "stdout"
        }
      ]
    },
    {
      "cell_type": "markdown",
      "metadata": {
        "id": "1iUibI5rholA"
      },
      "source": [
        "---\n",
        "***\n",
        "---"
      ]
    },
    {
      "cell_type": "markdown",
      "metadata": {
        "id": "3CzX6kBd7BMA"
      },
      "source": [
        "# Project 3: Classification Project\n",
        "Data Set: [Twitter US Airline Sentiment](https://www.kaggle.com/crowdflower/twitter-airline-sentiment) <br>\n",
        "*Analyze how travelers in February 2015 expressed their feelings on Twitter*"
      ]
    },
    {
      "cell_type": "code",
      "metadata": {
        "id": "PFq_SsQcDb1r",
        "outputId": "cf565215-e4b9-4adc-d9f2-b03c4c36ce77",
        "colab": {
          "base_uri": "https://localhost:8080/",
          "height": 153
        }
      },
      "source": [
        "%matplotlib inline\n",
        "\n",
        "# calling our honor guest:\n",
        "tweets = pd.read_csv(\"/content/drive/My Drive/MertColab/proje3/tweets.csv\")\n",
        "\n",
        "# ...and she takes off her fancy fur coat and some other unnecessary ornaments \n",
        "tweets.drop(columns=[\"tweet_id\", \"airline_sentiment_gold\", \"name\", \n",
        "                     \"negativereason_gold\", \"retweet_count\", \"tweet_created\", \n",
        "                     \"tweet_coord\", \"tweet_created\", \"tweet_location\", \n",
        "                     \"user_timezone\"], \n",
        "            inplace=True)\n",
        "\n",
        "# We are going to clean the tweets to keep only the English words\n",
        "import re, string, nltk\n",
        "nltk.download('words')\n",
        "words = set(nltk.corpus.words.words())\n",
        "\n",
        "# The twitter accounts mentioned:\n",
        "set_them = set()\n",
        "for i in tweets.text:\n",
        "    search_them = re.search(r\"(^|[^@\\w])@(\\w{1,15})\\b\", i)\n",
        "    give_them = search_them.group().lower()\n",
        "    set_them.add(give_them)\n",
        "del set_them\n",
        "\n",
        "# These are the Twitter accounts we will remove:\n",
        "# @virginamerica, @united, @southwestair, @deltaassist, @usairways, @americanair\n",
        "\n",
        "def tweet_cleaner(tweet):\n",
        "    \"Symbols, numbers & airline brand cleaner function!\"\n",
        "    # First step: Symbols and numbers are gone:\n",
        "    cleaned_string = re.sub(\"[^a-zA-Z]\", \" \", tweet)\n",
        "\n",
        "    # Party people here speak only English. No other languages are allowed:\n",
        "    cleaned_string = \" \".join(w for w in nltk.wordpunct_tokenize(cleaned_string) \\\n",
        "         if w.lower() in words)\n",
        "\n",
        "    # Second step: Putting them to a list:\n",
        "    cleaned_set = set(cleaned_string.lower().split())\n",
        "    # Let's get rid of our meaningless one-letter friends: \n",
        "    what_to_clean = list(string.ascii_lowercase)\n",
        "    # ...and some of their drunk buddies:\n",
        "    what_to_clean.extend([\"it\", \"of\", \"co\", \"to\", \"http\"])\n",
        "    # We don't need any officials in our party as well:\n",
        "    what_to_clean.extend([\"virginamerica\", \"united\", \n",
        "                       \"southwestair\", \"deltaassist\",\n",
        "                       \"usairways\", \"americanair\"])\n",
        "    for delete in what_to_clean:\n",
        "        try:\n",
        "            cleaned_set.remove(delete)\n",
        "        except:\n",
        "            continue    \n",
        "    return list(cleaned_set)\n",
        "\n",
        "# We need to convert the \"airline_sentiment\" to numbers.\n",
        "for i,j in enumerate(tweets.airline_sentiment.unique()):\n",
        "    tweets.airline_sentiment = tweets.airline_sentiment.replace(j, i)\n",
        "tweets.airline_sentiment.astype(\"int64\")\n",
        "\n",
        "# We are going to collect all the words and give them binary inputs (1 or 0)\n",
        "# according to their entities in the tweets.\n",
        "all_words = set()\n",
        "rows=[]\n",
        "for i in tweets.index:\n",
        "    listed_tweet = tweet_cleaner(tweets.text[i])\n",
        "    rows.append(listed_tweet)\n",
        "    all_words.update(listed_tweet)\n",
        "\n",
        "# filling the data frame with binary values according to the words\n",
        "df_words = pd.DataFrame(0, columns=all_words, index=tweets.index)\n",
        "for i in tweets.index:\n",
        "    df_words.loc[i, rows[i]]=1\n",
        "\n",
        "# it's time to concatenate the data frames\n",
        "tweets = pd.concat([tweets, df_words], ignore_index=False, axis=\"columns\")\n",
        "\n",
        "# Linear Regression Models\n",
        "from sklearn.model_selection import RandomizedSearchCV\n",
        "from sklearn.model_selection import cross_validate, cross_val_score\n",
        "from sklearn.linear_model import LogisticRegression, LogisticRegressionCV\n",
        "\n",
        "X = tweets.iloc[:, 6:]\n",
        "y = tweets.airline_sentiment\n",
        "\n",
        "# split the set to train, validation & test\n",
        "np.random.seed(42)\n",
        "# random indices:\n",
        "random_arr = np.random.randint(0, X.shape[0], X.shape[0])\n",
        "# 60% of the data set:\n",
        "train_index = random_arr[:len(random_arr)*6//10]\n",
        "# 20% is for the validation\n",
        "validation_index = random_arr[(len(random_arr)*6//10):-len(random_arr)*2//10]\n",
        "# 20% is for the test set\n",
        "test_index = random_arr[-len(random_arr)*2//10:]\n",
        "\n",
        "X_train, X_val, X_test = (X.iloc[train_index, :], \n",
        "                          X.iloc[validation_index, :], \n",
        "                          X.iloc[test_index, :])\n",
        "y_train, y_val, y_test = y[train_index], y[validation_index], y[test_index]\n",
        "del random_arr, train_index, validation_index, test_index\n",
        "\n",
        "lr_model1 = LogisticRegression(C=0.1, solver=\"lbfgs\", max_iter=300, n_jobs=-1)\n",
        "lr_model1.fit(X_train, y_train)\n",
        "train_score_model1 = lr_model1.score(X_train, y_train)\n",
        "val_score_model1 = lr_model1.score(X_val, y_val)\n",
        "test_score_model1 = lr_model1.score(X_test, y_test)\n",
        "\n",
        "print(\"-----With 'lbfgs' solver-----\")\n",
        "print(\"\\nTrain accuracy score: {:.1f}%\".format(train_score_model1*100))\n",
        "print(\"Validation accuracy score: {:.1f}%\".format(val_score_model1*100))\n",
        "print(\"Test accuracy score: {:.1f}%\".format(test_score_model1*100), \"\\n\")"
      ],
      "execution_count": 39,
      "outputs": [
        {
          "output_type": "stream",
          "text": [
            "[nltk_data] Downloading package words to /root/nltk_data...\n",
            "[nltk_data]   Package words is already up-to-date!\n",
            "-----With 'lbfgs' solver-----\n",
            "\n",
            "Train accuracy score: 83.8%\n",
            "Validation accuracy score: 78.9%\n",
            "Test accuracy score: 79.1% \n",
            "\n"
          ],
          "name": "stdout"
        }
      ]
    },
    {
      "cell_type": "markdown",
      "metadata": {
        "id": "JQvn3ll9XSBa"
      },
      "source": [
        "***\n",
        "# Ödev 11.3 - Keras & TensorFlow'a Giriş (Project 3)"
      ]
    },
    {
      "cell_type": "code",
      "metadata": {
        "id": "f3DKGOs0jML0"
      },
      "source": [
        "from keras.utils.np_utils import to_categorical"
      ],
      "execution_count": null,
      "outputs": []
    },
    {
      "cell_type": "code",
      "metadata": {
        "id": "m9hdtRvYUfVP",
        "outputId": "d86d4107-a764-4f62-ce95-ebca2055a901",
        "colab": {
          "base_uri": "https://localhost:8080/",
          "height": 136
        }
      },
      "source": [
        "X_train = np.asarray(X_train)\n",
        "X_val = np.asarray(X_val)\n",
        "X_test = np.asarray(X_test)\n",
        "\n",
        "y_train = np.asarray(y_train)\n",
        "y_val = np.asarray(y_val)\n",
        "y_test = np.asarray(y_test)\n",
        "\n",
        "print(\"Shape of data sets (train, validation, test):\\nX_train:\", X_train.shape, \n",
        "      \"\\ny_train:\", y_train.shape)\n",
        "print(\"X_val:\", X_val.shape, \n",
        "      \"\\ny_val:\", y_val.shape)\n",
        "print(\"X_test:\", X_test.shape, \n",
        "      \"\\ny_test:\", y_test.shape)"
      ],
      "execution_count": 40,
      "outputs": [
        {
          "output_type": "stream",
          "text": [
            "Shape of data sets (train, validation, test):\n",
            "X_train: (8784, 5361) \n",
            "y_train: (8784,)\n",
            "X_val: (2928, 5361) \n",
            "y_val: (2928,)\n",
            "X_test: (2928, 5361) \n",
            "y_test: (2928,)\n"
          ],
          "name": "stdout"
        }
      ]
    },
    {
      "cell_type": "code",
      "metadata": {
        "id": "7L6bkMRRUiD7",
        "outputId": "df67a2ee-1f1c-42a3-a85c-8ecdaa69c05f",
        "colab": {
          "base_uri": "https://localhost:8080/",
          "height": 323
        }
      },
      "source": [
        "# Model for Project 3\n",
        "model3 = models.Sequential()\n",
        "model3.add(layers.Dense(units=64, \n",
        "                        activation=\"relu\", \n",
        "                        input_shape=(X_train.shape[1], ), \n",
        "                        name=\"Hidden_Layer_1\"))\n",
        "model3.add(layers.Dropout(0.5))\n",
        "model3.add(layers.Dense(units=64, \n",
        "                        activation=\"relu\", \n",
        "                        name=\"Hidden_Layer_2\"))\n",
        "model3.add(layers.Dropout(0.5))\n",
        "model3.add(layers.Dense(units=3, \n",
        "                        activation=\"softmax\",\n",
        "                        name=\"Output_Layer\"))\n",
        "# try changing optimizer's learning rate, momentum etc.\n",
        "model3.compile(optimizer=\"adam\", \n",
        "               loss=\"sparse_categorical_crossentropy\", \n",
        "               metrics=[\"accuracy\"])\n",
        "model3.summary()"
      ],
      "execution_count": 49,
      "outputs": [
        {
          "output_type": "stream",
          "text": [
            "Model: \"sequential_7\"\n",
            "_________________________________________________________________\n",
            "Layer (type)                 Output Shape              Param #   \n",
            "=================================================================\n",
            "Hidden_Layer_1 (Dense)       (None, 64)                343168    \n",
            "_________________________________________________________________\n",
            "dropout_6 (Dropout)          (None, 64)                0         \n",
            "_________________________________________________________________\n",
            "Hidden_Layer_2 (Dense)       (None, 64)                4160      \n",
            "_________________________________________________________________\n",
            "dropout_7 (Dropout)          (None, 64)                0         \n",
            "_________________________________________________________________\n",
            "Output_Layer (Dense)         (None, 3)                 195       \n",
            "=================================================================\n",
            "Total params: 347,523\n",
            "Trainable params: 347,523\n",
            "Non-trainable params: 0\n",
            "_________________________________________________________________\n"
          ],
          "name": "stdout"
        }
      ]
    },
    {
      "cell_type": "code",
      "metadata": {
        "id": "GSV26axwYW8u"
      },
      "source": [
        "history3 = model3.fit(X_train, y_train, \n",
        "                      epochs=30,\n",
        "                      batch_size=128, \n",
        "                      validation_data=(X_val, y_val),\n",
        "                      shuffle=True,\n",
        "                      verbose=False)\n",
        "\n",
        "# loss and MAE values of the model\n",
        "history_dict = history3.history\n",
        "train_loss = history_dict[\"loss\"]\n",
        "val_loss = history_dict[\"val_loss\"]\n",
        "train_acc = history_dict[\"accuracy\"]\n",
        "val_acc = history_dict[\"val_accuracy\"]"
      ],
      "execution_count": 50,
      "outputs": []
    },
    {
      "cell_type": "code",
      "metadata": {
        "id": "iDItGWxGUnlT",
        "outputId": "35e2d859-7e10-4748-8e54-ad4dd57af75a",
        "colab": {
          "base_uri": "https://localhost:8080/",
          "height": 508
        }
      },
      "source": [
        "# cosmetic configuration\n",
        "%matplotlib inline\n",
        "sns.set(style=\"whitegrid\")\n",
        "title_font = {\"family\":\"sans\", \n",
        "              \"color\":\"darkred\", \n",
        "              \"size\":30, \n",
        "              \"weight\":\"bold\", \n",
        "              \"alpha\":0.9}\n",
        "axis_font = {\"family\":\"sans-serif\", \n",
        "              \"color\":\"black\", \n",
        "              \"size\":16, \n",
        "              \"weight\":\"bold\"}\n",
        "\n",
        "# plot the graphs\n",
        "plt.figure(figsize=(20,8))\n",
        "#plt.suptitle(\"Change in Values w.r.t Epochs\", fontdict=title_font)\n",
        "plt.subplot(1,2,1)\n",
        "plt.plot(range(1, len(train_acc)+1), train_acc, \n",
        "         color=\"darkgreen\", linewidth=2, label=\"Train Set\")\n",
        "plt.plot(range(1, len(val_acc)+1), val_acc, \n",
        "        \"r--\", linewidth=2, label=\"Valdation Set\")\n",
        "plt.xlabel(\"Epochs\", fontdict=axis_font)\n",
        "plt.ylabel(\"Accuracy Value\", fontdict=axis_font)\n",
        "plt.legend(fontsize=\"medium\", loc=(0.7,0.25))\n",
        "\n",
        "plt.subplot(1,2,2)\n",
        "plt.plot(range(1, len(train_loss)+1), train_loss, \n",
        "         color=\"darkgreen\", linewidth=2, label=\"Train Set\")\n",
        "plt.plot(range(1, len(val_loss)+1), val_loss, \n",
        "        \"r--\", linewidth=2, label=\"Validation Set\")\n",
        "plt.xlabel(\"Epochs\", fontdict=axis_font)\n",
        "plt.ylabel(\"Loss Value\", fontdict=axis_font)\n",
        "plt.legend(fontsize=\"medium\", loc=(0.7,0.25))\n",
        "\n",
        "plt.show()"
      ],
      "execution_count": 51,
      "outputs": [
        {
          "output_type": "display_data",
          "data": {
            "image/png": "[encoded data removed]",
            "text/plain": [
              "<Figure size 1440x576 with 2 Axes>"
            ]
          },
          "metadata": {
            "tags": []
          }
        }
      ]
    },
    {
      "cell_type": "code",
      "metadata": {
        "id": "CzYP6Ousmv8X",
        "outputId": "b6150dd0-1e32-4719-97ad-9f238742dfb0",
        "colab": {
          "base_uri": "https://localhost:8080/",
          "height": 85
        }
      },
      "source": [
        "# let's reduce the epochs to 5\n",
        "history3 = model3.fit(X_train, y_train, \n",
        "                      epochs=5,\n",
        "                      batch_size=128, \n",
        "                      validation_data=(X_val, y_val),\n",
        "                      shuffle=True,\n",
        "                      verbose=False)\n",
        "print(\"Evaluating train set:\")\n",
        "train_evaluate = model3.evaluate(X_train, y_train, \n",
        "                                 return_dict=True)\n",
        "print(\"Evaluating validation set:\")\n",
        "test_evaluate = model3.evaluate(X_val, y_val,\n",
        "                                return_dict=1)"
      ],
      "execution_count": 52,
      "outputs": [
        {
          "output_type": "stream",
          "text": [
            "Evaluating train set:\n",
            "275/275 [==============================] - 1s 2ms/step - loss: 0.0241 - accuracy: 0.9912\n",
            "Evaluating validation set:\n",
            "92/92 [==============================] - 0s 2ms/step - loss: 0.9072 - accuracy: 0.8579\n"
          ],
          "name": "stdout"
        }
      ]
    },
    {
      "cell_type": "code",
      "metadata": {
        "id": "uFKs7dHPmxeK",
        "outputId": "c4b339c0-1648-4b07-f3ba-ef80af2e095b",
        "colab": {
          "base_uri": "https://localhost:8080/",
          "height": 51
        }
      },
      "source": [
        "print(\"Evaluating test set:\")\n",
        "test_evaluate = model3.evaluate(X_test, y_test,\n",
        "                                return_dict=1)"
      ],
      "execution_count": 53,
      "outputs": [
        {
          "output_type": "stream",
          "text": [
            "Evaluating test set:\n",
            "92/92 [==============================] - 0s 2ms/step - loss: 0.9309 - accuracy: 0.8617\n"
          ],
          "name": "stdout"
        }
      ]
    },
    {
      "cell_type": "markdown",
      "metadata": {
        "id": "vHVTiYpArBMG"
      },
      "source": [
        "---\n",
        "---\n",
        "---\n",
        "# Comments:"
      ]
    },
    {
      "cell_type": "markdown",
      "metadata": {
        "id": "1iskTtD_rOzL"
      },
      "source": [
        "## Project 2:\n",
        "* Adjusted R-square value of Lasso Model: 0.576\n",
        "    * Mean Absolute Error (Test Set): 5.63\n",
        "* Artificial Neural Network score:\n",
        "    * Mean Absolute Error (Test Set): 5.45\n",
        "\n",
        "## Project 3:\n",
        "* With 'lbfgs' solver:\n",
        "    * Test accuracy score: 79.1% \n",
        "* Artificial Neural Network score:\n",
        "    * Test accuracy score: 86.2% "
      ]
    }
  ]
}