{
 "cells": [
  {
   "cell_type": "code",
   "execution_count": 83,
   "metadata": {},
   "outputs": [],
   "source": [
    "import numpy as np\n",
    "import cv2\n",
    "import os\n",
    "import cvlib as cv\n",
    "from keras.preprocessing.image import img_to_array\n",
    "from keras.models import load_model"
   ]
  },
  {
   "cell_type": "code",
   "execution_count": 84,
   "metadata": {},
   "outputs": [],
   "source": [
    "def getClassName(classIndex):\n",
    "    \"A basic function to get the class name.\"\n",
    "    if classIndex==0:\n",
    "        return \"Sad\"\n",
    "    \n",
    "    elif classIndex==1:\n",
    "        return \"Shocked\"\n",
    "    \n",
    "    elif classIndex==2:\n",
    "        return \"Happy\""
   ]
  },
  {
   "cell_type": "code",
   "execution_count": 85,
   "metadata": {},
   "outputs": [],
   "source": [
    "model = load_model(\"final_model.h5\") # Loading the pretrained model to predict"
   ]
  },
  {
   "cell_type": "markdown",
   "metadata": {},
   "source": [
    "***"
   ]
  },
  {
   "cell_type": "code",
   "execution_count": 137,
   "metadata": {},
   "outputs": [],
   "source": [
    "facess = cv2.imread(\"sad.jpg\")\n",
    "facess = cv.detect_face(facess)"
   ]
  },
  {
   "cell_type": "code",
   "execution_count": 141,
   "metadata": {},
   "outputs": [
    {
     "data": {
      "text/plain": [
       "[270, 543, 427, 795]"
      ]
     },
     "execution_count": 141,
     "metadata": {},
     "output_type": "execute_result"
    }
   ],
   "source": [
    "facess[0][3]"
   ]
  },
  {
   "cell_type": "code",
   "execution_count": null,
   "metadata": {},
   "outputs": [],
   "source": [
    "# başka bir face_detection mekanizması bul."
   ]
  },
  {
   "cell_type": "markdown",
   "metadata": {},
   "source": [
    "***"
   ]
  },
  {
   "cell_type": "code",
   "execution_count": 142,
   "metadata": {},
   "outputs": [],
   "source": [
    "cap = cv2.VideoCapture(0)\n",
    "rect_color = (0,255,0)\n",
    "# Above^ Class instance for video capturing.\n",
    "# If a video name is entered, captures the specified video.\n",
    "\n",
    "threshold = 0.80 * 100\n",
    "\n",
    "while cap.isOpened(): # Repeats until the key \"q\" is pressed.\n",
    "    \n",
    "    ret, frame = cap.read() # Starts capturing. \n",
    "    # ret is True or False to represent if capturing is successful.\n",
    "    # frame is the image to process.\n",
    "    if not ret:\n",
    "        print(\"Can't receive the frame.\")\n",
    "        break\n",
    "        \n",
    "    # FACE RECOGNITION    \n",
    "    # Note: input image (numpy array, BGR order, dtype - uint8)\n",
    "    faces, confidences = cv.detect_face(frame)\n",
    "    \n",
    "    \n",
    "    for _, f in enumerate(faces):\n",
    "        # corner points: \n",
    "        (X0, Y0) = (f[0], f[1])    # 0: bottom left points\n",
    "        (X1, Y1) = (f[2], f[3])    # 1: top right points\n",
    "        \n",
    "        cv2.rectangle(img=frame, \n",
    "                      pt1=(X0, Y0), \n",
    "                      pt2=(X1, Y1), \n",
    "                      color=rect_color, \n",
    "                      thickness=2)\n",
    "        cropped_frame = np.copy(frame[Y0:Y1, X0:X1])\n",
    "\n",
    "        if (cropped_frame.shape[0]) < 10 or (cropped_frame.shape[1]) < 10:\n",
    "            continue\n",
    "    \n",
    "        # preprocessing on the cropped frame\n",
    "        cropped_frame = cv2.resize(cropped_frame, (64,64))\n",
    "        cropped_frame = cropped_frame.astype(\"float64\") / 255.0\n",
    "        cropped_frame = np.expand_dims(cropped_frame, axis=0)\n",
    "        confidences = model.predict(cropped_frame)[0]    # Probability values for all classes\n",
    "        max_probability = max(confidences)*100\n",
    "        classIndex = np.argmax(confidences)\n",
    "        className = getClassName(classIndex)\n",
    "\n",
    "\n",
    "\n",
    "        if max_prob > threshold:\n",
    "            frame_text = f\"Sentiment: {className} ({max_probability:.2f}%)\"\n",
    "            if className == \"Shocked\":\n",
    "                rect_color = text_color = (0, 255, 255)\n",
    "            elif className == \"Sad\":\n",
    "                rect_color = text_color = (255, 255, 0)\n",
    "            else:\n",
    "                rect_color = text_color = (0, 255, 0)\n",
    "        else:\n",
    "            frame_text = \"Reading...\"\n",
    "\n",
    "        Y0 = (Y0 - 10) if (Y0 - 10) > 10 else (Y0 + 10)\n",
    "        cv2.putText(img=frame, \n",
    "                    text=frame_text, \n",
    "                    org=(X0, Y0), \n",
    "                    fontFace=cv2.FONT_HERSHEY_TRIPLEX, \n",
    "                    fontScale=0.6, \n",
    "                    color=text_color, \n",
    "                    thickness=2)  \n",
    "    \n",
    "    cv2.imshow(\"Face_Sentiment\", frame) # Showing the video. Window's name is \"Face_Sentiment\"\n",
    "    \n",
    "    if cv2.waitKey(1) > 0:    # Repeats until the key \"q\" is pressed.\n",
    "        break\n",
    "\n",
    "cap.release() # Releases the camera after a key is pressed\n",
    "cv2.destroyWindow(\"Face_Sentiment\") # Closes the window named \"Face_Sentiment\"\n",
    "# cv2.waitKey() # Necessary for not having trouble with the closing window"
   ]
  },
  {
   "cell_type": "code",
   "execution_count": 58,
   "metadata": {
    "scrolled": true
   },
   "outputs": [
    {
     "name": "stdout",
     "output_type": "stream",
     "text": [
      "[[3.5308785e-05 9.9714428e-01 2.8203626e-03]]\n",
      "Shocked\n"
     ]
    }
   ],
   "source": [
    "print(model.predict(img_shock_numpy))\n",
    "print(getClassName(np.argmax(model.predict(img_shock_numpy), axis=-1)))"
   ]
  },
  {
   "cell_type": "code",
   "execution_count": 59,
   "metadata": {},
   "outputs": [
    {
     "name": "stdout",
     "output_type": "stream",
     "text": [
      "[[2.7099004e-04 3.6971833e-04 9.9935931e-01]]\n",
      "Happy\n"
     ]
    }
   ],
   "source": [
    "print(model.predict(img_happy_numpy))\n",
    "print(getClassName(np.argmax(model.predict(img_happy_numpy), axis=-1)))"
   ]
  },
  {
   "cell_type": "code",
   "execution_count": 60,
   "metadata": {},
   "outputs": [
    {
     "name": "stdout",
     "output_type": "stream",
     "text": [
      "[[5.6500215e-14 3.4709935e-04 9.9965286e-01]]\n",
      "Happy\n"
     ]
    }
   ],
   "source": [
    "# false img. a rose picture\n",
    "print(model.predict(img_false_numpy))\n",
    "print(getClassName(np.argmax(model.predict(img_false_numpy), axis=-1)))"
   ]
  },
  {
   "cell_type": "markdown",
   "metadata": {},
   "source": [
    "***\n",
    "***"
   ]
  },
  {
   "cell_type": "code",
   "execution_count": 29,
   "metadata": {
    "scrolled": true
   },
   "outputs": [],
   "source": [
    "cap.release()"
   ]
  },
  {
   "cell_type": "code",
   "execution_count": null,
   "metadata": {},
   "outputs": [],
   "source": [
    "frame.shape"
   ]
  },
  {
   "cell_type": "code",
   "execution_count": null,
   "metadata": {
    "scrolled": true
   },
   "outputs": [],
   "source": [
    "yy.shape"
   ]
  }
 ],
 "metadata": {
  "kernelspec": {
   "display_name": "Python 3",
   "language": "python",
   "name": "python3"
  },
  "language_info": {
   "codemirror_mode": {
    "name": "ipython",
    "version": 3
   },
   "file_extension": ".py",
   "mimetype": "text/x-python",
   "name": "python",
   "nbconvert_exporter": "python",
   "pygments_lexer": "ipython3",
   "version": "3.8.5"
  }
 },
 "nbformat": 4,
 "nbformat_minor": 4
}
