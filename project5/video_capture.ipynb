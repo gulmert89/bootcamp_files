{
 "cells": [
  {
   "cell_type": "code",
   "execution_count": 2,
   "metadata": {},
   "outputs": [],
   "source": [
    "import cv2\n",
    "import numpy as np\n",
    "from keras.models import load_model"
   ]
  },
  {
   "cell_type": "code",
   "execution_count": 3,
   "metadata": {},
   "outputs": [],
   "source": [
    "def getClassName(classIndex): # Function to get class name\n",
    "    \n",
    "    if classIndex==0:\n",
    "        return \"Sad\"\n",
    "    \n",
    "    elif classIndex==1:\n",
    "        return \"Shocked\"\n",
    "    \n",
    "    elif classIndex==2:\n",
    "        return \"Happy\""
   ]
  },
  {
   "cell_type": "code",
   "execution_count": 4,
   "metadata": {},
   "outputs": [],
   "source": [
    "threshold=0.75 # Threshold value for writing on video\n",
    "\n",
    "model = load_model(\"model54.h5\") # Loading the pretrained model to predict"
   ]
  },
  {
   "cell_type": "code",
   "execution_count": 19,
   "metadata": {},
   "outputs": [],
   "source": [
    "cap = cv2.VideoCapture(0) # Class instance for video capturing. If a video name is entered, captures the specified video.\n",
    "\n",
    "while True: # Repeats until the key \"q\" is pressed.\n",
    "    \n",
    "    ret, frame = cap.read() # Starts capturing. \n",
    "    # ret is True or False to represent if capturing is successful.\n",
    "    # frame is the image to process.\n",
    "    \n",
    "    if not ret:\n",
    "        print(\"Can't receive the frame.\")\n",
    "        break\n",
    "      \n",
    "    frame_model = cv2.resize(frame, (64,64))\n",
    "    frame_model = np.expand_dims(frame_model, axis=0)\n",
    "    predictions = model.predict(frame_model) # Probability values for all classes\n",
    "    classIndex = model.predict_classes(frame_model) # Predicted class\n",
    "    className = getClassName(classIndex) # Gets class name to write on video\n",
    "    #probabilityValue = max(predictions) # Probability value for the predicted class.\n",
    "    # As known, predicted class has the highest probability.\n",
    "    \n",
    "    #if probabilityValue > threshold: # Writes on video if probability is greater than the threshold\n",
    "    cv2.putText(frame, \"Sentiment: {} - {}\".format(classIndex, className), # First line on video\n",
    "                    (20,25), cv2.FONT_HERSHEY_SIMPLEX, 0.6, (0,0,255), 2)\n",
    "        \n",
    "    #    cv2.putText(frame, \"Probability: {}\".format(probabilityValue), # Second line on video\n",
    "    #                (20,50), cv2.FONT_HERSHEY_SIMPLEX, 0.6, (0,0,255), 2)\n",
    "     \n",
    "    cv2.imshow(\"Face_Sentiment\", frame) # Showing the video. Window's name is \"Face_Sentiment\"\n",
    "    \n",
    "    if cv2.waitKey(1) == ord(\"q\"):    # Repeats until the key \"q\" is pressed.\n",
    "        break\n",
    "\n",
    "cap.release() # Releases the camera after a key is pressed\n",
    "cv2.destroyWindow(\"Face_Sentiment\") # Closes the window named \"Face_Sentiment\"\n",
    "# cv2.waitKey() # Necessary for not having trouble with the closing window"
   ]
  }
 ],
 "metadata": {
  "kernelspec": {
   "display_name": "Python 3",
   "language": "python",
   "name": "python3"
  },
  "language_info": {
   "codemirror_mode": {
    "name": "ipython",
    "version": 3
   },
   "file_extension": ".py",
   "mimetype": "text/x-python",
   "name": "python",
   "nbconvert_exporter": "python",
   "pygments_lexer": "ipython3",
   "version": "3.8.5"
  }
 },
 "nbformat": 4,
 "nbformat_minor": 4
}
